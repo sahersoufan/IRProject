{
 "cells": [
  {
   "cell_type": "markdown",
   "metadata": {},
   "source": [
    "# CISI Word Embedding"
   ]
  },
  {
   "cell_type": "markdown",
   "metadata": {},
   "source": [
    "## distribute data"
   ]
  },
  {
   "cell_type": "code",
   "execution_count": null,
   "metadata": {},
   "outputs": [],
   "source": [
    "CISIDATA = '../../../../CISI/CISI.ALL'\n",
    "import re\n",
    "IDMarker = re.compile('(\\.I.)')\n",
    "allMarkers = re.compile('(\\.[ITABWX] )')"
   ]
  },
  {
   "cell_type": "code",
   "execution_count": null,
   "metadata": {},
   "outputs": [],
   "source": [
    "CISIQUERY = '../../../../CISI/CISI.QRY'\n",
    "CISIQRELS = '../../../../CISI/CISI.REL'\n",
    "import re\n",
    "queryMarkers = re.compile('(\\.[ITAWB] )')"
   ]
  },
  {
   "cell_type": "code",
   "execution_count": null,
   "metadata": {},
   "outputs": [],
   "source": [
    "def getData(PATH, marker):\n",
    "    \"\"\"get the data from the file and split it by ID\"\"\"\n",
    "    with open(PATH, 'r') as f:\n",
    "        t = f.read().replace('\\n', ' ')\n",
    "        lines = re.split(marker, t)\n",
    "        lines.pop(0)\n",
    "    return lines"
   ]
  },
  {
   "cell_type": "markdown",
   "metadata": {},
   "source": [
    "### cisi data"
   ]
  },
  {
   "cell_type": "code",
   "execution_count": null,
   "metadata": {},
   "outputs": [],
   "source": [
    "cisiData = getData(CISIDATA, allMarkers)"
   ]
  },
  {
   "cell_type": "code",
   "execution_count": null,
   "metadata": {},
   "outputs": [],
   "source": [
    "import pandas as pd\n",
    "dataFrame = pd.DataFrame()\n",
    "seriesDict:dict = {\n",
    "    '.I': None,\n",
    "    '.T': None,\n",
    "    '.A': None,\n",
    "    '.B': None,\n",
    "    '.W': None,\n",
    "    '.X': None\n",
    "}\n",
    "seriesData = seriesDict.copy()\n",
    "notTheFirst = False\n",
    "for i in range(0, len(cisiData), 2):\n",
    "    if (notTheFirst and cisiData[i].strip() == '.I'):\n",
    "        dataFrame = dataFrame.append(seriesData, ignore_index=True)\n",
    "        seriesData = seriesDict.copy()\n",
    "    \n",
    "    seriesData[cisiData[i].strip()] = cisiData[i+1].strip()\n",
    "    notTheFirst = True\n",
    "dataFrame = dataFrame.append(seriesData, ignore_index=True)\n",
    "dataFrame.head()"
   ]
  },
  {
   "cell_type": "code",
   "execution_count": null,
   "metadata": {},
   "outputs": [],
   "source": [
    "dataFrame.to_csv('../../cisiData/cisiCsvWE.csv')"
   ]
  },
  {
   "cell_type": "markdown",
   "metadata": {},
   "source": [
    "### query"
   ]
  },
  {
   "cell_type": "code",
   "execution_count": null,
   "metadata": {},
   "outputs": [],
   "source": [
    "cisiQuery = getData(CISIQUERY, queryMarkers)"
   ]
  },
  {
   "cell_type": "code",
   "execution_count": null,
   "metadata": {},
   "outputs": [],
   "source": [
    "import pandas as pd\n",
    "qDataFrame = pd.DataFrame()\n",
    "seriesDict:dict = {\n",
    "    '.I': None,\n",
    "    '.T': None,\n",
    "    '.A': None,\n",
    "    '.W': None,\n",
    "    '.B': None\n",
    "}\n",
    "seriesData = seriesDict.copy()\n",
    "notTheFirst = False\n",
    "for i in range(0, len(cisiQuery), 2):\n",
    "    if (notTheFirst and cisiQuery[i].strip() == '.I'):\n",
    "        qDataFrame = qDataFrame.append(seriesData, ignore_index=True)\n",
    "        seriesData = seriesDict.copy()\n",
    "    \n",
    "    seriesData[cisiQuery[i].strip()] = cisiQuery[i+1].strip()\n",
    "    notTheFirst = True\n",
    "qDataFrame = qDataFrame.append(seriesData, ignore_index=True)\n",
    "qDataFrame.head()"
   ]
  },
  {
   "cell_type": "code",
   "execution_count": null,
   "metadata": {},
   "outputs": [],
   "source": [
    "qDataFrame.to_csv('../../cisiData/cisiQueryCsvWE.csv')"
   ]
  },
  {
   "cell_type": "markdown",
   "metadata": {},
   "source": [
    "### query rel"
   ]
  },
  {
   "cell_type": "code",
   "execution_count": null,
   "metadata": {},
   "outputs": [],
   "source": [
    "import pandas as pd\n",
    "\n",
    "def getRles(path):\n",
    "    with open(path, 'r') as f:\n",
    "        global qrlesList\n",
    "        qrlesList = f.read().split('\\n')\n",
    "        return qrlesList\n",
    "\n",
    "\n",
    "\n",
    "qrelsData = getRles(CISIQRELS)\n",
    "qrelsFrame = pd.DataFrame(columns=['.I', 'data'])\n",
    "seriesDict:dict = {'.I':None, 'data':None}\n",
    "seriesData = seriesDict.copy()\n",
    "for i in qrelsData:\n",
    "    try:\n",
    "        element = i.split()\n",
    "        seriesData['.I'] = int(element[0])\n",
    "        seriesData['data'] = int(element[1])\n",
    "        qrelsFrame = qrelsFrame.append(seriesData, ignore_index=True)\n",
    "    except:\n",
    "        pass\n",
    "qrelsFrame.head()"
   ]
  },
  {
   "cell_type": "code",
   "execution_count": null,
   "metadata": {},
   "outputs": [],
   "source": [
    "qrelsFrame.to_csv('../../cisiData/cisiQRelsWE.csv')"
   ]
  },
  {
   "cell_type": "markdown",
   "metadata": {},
   "source": [
    "## data preprocessing"
   ]
  },
  {
   "cell_type": "markdown",
   "metadata": {},
   "source": [
    "### cleanning"
   ]
  },
  {
   "cell_type": "code",
   "execution_count": null,
   "metadata": {},
   "outputs": [],
   "source": [
    "import pandas as pd\n",
    "df = pd.read_csv('../../cisiData/cisiCsvWE.csv', index_col=[0])\n",
    "df.head()"
   ]
  },
  {
   "cell_type": "code",
   "execution_count": null,
   "metadata": {},
   "outputs": [],
   "source": [
    "df.describe()"
   ]
  },
  {
   "cell_type": "code",
   "execution_count": null,
   "metadata": {},
   "outputs": [],
   "source": [
    "df.info()"
   ]
  },
  {
   "cell_type": "code",
   "execution_count": null,
   "metadata": {},
   "outputs": [],
   "source": [
    "print(df.loc[:,'.T'].isnull().value_counts(), end='\\n\\n')\n",
    "print(df.loc[:,'.W'].isnull().value_counts(), end='\\n\\n')\n",
    "print(df.loc[:,'.A'].isnull().value_counts())"
   ]
  },
  {
   "cell_type": "code",
   "execution_count": null,
   "metadata": {},
   "outputs": [],
   "source": [
    "df.fillna('', inplace=True)"
   ]
  },
  {
   "cell_type": "code",
   "execution_count": null,
   "metadata": {},
   "outputs": [],
   "source": [
    "df.duplicated().value_counts()"
   ]
  },
  {
   "cell_type": "code",
   "execution_count": null,
   "metadata": {},
   "outputs": [],
   "source": [
    "df.to_csv('../../cisiData/cisiDataCleanedWE.csv')"
   ]
  },
  {
   "cell_type": "markdown",
   "metadata": {},
   "source": [
    "### methods"
   ]
  },
  {
   "cell_type": "markdown",
   "metadata": {},
   "source": [
    "#### lower case"
   ]
  },
  {
   "cell_type": "code",
   "execution_count": null,
   "metadata": {},
   "outputs": [],
   "source": [
    "def toLower(text):\n",
    "    return text.lower()"
   ]
  },
  {
   "cell_type": "markdown",
   "metadata": {},
   "source": [
    "#### remove puntuation"
   ]
  },
  {
   "cell_type": "code",
   "execution_count": null,
   "metadata": {},
   "outputs": [],
   "source": [
    "import string\n",
    "translator = str.maketrans(string.punctuation,' '*len(string.punctuation))\n",
    "def removePunctuation(text):\n",
    "    global translator\n",
    "    return text.translate(translator)\n"
   ]
  },
  {
   "cell_type": "markdown",
   "metadata": {},
   "source": [
    "#### remove whitespaces"
   ]
  },
  {
   "cell_type": "code",
   "execution_count": null,
   "metadata": {},
   "outputs": [],
   "source": [
    "def removeWhiteSpace(text):\n",
    "    return \" \".join(text.split())"
   ]
  },
  {
   "cell_type": "markdown",
   "metadata": {},
   "source": [
    "### cici.all process"
   ]
  },
  {
   "cell_type": "code",
   "execution_count": null,
   "metadata": {},
   "outputs": [],
   "source": [
    "import pandas as pd\n",
    "import re\n",
    "\n",
    "def TitlePreProcesse(t):\n",
    "    tempText = t\n",
    "    tempText = toLower(t)\n",
    "    tempText = removePunctuation(tempText)\n",
    "    tempText = removeWhiteSpace(tempText)\n",
    "    return tempText\n",
    "\n",
    "def abstractPreProcesse(a):\n",
    "    tempText = a\n",
    "    tempText = toLower(a)\n",
    "    tempText = removePunctuation(tempText)\n",
    "    tempText = removeWhiteSpace(tempText)\n",
    "\n",
    "    return tempText\n",
    "\n",
    "def publicationPreProcesse(p): \n",
    "    try:\n",
    "        return pd.to_datetime(p)\n",
    "    except:\n",
    "        return None\n",
    "    \n",
    "def authorPreProcesse(a):\n",
    "    tempText = a\n",
    "    tempText = toLower(a)\n",
    "\n",
    "    lis = tempText.split(' ')\n",
    "    names = ' '\n",
    "    l = []\n",
    "    for word in lis:\n",
    "      if ',' in word:\n",
    "          l.append(removePunctuation(word.replace(',','')))\n",
    "    names = ' '.join(l)\n",
    "    return names\n"
   ]
  },
  {
   "cell_type": "code",
   "execution_count": null,
   "metadata": {},
   "outputs": [],
   "source": [
    "import pandas as pd\n",
    "def preprocessedData(dataFrame:pd.DataFrame):\n",
    "    pdataFrame = pd.DataFrame()\n",
    "    seriesDict:dict = {} \n",
    "    for i in dataFrame.index:\n",
    "        try:\n",
    "            tempT = tempA = tempW = ''\n",
    "            tempB = None\n",
    "            if not dataFrame.loc[i, '.T'] == '':\n",
    "                tempT = TitlePreProcesse(dataFrame.loc[i, '.T'])\n",
    "            if not dataFrame.loc[i, '.A'] == '':\n",
    "                tempA = authorPreProcesse(dataFrame.loc[i, '.A'])\n",
    "            if not dataFrame.loc[i, '.B'] == '':\n",
    "                tempB = publicationPreProcesse(dataFrame.loc[i, '.B'])\n",
    "            if not dataFrame.loc[i, '.W'] == '':\n",
    "                tempW = abstractPreProcesse(dataFrame.loc[i, '.W'])\n",
    "\n",
    "            seriesDict['.I'] = i +1\n",
    "            seriesDict['data'] = ' '.join([tempT, tempA, tempW])\n",
    "            seriesDict['.B'] = tempB\n",
    "            \n",
    "            pdataFrame = pdataFrame.append(seriesDict, ignore_index=True)\n",
    "            seriesDict = {}\n",
    "        except:\n",
    "            print(i)\n",
    "            raise \n",
    "    pdataFrame.fillna('', inplace=True)\n",
    "    return pdataFrame\n"
   ]
  },
  {
   "cell_type": "code",
   "execution_count": null,
   "metadata": {},
   "outputs": [],
   "source": [
    "import pandas as pd\n",
    "data = pd.read_csv('../../cisiData/cisiDataCleanedWE.csv', index_col=[0])\n",
    "data.fillna('', inplace=True)\n",
    "data.head()"
   ]
  },
  {
   "cell_type": "code",
   "execution_count": null,
   "metadata": {},
   "outputs": [],
   "source": [
    "processedDAta = preprocessedData(data)\n",
    "processedDAta.head()"
   ]
  },
  {
   "cell_type": "code",
   "execution_count": null,
   "metadata": {},
   "outputs": [],
   "source": [
    "processedDAta.to_csv('../../cisiData/cisiDataPreprocessedWE.csv')"
   ]
  },
  {
   "cell_type": "markdown",
   "metadata": {},
   "source": [
    "### CISI.QRY process"
   ]
  },
  {
   "cell_type": "code",
   "execution_count": null,
   "metadata": {},
   "outputs": [],
   "source": [
    "import pandas as pd\n",
    "import re\n",
    "\n",
    "\n",
    "def qTitlePreProcesse(t):\n",
    "    tempText = t\n",
    "    tempText = toLower(tempText)\n",
    "    tempText = removePunctuation(tempText)\n",
    "    tempText = removeWhiteSpace(tempText)\n",
    "    return tempText\n",
    "\n",
    "def qAbstractPreProcesse(a):\n",
    "    tempText = a\n",
    "    tempText = toLower(tempText)\n",
    "    tempText = removePunctuation(tempText)\n",
    "    tempText = removeWhiteSpace(tempText)\n",
    "    return tempText\n",
    "\n",
    "def qAuthorPreProcesse(a):\n",
    "    tempText = a\n",
    "    tempText = toLower(tempText)\n",
    "    lis = tempText.split(' ')\n",
    "    names = ' '\n",
    "    l = []\n",
    "    for word in lis:\n",
    "      if ',' in word:\n",
    "          l.append(removePunctuation(word.replace(',','')))\n",
    "    names = ' '.join(l)\n",
    "    return names\n",
    "\n",
    "\n",
    "regexPub = r'[0-9]{4}'\n",
    "\n",
    "def qPublicationPreProcesse(p):\n",
    "    tempText = p.split(',')[3]\n",
    "    try:\n",
    "        return pd.to_datetime(tempText)\n",
    "    except TypeError:\n",
    "        return pd.to_datetime(str(re.search(regexPub, tempText)))\n",
    "    except:\n",
    "        return None\n"
   ]
  },
  {
   "cell_type": "code",
   "execution_count": null,
   "metadata": {},
   "outputs": [],
   "source": [
    "import pandas as pd\n",
    "def preprocesseQuery(dataFrame:pd.DataFrame):\n",
    "    qdataFrame = pd.DataFrame()\n",
    "    seriesDict:dict = {} \n",
    "    for i in dataFrame.index:\n",
    "        try:\n",
    "            tempT = tempA = tempW = ''\n",
    "            tempB = None\n",
    "            if not dataFrame.loc[i, '.T'] == '':\n",
    "                tempT = TitlePreProcesse(dataFrame.loc[i, '.T'])\n",
    "            if not dataFrame.loc[i, '.A'] == '':\n",
    "                tempA = authorPreProcesse(dataFrame.loc[i, '.A'])\n",
    "            if not dataFrame.loc[i, '.B'] == '':\n",
    "                tempB = publicationPreProcesse(dataFrame.loc[i, '.B'])\n",
    "            if not dataFrame.loc[i, '.W'] == '':\n",
    "                tempW = abstractPreProcesse(dataFrame.loc[i, '.W'])\n",
    "\n",
    "            seriesDict['.I'] = i + 1\n",
    "            seriesDict['data'] = ' '.join([tempT, tempA, tempW])\n",
    "            seriesDict['.B'] = tempB\n",
    "            \n",
    "            qdataFrame = qdataFrame.append(seriesDict, ignore_index=True)\n",
    "            seriesDict = {}\n",
    "        except:\n",
    "            print(i)\n",
    "            raise \n",
    "    qdataFrame.fillna('', inplace=True)\n",
    "    return qdataFrame\n"
   ]
  },
  {
   "cell_type": "code",
   "execution_count": null,
   "metadata": {},
   "outputs": [],
   "source": [
    "import pandas as pd\n",
    "querydf = pd.read_csv('../../cisiData/cisiQueryCsvWE.csv', index_col=[0])\n",
    "querydf.fillna('', inplace=True)\n",
    "querydf.head()"
   ]
  },
  {
   "cell_type": "code",
   "execution_count": null,
   "metadata": {},
   "outputs": [],
   "source": [
    "preprocessedQuery = preprocesseQuery(querydf)\n",
    "preprocessedQuery.head()"
   ]
  },
  {
   "cell_type": "code",
   "execution_count": null,
   "metadata": {},
   "outputs": [],
   "source": [
    "preprocessedQuery.to_csv('../../cisiData/cisiQueryPreprocessedWE.csv')"
   ]
  },
  {
   "cell_type": "markdown",
   "metadata": {},
   "source": [
    "## indexing"
   ]
  },
  {
   "cell_type": "code",
   "execution_count": null,
   "metadata": {},
   "outputs": [],
   "source": [
    "import pandas as pd\n",
    "data = pd.read_csv('../../cisiData/cisiDataPreprocessedWE.csv', index_col=[0])\n",
    "data.fillna('', inplace=True)\n",
    "data.head()"
   ]
  },
  {
   "cell_type": "code",
   "execution_count": null,
   "metadata": {},
   "outputs": [],
   "source": [
    "import spacy\n",
    "nlp = spacy.load(\"en_core_web_md\")"
   ]
  },
  {
   "cell_type": "code",
   "execution_count": null,
   "metadata": {},
   "outputs": [],
   "source": [
    "vectors = [nlp(data.loc[i, 'data']) for i in data.index]"
   ]
  },
  {
   "cell_type": "code",
   "execution_count": null,
   "metadata": {},
   "outputs": [],
   "source": [
    "from sklearn.metrics.pairwise import cosine_similarity\n",
    "import numpy as np\n",
    "\n",
    "\n",
    "def search(query,n:int):\n",
    "    qvector = nlp(query)\n",
    "    similarities = []\n",
    "    for i in vectors:\n",
    "        sim = qvector.similarity(i)\n",
    "        similarities.append(sim)\n",
    "    \n",
    "    temp = np.array(similarities)\n",
    "    nearest = temp.argsort()[-n:][::-1]\n",
    "\n",
    "    ids = []\n",
    "    for i in nearest:\n",
    "        ids.append(data.loc[i,'.I'])\n",
    "\n",
    "    return ids\n",
    "# ex query num 1 (too bad result)\n",
    "search(preprocessedQuery.loc[0,'data'],10)"
   ]
  },
  {
   "cell_type": "code",
   "execution_count": null,
   "metadata": {},
   "outputs": [],
   "source": [
    "def queryingData(qDataFrame:pd.DataFrame, n):\n",
    "    result = pd.DataFrame()\n",
    "    resultDict:dict = {}\n",
    "    resultDictCopy = resultDict.copy()\n",
    "    for i in qDataFrame.index:\n",
    "        try:\n",
    "            tempList:list = search(qDataFrame.loc[i,'data'], n)\n",
    "            for id in range(1,n+1):\n",
    "                resultDictCopy[str(id)] = tempList[id - 1]\n",
    "            result = result.append(resultDictCopy, ignore_index=True)\n",
    "            resultDictCopy = resultDict.copy()\n",
    "        except:\n",
    "            print(i)\n",
    "            raise\n",
    "    return result\n"
   ]
  },
  {
   "cell_type": "code",
   "execution_count": null,
   "metadata": {},
   "outputs": [],
   "source": [
    "queriesPath = '../../cisiData/cisiQueryPreprocessedWE.csv'\n",
    "\n",
    "queriesData = pd.read_csv(queriesPath, index_col=[0])\n",
    "queriesData.fillna('', inplace=True)\n",
    "queriesData.head()"
   ]
  },
  {
   "cell_type": "code",
   "execution_count": null,
   "metadata": {},
   "outputs": [],
   "source": [
    "queriesResult = queryingData(queriesData, 20)\n",
    "queriesResult.head()"
   ]
  },
  {
   "cell_type": "code",
   "execution_count": null,
   "metadata": {},
   "outputs": [],
   "source": [
    "import pandas as pd\n",
    "from sklearn.metrics import precision_score, recall_score\n",
    "\n",
    "def reSizeLists(l1:list, l2:list):\n",
    "    '''resize lists to have the same len'''\n",
    "    if len(l1) < len(l2):\n",
    "        l2 = l2[0:len(l1)]\n",
    "    while len(l1) > len(l2):\n",
    "        l1 = l1[0:len(l2)]\n",
    "\n",
    "    return l1, l2\n",
    "\n",
    "\n",
    "def precWithoutOrder(l1:list,l2:list):\n",
    "    ''' calculate precision witout orering'''\n",
    "    try:\n",
    "        return len(set(l1).intersection(set(l2))) / len(l2)\n",
    "    except:\n",
    "        return 0\n",
    "\n",
    "def calcMAPrecisionAtK(resData:pd.DataFrame, qrelsData: pd.DataFrame):\n",
    "    '''calcualte MAP'''\n",
    "    precisionsAtK:list = []\n",
    "    precisionAtK:float\n",
    "\n",
    "    for i in resData.index:\n",
    "        resArray = resData.loc[i].to_numpy()\n",
    "        qresArray = qrelsData.loc[qrelsData['.I'] == i+1, 'data'].to_numpy()\n",
    "        \n",
    "        if len(qresArray) == 0: \n",
    "            continue\n",
    "\n",
    "        resArray, qresArray = reSizeLists(resArray, qresArray)\n",
    "\n",
    "\n",
    "\n",
    "        prec = precision_score(qresArray, resArray, average='micro')\n",
    "        precisionsAtK.append(prec)\n",
    "\n",
    "    precisionAtK = sum(precisionsAtK) / len(precisionsAtK)\n",
    "    return precisionAtK\n",
    "\n",
    "def calcAPrecisionAtK(resData:pd.DataFrame, qrelsData: pd.DataFrame):\n",
    "    '''calcualte Average Precision'''\n",
    "    precisionsAtK:list = []\n",
    "\n",
    "    for i in resData.index:\n",
    "        precisionOnQuery = []\n",
    "\n",
    "        resArray = resData.loc[i].to_numpy()\n",
    "        qresArray = qrelsData.loc[qrelsData['.I'] == i+1, 'data'].to_numpy()\n",
    "        \n",
    "        if len(qresArray) == 0: \n",
    "            continue\n",
    "        resArray, qresArray = reSizeLists(resArray, qresArray)\n",
    "\n",
    "        for lenI in range(0,len(qresArray)):\n",
    "\n",
    "            tempRes:list = resArray[0:lenI+1].tolist()\n",
    "            tempQRes:list = qresArray[0:lenI+1].tolist()\n",
    "            precisionOnQuery.append(precision_score(tempQRes, tempRes, average='micro'))\n",
    "\n",
    "        try:\n",
    "            precisionsAtK.append(sum(precisionOnQuery) / len(precisionOnQuery))\n",
    "        except ZeroDivisionError: \n",
    "            precisionsAtK.append(0)\n",
    "    return precisionsAtK\n"
   ]
  },
  {
   "cell_type": "code",
   "execution_count": null,
   "metadata": {},
   "outputs": [],
   "source": [
    "import pandas as pd\n",
    "qrelsFrame = pd.read_csv('../../cisiData/cisiQRelsWE.csv', index_col=[0])\n",
    "qrelsFrame.head()"
   ]
  },
  {
   "cell_type": "code",
   "execution_count": null,
   "metadata": {},
   "outputs": [],
   "source": [
    "# K = 10\n",
    "calcMAPrecisionAtK(queriesResult, qrelsFrame)"
   ]
  },
  {
   "cell_type": "code",
   "execution_count": null,
   "metadata": {},
   "outputs": [],
   "source": []
  }
 ],
 "metadata": {
  "interpreter": {
   "hash": "6ad1a5a807b944b1335f606d031e49130ad1da3a9de40b9fa5d942006ec880ff"
  },
  "kernelspec": {
   "display_name": "Python 3.7.13 ('IRProject')",
   "language": "python",
   "name": "python3"
  },
  "language_info": {
   "codemirror_mode": {
    "name": "ipython",
    "version": 3
   },
   "file_extension": ".py",
   "mimetype": "text/x-python",
   "name": "python",
   "nbconvert_exporter": "python",
   "pygments_lexer": "ipython3",
   "version": "3.7.13"
  },
  "orig_nbformat": 4
 },
 "nbformat": 4,
 "nbformat_minor": 2
}

{
 "cells": [
  {
   "cell_type": "markdown",
   "metadata": {},
   "source": [
    "## distribute data"
   ]
  },
  {
   "cell_type": "markdown",
   "metadata": {},
   "source": [
    "### data info"
   ]
  },
  {
   "cell_type": "code",
   "execution_count": 186,
   "metadata": {},
   "outputs": [],
   "source": [
    "CISIDATA = '../../../../CISI/CISI.ALL'\n",
    "import re\n",
    "IDMarker = re.compile('(\\.I.)')\n",
    "allMarkers = re.compile('(\\.[ITABWX] )')"
   ]
  },
  {
   "cell_type": "markdown",
   "metadata": {},
   "source": [
    "### queries info"
   ]
  },
  {
   "cell_type": "code",
   "execution_count": 187,
   "metadata": {},
   "outputs": [],
   "source": [
    "CISIQUERY = '../../../../CISI/CISI.QRY'\n",
    "CISIQRELS = '../../../../CISI/CISI.REL'\n",
    "import re\n",
    "queryMarkers = re.compile('(\\.[ITAWB] )')"
   ]
  },
  {
   "cell_type": "code",
   "execution_count": 188,
   "metadata": {},
   "outputs": [],
   "source": [
    "def getData(PATH, marker):\n",
    "    \"\"\"get the data from the file and split it by ID\"\"\"\n",
    "    with open(PATH, 'r') as f:\n",
    "        t = f.read().replace('\\n', ' ')\n",
    "        lines = re.split(marker, t)\n",
    "        lines.pop(0)\n",
    "    return lines"
   ]
  },
  {
   "cell_type": "markdown",
   "metadata": {},
   "source": [
    "### converte CISI.ALL"
   ]
  },
  {
   "cell_type": "code",
   "execution_count": 189,
   "metadata": {},
   "outputs": [],
   "source": [
    "cisiData = getData(CISIDATA, allMarkers)"
   ]
  },
  {
   "cell_type": "code",
   "execution_count": 190,
   "metadata": {},
   "outputs": [
    {
     "data": {
      "text/html": [
       "<div>\n",
       "<style scoped>\n",
       "    .dataframe tbody tr th:only-of-type {\n",
       "        vertical-align: middle;\n",
       "    }\n",
       "\n",
       "    .dataframe tbody tr th {\n",
       "        vertical-align: top;\n",
       "    }\n",
       "\n",
       "    .dataframe thead th {\n",
       "        text-align: right;\n",
       "    }\n",
       "</style>\n",
       "<table border=\"1\" class=\"dataframe\">\n",
       "  <thead>\n",
       "    <tr style=\"text-align: right;\">\n",
       "      <th></th>\n",
       "      <th>.T</th>\n",
       "      <th>.A</th>\n",
       "      <th>.B</th>\n",
       "      <th>.W</th>\n",
       "      <th>.X</th>\n",
       "    </tr>\n",
       "    <tr>\n",
       "      <th>.I</th>\n",
       "      <th></th>\n",
       "      <th></th>\n",
       "      <th></th>\n",
       "      <th></th>\n",
       "      <th></th>\n",
       "    </tr>\n",
       "  </thead>\n",
       "  <tbody>\n",
       "    <tr>\n",
       "      <th>1</th>\n",
       "      <td>18 Editions of the Dewey Decimal Classifications</td>\n",
       "      <td>Comaromi, J.P.</td>\n",
       "      <td>None</td>\n",
       "      <td>The present study is a history of the DEWEY De...</td>\n",
       "      <td>1\\t5\\t1 92\\t1\\t1 262\\t1\\t1 556\\t1\\t1 1004\\t1\\t...</td>\n",
       "    </tr>\n",
       "    <tr>\n",
       "      <th>2</th>\n",
       "      <td>Use Made of Technical Libraries</td>\n",
       "      <td>Slater, M.</td>\n",
       "      <td>None</td>\n",
       "      <td>This report is an analysis of 6300 acts of use...</td>\n",
       "      <td>2\\t5\\t2 32\\t1\\t2 76\\t1\\t2 132\\t1\\t2 137\\t1\\t2 ...</td>\n",
       "    </tr>\n",
       "    <tr>\n",
       "      <th>3</th>\n",
       "      <td>Two Kinds of Power An Essay on Bibliographic C...</td>\n",
       "      <td>Wilson, P.</td>\n",
       "      <td>None</td>\n",
       "      <td>The relationships between the organization and...</td>\n",
       "      <td>3\\t7\\t3 42\\t1\\t3 172\\t1\\t3 268\\t1\\t3 292\\t1\\t3...</td>\n",
       "    </tr>\n",
       "    <tr>\n",
       "      <th>4</th>\n",
       "      <td>Systems Analysis of a University Library;  fin...</td>\n",
       "      <td>Buckland, M.K.</td>\n",
       "      <td>None</td>\n",
       "      <td>The establishment of nine new universities in ...</td>\n",
       "      <td>4\\t10\\t4 5\\t2\\t4 9\\t1\\t4 32\\t1\\t4 65\\t1\\t4 96\\...</td>\n",
       "    </tr>\n",
       "    <tr>\n",
       "      <th>5</th>\n",
       "      <td>A Library Management Game: a report on a resea...</td>\n",
       "      <td>Brophy, P.</td>\n",
       "      <td>None</td>\n",
       "      <td>Although the use of games in professional educ...</td>\n",
       "      <td>4\\t2\\t5 5\\t6\\t5 90\\t1\\t5 91\\t1\\t5 115\\t1\\t5 15...</td>\n",
       "    </tr>\n",
       "  </tbody>\n",
       "</table>\n",
       "</div>"
      ],
      "text/plain": [
       "                                                   .T              .A    .B  \\\n",
       ".I                                                                            \n",
       "1    18 Editions of the Dewey Decimal Classifications  Comaromi, J.P.  None   \n",
       "2                     Use Made of Technical Libraries      Slater, M.  None   \n",
       "3   Two Kinds of Power An Essay on Bibliographic C...      Wilson, P.  None   \n",
       "4   Systems Analysis of a University Library;  fin...  Buckland, M.K.  None   \n",
       "5   A Library Management Game: a report on a resea...      Brophy, P.  None   \n",
       "\n",
       "                                                   .W  \\\n",
       ".I                                                      \n",
       "1   The present study is a history of the DEWEY De...   \n",
       "2   This report is an analysis of 6300 acts of use...   \n",
       "3   The relationships between the organization and...   \n",
       "4   The establishment of nine new universities in ...   \n",
       "5   Although the use of games in professional educ...   \n",
       "\n",
       "                                                   .X  \n",
       ".I                                                     \n",
       "1   1\\t5\\t1 92\\t1\\t1 262\\t1\\t1 556\\t1\\t1 1004\\t1\\t...  \n",
       "2   2\\t5\\t2 32\\t1\\t2 76\\t1\\t2 132\\t1\\t2 137\\t1\\t2 ...  \n",
       "3   3\\t7\\t3 42\\t1\\t3 172\\t1\\t3 268\\t1\\t3 292\\t1\\t3...  \n",
       "4   4\\t10\\t4 5\\t2\\t4 9\\t1\\t4 32\\t1\\t4 65\\t1\\t4 96\\...  \n",
       "5   4\\t2\\t5 5\\t6\\t5 90\\t1\\t5 91\\t1\\t5 115\\t1\\t5 15...  "
      ]
     },
     "execution_count": 190,
     "metadata": {},
     "output_type": "execute_result"
    }
   ],
   "source": [
    "import pandas as pd\n",
    "dataFrame = pd.DataFrame(columns=['.I','.T','.A','.B','.W','.X'])\n",
    "seriesDict:dict = {\n",
    "    '.I': None,\n",
    "    '.T': None,\n",
    "    '.A': None,\n",
    "    '.B': None,\n",
    "    '.W': None,\n",
    "    '.X': None\n",
    "}\n",
    "seriesData = seriesDict.copy()\n",
    "notTheFirst = False\n",
    "for i in range(0, len(cisiData), 2):\n",
    "    if (notTheFirst and cisiData[i].strip() == '.I'):\n",
    "        dataFrame = dataFrame.append(seriesData, ignore_index=True)\n",
    "        seriesData = seriesDict.copy()\n",
    "    \n",
    "    seriesData[cisiData[i].strip()] = cisiData[i+1].strip()\n",
    "    notTheFirst = True\n",
    "dataFrame = dataFrame.append(seriesData, ignore_index=True)\n",
    "dataFrame.set_index('.I', inplace=True)\n",
    "dataFrame.head()"
   ]
  },
  {
   "cell_type": "code",
   "execution_count": 191,
   "metadata": {},
   "outputs": [],
   "source": [
    "dataFrame.to_csv('../../cisiData/cisiCsv.csv')"
   ]
  },
  {
   "cell_type": "markdown",
   "metadata": {},
   "source": [
    "### converte query.text"
   ]
  },
  {
   "cell_type": "code",
   "execution_count": 192,
   "metadata": {},
   "outputs": [],
   "source": [
    "cisiQuery = getData(CISIQUERY, queryMarkers)"
   ]
  },
  {
   "cell_type": "code",
   "execution_count": 193,
   "metadata": {},
   "outputs": [
    {
     "data": {
      "text/html": [
       "<div>\n",
       "<style scoped>\n",
       "    .dataframe tbody tr th:only-of-type {\n",
       "        vertical-align: middle;\n",
       "    }\n",
       "\n",
       "    .dataframe tbody tr th {\n",
       "        vertical-align: top;\n",
       "    }\n",
       "\n",
       "    .dataframe thead th {\n",
       "        text-align: right;\n",
       "    }\n",
       "</style>\n",
       "<table border=\"1\" class=\"dataframe\">\n",
       "  <thead>\n",
       "    <tr style=\"text-align: right;\">\n",
       "      <th></th>\n",
       "      <th>.T</th>\n",
       "      <th>.A</th>\n",
       "      <th>.W</th>\n",
       "      <th>.B</th>\n",
       "    </tr>\n",
       "    <tr>\n",
       "      <th>.I</th>\n",
       "      <th></th>\n",
       "      <th></th>\n",
       "      <th></th>\n",
       "      <th></th>\n",
       "    </tr>\n",
       "  </thead>\n",
       "  <tbody>\n",
       "    <tr>\n",
       "      <th>1</th>\n",
       "      <td>None</td>\n",
       "      <td>None</td>\n",
       "      <td>What problems and concerns are there in making...</td>\n",
       "      <td>None</td>\n",
       "    </tr>\n",
       "    <tr>\n",
       "      <th>2</th>\n",
       "      <td>None</td>\n",
       "      <td>None</td>\n",
       "      <td>How can actually pertinent data, as opposed to...</td>\n",
       "      <td>None</td>\n",
       "    </tr>\n",
       "    <tr>\n",
       "      <th>3</th>\n",
       "      <td>None</td>\n",
       "      <td>None</td>\n",
       "      <td>What is information science?  Give definitions...</td>\n",
       "      <td>None</td>\n",
       "    </tr>\n",
       "    <tr>\n",
       "      <th>4</th>\n",
       "      <td>None</td>\n",
       "      <td>None</td>\n",
       "      <td>Image recognition and any other methods of aut...</td>\n",
       "      <td>None</td>\n",
       "    </tr>\n",
       "    <tr>\n",
       "      <th>5</th>\n",
       "      <td>None</td>\n",
       "      <td>None</td>\n",
       "      <td>What special training will ordinary researcher...</td>\n",
       "      <td>None</td>\n",
       "    </tr>\n",
       "  </tbody>\n",
       "</table>\n",
       "</div>"
      ],
      "text/plain": [
       "      .T    .A                                                 .W    .B\n",
       ".I                                                                     \n",
       "1   None  None  What problems and concerns are there in making...  None\n",
       "2   None  None  How can actually pertinent data, as opposed to...  None\n",
       "3   None  None  What is information science?  Give definitions...  None\n",
       "4   None  None  Image recognition and any other methods of aut...  None\n",
       "5   None  None  What special training will ordinary researcher...  None"
      ]
     },
     "execution_count": 193,
     "metadata": {},
     "output_type": "execute_result"
    }
   ],
   "source": [
    "import pandas as pd\n",
    "qDataFrame = pd.DataFrame(columns=['.I','.T','.A','.W','.B'])\n",
    "seriesDict:dict = {\n",
    "    '.I': None,\n",
    "    '.T': None,\n",
    "    '.A': None,\n",
    "    '.W': None,\n",
    "    '.B': None\n",
    "}\n",
    "seriesData = seriesDict.copy()\n",
    "notTheFirst = False\n",
    "for i in range(0, len(cisiQuery), 2):\n",
    "    if (notTheFirst and cisiQuery[i].strip() == '.I'):\n",
    "        qDataFrame = qDataFrame.append(seriesData, ignore_index=True)\n",
    "        seriesData = seriesDict.copy()\n",
    "    \n",
    "    seriesData[cisiQuery[i].strip()] = cisiQuery[i+1].strip()\n",
    "    notTheFirst = True\n",
    "qDataFrame = qDataFrame.append(seriesData, ignore_index=True)\n",
    "qDataFrame.set_index('.I', inplace=True)\n",
    "qDataFrame.head()"
   ]
  },
  {
   "cell_type": "code",
   "execution_count": 194,
   "metadata": {},
   "outputs": [],
   "source": [
    "qDataFrame.to_csv('../../cisiData/cisiQueryCsv.csv')"
   ]
  },
  {
   "cell_type": "markdown",
   "metadata": {},
   "source": [
    "### converte qrels.text"
   ]
  },
  {
   "cell_type": "code",
   "execution_count": 195,
   "metadata": {},
   "outputs": [
    {
     "data": {
      "text/html": [
       "<div>\n",
       "<style scoped>\n",
       "    .dataframe tbody tr th:only-of-type {\n",
       "        vertical-align: middle;\n",
       "    }\n",
       "\n",
       "    .dataframe tbody tr th {\n",
       "        vertical-align: top;\n",
       "    }\n",
       "\n",
       "    .dataframe thead th {\n",
       "        text-align: right;\n",
       "    }\n",
       "</style>\n",
       "<table border=\"1\" class=\"dataframe\">\n",
       "  <thead>\n",
       "    <tr style=\"text-align: right;\">\n",
       "      <th></th>\n",
       "      <th>.I</th>\n",
       "      <th>data</th>\n",
       "    </tr>\n",
       "  </thead>\n",
       "  <tbody>\n",
       "    <tr>\n",
       "      <th>0</th>\n",
       "      <td>1</td>\n",
       "      <td>28</td>\n",
       "    </tr>\n",
       "    <tr>\n",
       "      <th>1</th>\n",
       "      <td>1</td>\n",
       "      <td>35</td>\n",
       "    </tr>\n",
       "    <tr>\n",
       "      <th>2</th>\n",
       "      <td>1</td>\n",
       "      <td>38</td>\n",
       "    </tr>\n",
       "    <tr>\n",
       "      <th>3</th>\n",
       "      <td>1</td>\n",
       "      <td>42</td>\n",
       "    </tr>\n",
       "    <tr>\n",
       "      <th>4</th>\n",
       "      <td>1</td>\n",
       "      <td>43</td>\n",
       "    </tr>\n",
       "  </tbody>\n",
       "</table>\n",
       "</div>"
      ],
      "text/plain": [
       "  .I data\n",
       "0  1   28\n",
       "1  1   35\n",
       "2  1   38\n",
       "3  1   42\n",
       "4  1   43"
      ]
     },
     "execution_count": 195,
     "metadata": {},
     "output_type": "execute_result"
    }
   ],
   "source": [
    "import pandas as pd\n",
    "\n",
    "def getRles(path):\n",
    "    with open(path, 'r') as f:\n",
    "        global qrlesList\n",
    "        qrlesList = f.read().split('\\n')\n",
    "        return qrlesList\n",
    "\n",
    "qrelsData = getRles(CISIQRELS)\n",
    "qrelsFrame = pd.DataFrame(columns=['.I', 'data'])\n",
    "seriesDict:dict = {'.I':None, 'data':None}\n",
    "seriesData = seriesDict.copy()\n",
    "for i in qrelsData:\n",
    "    try:\n",
    "        element = i.split()\n",
    "        seriesData['.I'] = int(element[0])\n",
    "        seriesData['data'] = int(element[1])\n",
    "        qrelsFrame = qrelsFrame.append(seriesData, ignore_index=True)\n",
    "    except:\n",
    "        pass\n",
    "qrelsFrame.head()"
   ]
  },
  {
   "cell_type": "code",
   "execution_count": 196,
   "metadata": {},
   "outputs": [],
   "source": [
    "qrelsFrame.to_csv('../../cisiData/cisiQRels.csv')"
   ]
  },
  {
   "cell_type": "markdown",
   "metadata": {},
   "source": [
    "## clean preproccesing"
   ]
  },
  {
   "cell_type": "markdown",
   "metadata": {},
   "source": [
    "### CISI"
   ]
  },
  {
   "cell_type": "code",
   "execution_count": 197,
   "metadata": {},
   "outputs": [
    {
     "data": {
      "text/html": [
       "<div>\n",
       "<style scoped>\n",
       "    .dataframe tbody tr th:only-of-type {\n",
       "        vertical-align: middle;\n",
       "    }\n",
       "\n",
       "    .dataframe tbody tr th {\n",
       "        vertical-align: top;\n",
       "    }\n",
       "\n",
       "    .dataframe thead th {\n",
       "        text-align: right;\n",
       "    }\n",
       "</style>\n",
       "<table border=\"1\" class=\"dataframe\">\n",
       "  <thead>\n",
       "    <tr style=\"text-align: right;\">\n",
       "      <th></th>\n",
       "      <th>.T</th>\n",
       "      <th>.A</th>\n",
       "      <th>.B</th>\n",
       "      <th>.W</th>\n",
       "      <th>.X</th>\n",
       "    </tr>\n",
       "    <tr>\n",
       "      <th>.I</th>\n",
       "      <th></th>\n",
       "      <th></th>\n",
       "      <th></th>\n",
       "      <th></th>\n",
       "      <th></th>\n",
       "    </tr>\n",
       "  </thead>\n",
       "  <tbody>\n",
       "    <tr>\n",
       "      <th>1</th>\n",
       "      <td>18 Editions of the Dewey Decimal Classifications</td>\n",
       "      <td>Comaromi, J.P.</td>\n",
       "      <td>NaN</td>\n",
       "      <td>The present study is a history of the DEWEY De...</td>\n",
       "      <td>1\\t5\\t1 92\\t1\\t1 262\\t1\\t1 556\\t1\\t1 1004\\t1\\t...</td>\n",
       "    </tr>\n",
       "    <tr>\n",
       "      <th>2</th>\n",
       "      <td>Use Made of Technical Libraries</td>\n",
       "      <td>Slater, M.</td>\n",
       "      <td>NaN</td>\n",
       "      <td>This report is an analysis of 6300 acts of use...</td>\n",
       "      <td>2\\t5\\t2 32\\t1\\t2 76\\t1\\t2 132\\t1\\t2 137\\t1\\t2 ...</td>\n",
       "    </tr>\n",
       "    <tr>\n",
       "      <th>3</th>\n",
       "      <td>Two Kinds of Power An Essay on Bibliographic C...</td>\n",
       "      <td>Wilson, P.</td>\n",
       "      <td>NaN</td>\n",
       "      <td>The relationships between the organization and...</td>\n",
       "      <td>3\\t7\\t3 42\\t1\\t3 172\\t1\\t3 268\\t1\\t3 292\\t1\\t3...</td>\n",
       "    </tr>\n",
       "    <tr>\n",
       "      <th>4</th>\n",
       "      <td>Systems Analysis of a University Library;  fin...</td>\n",
       "      <td>Buckland, M.K.</td>\n",
       "      <td>NaN</td>\n",
       "      <td>The establishment of nine new universities in ...</td>\n",
       "      <td>4\\t10\\t4 5\\t2\\t4 9\\t1\\t4 32\\t1\\t4 65\\t1\\t4 96\\...</td>\n",
       "    </tr>\n",
       "    <tr>\n",
       "      <th>5</th>\n",
       "      <td>A Library Management Game: a report on a resea...</td>\n",
       "      <td>Brophy, P.</td>\n",
       "      <td>NaN</td>\n",
       "      <td>Although the use of games in professional educ...</td>\n",
       "      <td>4\\t2\\t5 5\\t6\\t5 90\\t1\\t5 91\\t1\\t5 115\\t1\\t5 15...</td>\n",
       "    </tr>\n",
       "  </tbody>\n",
       "</table>\n",
       "</div>"
      ],
      "text/plain": [
       "                                                   .T              .A   .B  \\\n",
       ".I                                                                           \n",
       "1    18 Editions of the Dewey Decimal Classifications  Comaromi, J.P.  NaN   \n",
       "2                     Use Made of Technical Libraries      Slater, M.  NaN   \n",
       "3   Two Kinds of Power An Essay on Bibliographic C...      Wilson, P.  NaN   \n",
       "4   Systems Analysis of a University Library;  fin...  Buckland, M.K.  NaN   \n",
       "5   A Library Management Game: a report on a resea...      Brophy, P.  NaN   \n",
       "\n",
       "                                                   .W  \\\n",
       ".I                                                      \n",
       "1   The present study is a history of the DEWEY De...   \n",
       "2   This report is an analysis of 6300 acts of use...   \n",
       "3   The relationships between the organization and...   \n",
       "4   The establishment of nine new universities in ...   \n",
       "5   Although the use of games in professional educ...   \n",
       "\n",
       "                                                   .X  \n",
       ".I                                                     \n",
       "1   1\\t5\\t1 92\\t1\\t1 262\\t1\\t1 556\\t1\\t1 1004\\t1\\t...  \n",
       "2   2\\t5\\t2 32\\t1\\t2 76\\t1\\t2 132\\t1\\t2 137\\t1\\t2 ...  \n",
       "3   3\\t7\\t3 42\\t1\\t3 172\\t1\\t3 268\\t1\\t3 292\\t1\\t3...  \n",
       "4   4\\t10\\t4 5\\t2\\t4 9\\t1\\t4 32\\t1\\t4 65\\t1\\t4 96\\...  \n",
       "5   4\\t2\\t5 5\\t6\\t5 90\\t1\\t5 91\\t1\\t5 115\\t1\\t5 15...  "
      ]
     },
     "execution_count": 197,
     "metadata": {},
     "output_type": "execute_result"
    }
   ],
   "source": [
    "import pandas as pd\n",
    "df:pd.DataFrame = pd.read_csv('../../cisiData/cisiCsv.csv', index_col='.I')\n",
    "df.head()"
   ]
  },
  {
   "cell_type": "code",
   "execution_count": 198,
   "metadata": {},
   "outputs": [
    {
     "data": {
      "text/html": [
       "<div>\n",
       "<style scoped>\n",
       "    .dataframe tbody tr th:only-of-type {\n",
       "        vertical-align: middle;\n",
       "    }\n",
       "\n",
       "    .dataframe tbody tr th {\n",
       "        vertical-align: top;\n",
       "    }\n",
       "\n",
       "    .dataframe thead th {\n",
       "        text-align: right;\n",
       "    }\n",
       "</style>\n",
       "<table border=\"1\" class=\"dataframe\">\n",
       "  <thead>\n",
       "    <tr style=\"text-align: right;\">\n",
       "      <th></th>\n",
       "      <th>.T</th>\n",
       "      <th>.A</th>\n",
       "      <th>.B</th>\n",
       "      <th>.W</th>\n",
       "      <th>.X</th>\n",
       "    </tr>\n",
       "  </thead>\n",
       "  <tbody>\n",
       "    <tr>\n",
       "      <th>count</th>\n",
       "      <td>1460</td>\n",
       "      <td>1460</td>\n",
       "      <td>24</td>\n",
       "      <td>1460</td>\n",
       "      <td>1460</td>\n",
       "    </tr>\n",
       "    <tr>\n",
       "      <th>unique</th>\n",
       "      <td>1431</td>\n",
       "      <td>1194</td>\n",
       "      <td>17</td>\n",
       "      <td>1459</td>\n",
       "      <td>1460</td>\n",
       "    </tr>\n",
       "    <tr>\n",
       "      <th>top</th>\n",
       "      <td>Progress in Documentation</td>\n",
       "      <td>Lancaster, F.W.</td>\n",
       "      <td>1970</td>\n",
       "      <td>The essentially logistical problem of making l...</td>\n",
       "      <td>1\\t5\\t1 92\\t1\\t1 262\\t1\\t1 556\\t1\\t1 1004\\t1\\t...</td>\n",
       "    </tr>\n",
       "    <tr>\n",
       "      <th>freq</th>\n",
       "      <td>5</td>\n",
       "      <td>9</td>\n",
       "      <td>4</td>\n",
       "      <td>2</td>\n",
       "      <td>1</td>\n",
       "    </tr>\n",
       "  </tbody>\n",
       "</table>\n",
       "</div>"
      ],
      "text/plain": [
       "                               .T               .A    .B  \\\n",
       "count                        1460             1460    24   \n",
       "unique                       1431             1194    17   \n",
       "top     Progress in Documentation  Lancaster, F.W.  1970   \n",
       "freq                            5                9     4   \n",
       "\n",
       "                                                       .W  \\\n",
       "count                                                1460   \n",
       "unique                                               1459   \n",
       "top     The essentially logistical problem of making l...   \n",
       "freq                                                    2   \n",
       "\n",
       "                                                       .X  \n",
       "count                                                1460  \n",
       "unique                                               1460  \n",
       "top     1\\t5\\t1 92\\t1\\t1 262\\t1\\t1 556\\t1\\t1 1004\\t1\\t...  \n",
       "freq                                                    1  "
      ]
     },
     "execution_count": 198,
     "metadata": {},
     "output_type": "execute_result"
    }
   ],
   "source": [
    "df.describe()"
   ]
  },
  {
   "cell_type": "code",
   "execution_count": 199,
   "metadata": {},
   "outputs": [
    {
     "name": "stdout",
     "output_type": "stream",
     "text": [
      "<class 'pandas.core.frame.DataFrame'>\n",
      "Int64Index: 1460 entries, 1 to 1460\n",
      "Data columns (total 5 columns):\n",
      " #   Column  Non-Null Count  Dtype \n",
      "---  ------  --------------  ----- \n",
      " 0   .T      1460 non-null   object\n",
      " 1   .A      1460 non-null   object\n",
      " 2   .B      24 non-null     object\n",
      " 3   .W      1460 non-null   object\n",
      " 4   .X      1460 non-null   object\n",
      "dtypes: object(5)\n",
      "memory usage: 68.4+ KB\n"
     ]
    }
   ],
   "source": [
    "df.info()"
   ]
  },
  {
   "cell_type": "code",
   "execution_count": 200,
   "metadata": {},
   "outputs": [
    {
     "name": "stdout",
     "output_type": "stream",
     "text": [
      "False    1460\n",
      "Name: .T, dtype: int64\n",
      "\n",
      "False    1460\n",
      "Name: .W, dtype: int64\n",
      "\n",
      "False    1460\n",
      "Name: .A, dtype: int64\n"
     ]
    }
   ],
   "source": [
    "print(df.loc[:,'.T'].isnull().value_counts(), end='\\n\\n')\n",
    "print(df.loc[:,'.W'].isnull().value_counts(), end='\\n\\n')\n",
    "print(df.loc[:,'.A'].isnull().value_counts())"
   ]
  },
  {
   "cell_type": "code",
   "execution_count": 201,
   "metadata": {},
   "outputs": [],
   "source": [
    "df.fillna('', inplace=True)"
   ]
  },
  {
   "cell_type": "code",
   "execution_count": 202,
   "metadata": {},
   "outputs": [
    {
     "data": {
      "text/plain": [
       "False    1460\n",
       "dtype: int64"
      ]
     },
     "execution_count": 202,
     "metadata": {},
     "output_type": "execute_result"
    }
   ],
   "source": [
    "df.duplicated().value_counts()"
   ]
  },
  {
   "cell_type": "code",
   "execution_count": 203,
   "metadata": {},
   "outputs": [],
   "source": [
    "df.to_csv('../../cisiData/cisiDataCleaned.csv')"
   ]
  },
  {
   "cell_type": "markdown",
   "metadata": {},
   "source": [
    "#### methods"
   ]
  },
  {
   "cell_type": "markdown",
   "metadata": {},
   "source": [
    "##### lowercase"
   ]
  },
  {
   "cell_type": "code",
   "execution_count": 204,
   "metadata": {},
   "outputs": [],
   "source": [
    "def toLower(text):\n",
    "    return text.lower()"
   ]
  },
  {
   "cell_type": "markdown",
   "metadata": {},
   "source": [
    "##### Numbers to words"
   ]
  },
  {
   "cell_type": "code",
   "execution_count": 205,
   "metadata": {},
   "outputs": [],
   "source": [
    "import inflect\n",
    "p = inflect.engine()\n",
    "\n",
    "import re\n",
    "reg = r'([0-9]+)'\n",
    "\n",
    "def isFLoat(strNum):\n",
    "    try:\n",
    "        float(strNum)\n",
    "        return True\n",
    "    except:\n",
    "        return False\n",
    "\n",
    "\n",
    "def converteNumbers(text):\n",
    "    tempText = text.split()\n",
    "    newText = []\n",
    "    for word in tempText:\n",
    "        tempList = re.split(reg,word)\n",
    "        for miniWord in tempList:\n",
    "            if miniWord.isdigit() or isFLoat(miniWord):\n",
    "                temp = p.number_to_words(miniWord)\n",
    "                newText.append(removePunctuation(temp))\n",
    "            else:\n",
    "                newText.append(miniWord)        \n",
    "    tempText = ' '.join(newText)\n",
    "    return tempText\n",
    "    # return text"
   ]
  },
  {
   "cell_type": "markdown",
   "metadata": {},
   "source": [
    "##### remove punctuation"
   ]
  },
  {
   "cell_type": "code",
   "execution_count": 206,
   "metadata": {},
   "outputs": [],
   "source": [
    "import string\n",
    "translator = str.maketrans(string.punctuation,' '*len(string.punctuation))\n",
    "def removePunctuation(text):\n",
    "    global translator\n",
    "    return text.translate(translator)\n"
   ]
  },
  {
   "cell_type": "markdown",
   "metadata": {},
   "source": [
    "##### remove whitespaces"
   ]
  },
  {
   "cell_type": "code",
   "execution_count": 207,
   "metadata": {},
   "outputs": [],
   "source": [
    "def removeWhiteSpace(text):\n",
    "    return \" \".join(text.split())"
   ]
  },
  {
   "cell_type": "markdown",
   "metadata": {},
   "source": [
    "##### remove stop words"
   ]
  },
  {
   "cell_type": "code",
   "execution_count": 208,
   "metadata": {},
   "outputs": [],
   "source": [
    "from nltk.corpus import stopwords\n",
    "from nltk.tokenize import word_tokenize\n",
    "\n",
    "def removeStopWords(text):\n",
    "    sw = set(stopwords.words(\"english\"))\n",
    "    wt = word_tokenize(text)\n",
    "    filteredText = [word for word in wt if word not in sw]\n",
    "    return ' '.join(filteredText)\n",
    "    # return text"
   ]
  },
  {
   "cell_type": "markdown",
   "metadata": {},
   "source": [
    "##### stemming"
   ]
  },
  {
   "cell_type": "code",
   "execution_count": 209,
   "metadata": {},
   "outputs": [],
   "source": [
    "from nltk.stem.porter import PorterStemmer\n",
    "from nltk.tokenize import word_tokenize\n",
    "\n",
    "stemmer = PorterStemmer()\n",
    "def stemWords(text):\n",
    "    global stemmer\n",
    "    wt = word_tokenize(text)\n",
    "    stems = []\n",
    "    for word in wt:\n",
    "        temp = stemmer.stem(word)\n",
    "        # if not temp == word:\n",
    "        #     temp = correctWords(temp)\n",
    "        stems.append(temp)\n",
    "    return ' '.join(stems)\n",
    "    # return text"
   ]
  },
  {
   "cell_type": "markdown",
   "metadata": {},
   "source": [
    "##### lemmatization"
   ]
  },
  {
   "cell_type": "code",
   "execution_count": 210,
   "metadata": {},
   "outputs": [],
   "source": [
    "from nltk.stem import WordNetLemmatizer\n",
    "from nltk.tokenize import word_tokenize\n",
    "from nltk.corpus import wordnet as wn\n",
    "from nltk import pos_tag, defaultdict\n",
    "\n",
    "lemmatizer = WordNetLemmatizer()\n",
    "\n",
    "tag_map = defaultdict(lambda: wn.NOUN)\n",
    "tag_map['J'] = wn.ADJ\n",
    "tag_map['V'] = wn.VERB\n",
    "tag_map['R'] = wn.ADV\n",
    "\n",
    "\n",
    "\n",
    "\n",
    "def lemmatizeWords(text):\n",
    "    # wt = word_tokenize(text)\n",
    "    # lemmas = [lemmatizer.lemmatize(word, pos='a') for word in wt]\n",
    "    # return ' '.join(lemmas)\n",
    "    # return text\n",
    "\n",
    "    tokens = word_tokenize(text)\n",
    "    lmtzr = WordNetLemmatizer()\n",
    "    lemmas = [lmtzr.lemmatize(token, tag_map[tag[0]]) for token, tag in pos_tag(tokens) ]\n",
    "    return ' '.join(lemmas)\n",
    "# lemmatizeWords('hard')"
   ]
  },
  {
   "cell_type": "markdown",
   "metadata": {},
   "source": [
    "##### correcting"
   ]
  },
  {
   "cell_type": "code",
   "execution_count": 211,
   "metadata": {},
   "outputs": [],
   "source": [
    "from nltk.metrics.distance import jaccard_distance\n",
    "from nltk.util import ngrams\n",
    "from nltk.corpus import words\n",
    "correct_words = words.words()\n",
    "incorrectWords = '''preliminari'''.split()\n",
    "result = []\n",
    "def correctWords(text):\n",
    "    for word in text:\n",
    "        try:\n",
    "            temp = [(jaccard_distance(set(ngrams(word, 2)),\n",
    "                                      set(ngrams(w, 2))),w)\n",
    "                                      for w in correct_words if w[0] == word[0]]\n",
    "            result.append(sorted(temp, key = lambda val:val[0])[0][1])\n",
    "        except:\n",
    "            pass\n",
    "    return ' '.join(result)\n",
    "# correctWords(incorrectWords)"
   ]
  },
  {
   "cell_type": "markdown",
   "metadata": {},
   "source": [
    "#### cisi process"
   ]
  },
  {
   "cell_type": "code",
   "execution_count": 23,
   "metadata": {},
   "outputs": [],
   "source": [
    "import pandas as pd\n",
    "import re\n",
    "\n",
    "def TitlePreProcesse(t):\n",
    "    tempText = toLower(t)\n",
    "    tempText = removePunctuation(tempText)\n",
    "    tempText = converteNumbers(tempText)\n",
    "    tempText = removeWhiteSpace(tempText)\n",
    "    tempText = removeStopWords(tempText)\n",
    "    tempText = stemWords(tempText)\n",
    "    tempText = lemmatizeWords(tempText)\n",
    "    return tempText\n",
    "\n",
    "def abstractPreProcesse(a):\n",
    "    tempText = toLower(a)\n",
    "    tempText = removePunctuation(tempText)\n",
    "    tempText = converteNumbers(tempText)\n",
    "    tempText = removeWhiteSpace(tempText)\n",
    "    tempText = removeStopWords(tempText)\n",
    "    tempText = stemWords(tempText)\n",
    "    tempText = lemmatizeWords(tempText)\n",
    "    return tempText\n",
    "\n",
    "# i didn't do it yet on cisi (converte date to timestamp)\n",
    "def publicationPreProcesse(p): \n",
    "    # tempText = p.replace('cisi ','')\n",
    "    # return pd.to_datetime(tempText)\n",
    "    return p\n",
    "    \n",
    "def authorPreProcesse(a):\n",
    "    tempText = toLower(a)\n",
    "    lis = tempText.split(' ')\n",
    "    names = ' '\n",
    "    l = []\n",
    "    for word in lis:\n",
    "      if ',' in word:\n",
    "          l.append(removePunctuation(word.replace(',','')))\n",
    "    names = ' '.join(l)\n",
    "    return names\n"
   ]
  },
  {
   "cell_type": "code",
   "execution_count": 40,
   "metadata": {},
   "outputs": [],
   "source": [
    "import pandas as pd\n",
    "def preprocessedData(dataFrame:pd.DataFrame):\n",
    "    pdataFrame = pd.DataFrame()\n",
    "    seriesDict:dict = {} \n",
    "    seriesData = seriesDict.copy()\n",
    "    for i in dataFrame.index:\n",
    "        try:\n",
    "            templist = []\n",
    "            tempT = tempA = tempB = tempW = None\n",
    "            if not dataFrame.loc[i, '.T'] == '':\n",
    "                # templist.append(TitlePreProcesse(dataFrame.loc[i, '.T']))\n",
    "                tempT = TitlePreProcesse(dataFrame.loc[i, '.T'])\n",
    "            if not dataFrame.loc[i, '.A'] == '':\n",
    "                # templist.append(authorPreProcesse(dataFrame.loc[i, '.A']))\n",
    "                tempA = authorPreProcesse(dataFrame.loc[i, '.A'])\n",
    "            if not dataFrame.loc[i, '.B'] == '':\n",
    "                tempB = publicationPreProcesse(dataFrame.loc[i, '.B'])\n",
    "            if not dataFrame.loc[i, '.W'] == '':\n",
    "                # templist.append(abstractPreProcesse(dataFrame.loc[i, '.W']))\n",
    "                tempW = abstractPreProcesse(dataFrame.loc[i, '.W'])\n",
    "\n",
    "            # if not dataFrame.loc[i, '.K'] == '':\n",
    "            #     templist.append(kPreProcesse(dataFrame.loc[i, '.K']))\n",
    "            # if not dataFrame.loc[i, '.C'] == '':\n",
    "            #     tempC = cPreProcesse(dataFrame.loc[i, '.C'])\n",
    "\n",
    "\n",
    "            seriesData['.I'] = i\n",
    "            # seriesData['data'] = ' '.join(templist)\n",
    "            seriesData['.T'] = tempT\n",
    "            seriesData['.A'] = tempA\n",
    "            seriesData['.B'] = tempB\n",
    "            seriesData['.W'] = tempW\n",
    "            \n",
    "            pdataFrame = pdataFrame.append(seriesData, ignore_index=True)\n",
    "        except:\n",
    "            print(i)\n",
    "            raise \n",
    "    \n",
    "    pdataFrame.set_index('.I', inplace=True)\n",
    "    pdataFrame.fillna('', inplace=True)\n",
    "    return pdataFrame\n"
   ]
  },
  {
   "cell_type": "code",
   "execution_count": 41,
   "metadata": {},
   "outputs": [
    {
     "data": {
      "text/html": [
       "<div>\n",
       "<style scoped>\n",
       "    .dataframe tbody tr th:only-of-type {\n",
       "        vertical-align: middle;\n",
       "    }\n",
       "\n",
       "    .dataframe tbody tr th {\n",
       "        vertical-align: top;\n",
       "    }\n",
       "\n",
       "    .dataframe thead th {\n",
       "        text-align: right;\n",
       "    }\n",
       "</style>\n",
       "<table border=\"1\" class=\"dataframe\">\n",
       "  <thead>\n",
       "    <tr style=\"text-align: right;\">\n",
       "      <th></th>\n",
       "      <th>.T</th>\n",
       "      <th>.A</th>\n",
       "      <th>.B</th>\n",
       "      <th>.W</th>\n",
       "      <th>.X</th>\n",
       "    </tr>\n",
       "    <tr>\n",
       "      <th>.I</th>\n",
       "      <th></th>\n",
       "      <th></th>\n",
       "      <th></th>\n",
       "      <th></th>\n",
       "      <th></th>\n",
       "    </tr>\n",
       "  </thead>\n",
       "  <tbody>\n",
       "    <tr>\n",
       "      <th>1</th>\n",
       "      <td>18 Editions of the Dewey Decimal Classifications</td>\n",
       "      <td>Comaromi, J.P.</td>\n",
       "      <td></td>\n",
       "      <td>The present study is a history of the DEWEY De...</td>\n",
       "      <td>1\\t5\\t1 92\\t1\\t1 262\\t1\\t1 556\\t1\\t1 1004\\t1\\t...</td>\n",
       "    </tr>\n",
       "    <tr>\n",
       "      <th>2</th>\n",
       "      <td>Use Made of Technical Libraries</td>\n",
       "      <td>Slater, M.</td>\n",
       "      <td></td>\n",
       "      <td>This report is an analysis of 6300 acts of use...</td>\n",
       "      <td>2\\t5\\t2 32\\t1\\t2 76\\t1\\t2 132\\t1\\t2 137\\t1\\t2 ...</td>\n",
       "    </tr>\n",
       "    <tr>\n",
       "      <th>3</th>\n",
       "      <td>Two Kinds of Power An Essay on Bibliographic C...</td>\n",
       "      <td>Wilson, P.</td>\n",
       "      <td></td>\n",
       "      <td>The relationships between the organization and...</td>\n",
       "      <td>3\\t7\\t3 42\\t1\\t3 172\\t1\\t3 268\\t1\\t3 292\\t1\\t3...</td>\n",
       "    </tr>\n",
       "    <tr>\n",
       "      <th>4</th>\n",
       "      <td>Systems Analysis of a University Library;  fin...</td>\n",
       "      <td>Buckland, M.K.</td>\n",
       "      <td></td>\n",
       "      <td>The establishment of nine new universities in ...</td>\n",
       "      <td>4\\t10\\t4 5\\t2\\t4 9\\t1\\t4 32\\t1\\t4 65\\t1\\t4 96\\...</td>\n",
       "    </tr>\n",
       "    <tr>\n",
       "      <th>5</th>\n",
       "      <td>A Library Management Game: a report on a resea...</td>\n",
       "      <td>Brophy, P.</td>\n",
       "      <td></td>\n",
       "      <td>Although the use of games in professional educ...</td>\n",
       "      <td>4\\t2\\t5 5\\t6\\t5 90\\t1\\t5 91\\t1\\t5 115\\t1\\t5 15...</td>\n",
       "    </tr>\n",
       "  </tbody>\n",
       "</table>\n",
       "</div>"
      ],
      "text/plain": [
       "                                                   .T              .A .B  \\\n",
       ".I                                                                         \n",
       "1    18 Editions of the Dewey Decimal Classifications  Comaromi, J.P.      \n",
       "2                     Use Made of Technical Libraries      Slater, M.      \n",
       "3   Two Kinds of Power An Essay on Bibliographic C...      Wilson, P.      \n",
       "4   Systems Analysis of a University Library;  fin...  Buckland, M.K.      \n",
       "5   A Library Management Game: a report on a resea...      Brophy, P.      \n",
       "\n",
       "                                                   .W  \\\n",
       ".I                                                      \n",
       "1   The present study is a history of the DEWEY De...   \n",
       "2   This report is an analysis of 6300 acts of use...   \n",
       "3   The relationships between the organization and...   \n",
       "4   The establishment of nine new universities in ...   \n",
       "5   Although the use of games in professional educ...   \n",
       "\n",
       "                                                   .X  \n",
       ".I                                                     \n",
       "1   1\\t5\\t1 92\\t1\\t1 262\\t1\\t1 556\\t1\\t1 1004\\t1\\t...  \n",
       "2   2\\t5\\t2 32\\t1\\t2 76\\t1\\t2 132\\t1\\t2 137\\t1\\t2 ...  \n",
       "3   3\\t7\\t3 42\\t1\\t3 172\\t1\\t3 268\\t1\\t3 292\\t1\\t3...  \n",
       "4   4\\t10\\t4 5\\t2\\t4 9\\t1\\t4 32\\t1\\t4 65\\t1\\t4 96\\...  \n",
       "5   4\\t2\\t5 5\\t6\\t5 90\\t1\\t5 91\\t1\\t5 115\\t1\\t5 15...  "
      ]
     },
     "execution_count": 41,
     "metadata": {},
     "output_type": "execute_result"
    }
   ],
   "source": [
    "import pandas as pd\n",
    "data = pd.read_csv('../../cisiData/cisiDataCleaned.csv')\n",
    "data.set_index('.I', inplace=True)\n",
    "data.fillna('', inplace=True)\n",
    "data.head()"
   ]
  },
  {
   "cell_type": "code",
   "execution_count": 42,
   "metadata": {},
   "outputs": [
    {
     "data": {
      "text/html": [
       "<div>\n",
       "<style scoped>\n",
       "    .dataframe tbody tr th:only-of-type {\n",
       "        vertical-align: middle;\n",
       "    }\n",
       "\n",
       "    .dataframe tbody tr th {\n",
       "        vertical-align: top;\n",
       "    }\n",
       "\n",
       "    .dataframe thead th {\n",
       "        text-align: right;\n",
       "    }\n",
       "</style>\n",
       "<table border=\"1\" class=\"dataframe\">\n",
       "  <thead>\n",
       "    <tr style=\"text-align: right;\">\n",
       "      <th></th>\n",
       "      <th>.T</th>\n",
       "      <th>.A</th>\n",
       "      <th>.B</th>\n",
       "      <th>.W</th>\n",
       "    </tr>\n",
       "    <tr>\n",
       "      <th>.I</th>\n",
       "      <th></th>\n",
       "      <th></th>\n",
       "      <th></th>\n",
       "      <th></th>\n",
       "    </tr>\n",
       "  </thead>\n",
       "  <tbody>\n",
       "    <tr>\n",
       "      <th>1.0</th>\n",
       "      <td>eighteen edit dewey decim classif</td>\n",
       "      <td>comaromi</td>\n",
       "      <td></td>\n",
       "      <td>present studi histori dewey decim classif firs...</td>\n",
       "    </tr>\n",
       "    <tr>\n",
       "      <th>2.0</th>\n",
       "      <td>use make technic librari</td>\n",
       "      <td>slater</td>\n",
       "      <td></td>\n",
       "      <td>report analysi six thousand three hundr act us...</td>\n",
       "    </tr>\n",
       "    <tr>\n",
       "      <th>3.0</th>\n",
       "      <td>two kind power essay bibliograph control</td>\n",
       "      <td>wilson</td>\n",
       "      <td></td>\n",
       "      <td>relationship organ control write organ control...</td>\n",
       "    </tr>\n",
       "    <tr>\n",
       "      <th>4.0</th>\n",
       "      <td>system analysi univers librari final report re...</td>\n",
       "      <td>buckland</td>\n",
       "      <td></td>\n",
       "      <td>establish nine new univers one thousand nine h...</td>\n",
       "    </tr>\n",
       "    <tr>\n",
       "      <th>5.0</th>\n",
       "      <td>librari manag game report research project</td>\n",
       "      <td>brophy</td>\n",
       "      <td></td>\n",
       "      <td>although use game profession educ becom widesp...</td>\n",
       "    </tr>\n",
       "  </tbody>\n",
       "</table>\n",
       "</div>"
      ],
      "text/plain": [
       "                                                    .T        .A .B  \\\n",
       ".I                                                                    \n",
       "1.0                  eighteen edit dewey decim classif  comaromi      \n",
       "2.0                           use make technic librari    slater      \n",
       "3.0           two kind power essay bibliograph control    wilson      \n",
       "4.0  system analysi univers librari final report re...  buckland      \n",
       "5.0         librari manag game report research project    brophy      \n",
       "\n",
       "                                                    .W  \n",
       ".I                                                      \n",
       "1.0  present studi histori dewey decim classif firs...  \n",
       "2.0  report analysi six thousand three hundr act us...  \n",
       "3.0  relationship organ control write organ control...  \n",
       "4.0  establish nine new univers one thousand nine h...  \n",
       "5.0  although use game profession educ becom widesp...  "
      ]
     },
     "execution_count": 42,
     "metadata": {},
     "output_type": "execute_result"
    }
   ],
   "source": [
    "processedDAta = preprocessedData(data)\n",
    "processedDAta.head()"
   ]
  },
  {
   "cell_type": "code",
   "execution_count": 43,
   "metadata": {},
   "outputs": [],
   "source": [
    "processedDAta.to_csv('../../cisiData/cisiDataPreprocessed.csv')"
   ]
  },
  {
   "cell_type": "code",
   "execution_count": null,
   "metadata": {},
   "outputs": [],
   "source": []
  },
  {
   "cell_type": "markdown",
   "metadata": {},
   "source": []
  },
  {
   "cell_type": "markdown",
   "metadata": {},
   "source": [
    "#### query process"
   ]
  },
  {
   "cell_type": "code",
   "execution_count": 47,
   "metadata": {},
   "outputs": [],
   "source": [
    "import pandas as pd\n",
    "import re\n",
    "\n",
    "\n",
    "def qTitlePreProcesse(t):\n",
    "    tempText = toLower(t)\n",
    "    tempText = removePunctuation(tempText)\n",
    "    tempText = converteNumbers(tempText)\n",
    "    tempText = removeWhiteSpace(tempText)\n",
    "    tempText = removeStopWords(tempText)\n",
    "    tempText = stemWords(tempText)\n",
    "    tempText = lemmatizeWords(tempText)\n",
    "    return tempText\n",
    "    # return t\n",
    "\n",
    "def qAbstractPreProcesse(a):\n",
    "    tempText = toLower(a)\n",
    "    tempText = removePunctuation(tempText)\n",
    "    tempText = converteNumbers(tempText)\n",
    "    tempText = removeWhiteSpace(tempText)\n",
    "    tempText = removeStopWords(tempText)\n",
    "    tempText = stemWords(tempText)\n",
    "    tempText = lemmatizeWords(tempText)\n",
    "    return tempText\n",
    "    # return a\n",
    "\n",
    "def qAuthorPreProcesse(a):\n",
    "    tempText = toLower(a)\n",
    "    lis = tempText.split(' ')\n",
    "    names = ' '\n",
    "    l = []\n",
    "    for word in lis:\n",
    "      if ',' in word:\n",
    "          l.append(removePunctuation(word.replace(',','')))\n",
    "    names = ' '.join(l)\n",
    "    return names\n",
    "\n",
    "def qPublicationPreProcesse(p):\n",
    "    # tempText = p.replace('cisi ','')\n",
    "    # return pd.to_datetime(tempText)\n",
    "    return p\n"
   ]
  },
  {
   "cell_type": "code",
   "execution_count": 49,
   "metadata": {},
   "outputs": [],
   "source": [
    "import pandas as pd\n",
    "def preprocesseQuery(dataFrame:pd.DataFrame):\n",
    "    pdataFrame = pd.DataFrame() \n",
    "    seriesDict:dict = {} \n",
    "    seriesData = seriesDict.copy()\n",
    "    for i in dataFrame.index:\n",
    "        try:\n",
    "            templist = []\n",
    "            tempT = tempA = tempW = tempB = None\n",
    "            if not dataFrame.loc[i, '.T'] == '':\n",
    "                # templist.append(qTitlePreProcesse(dataFrame.loc[i, '.T']))\n",
    "                tempT = qTitlePreProcesse(dataFrame.loc[i, '.T'])\n",
    "            if not dataFrame.loc[i, '.A'] == '':\n",
    "                # templist.append(qAuthorPreProcesse(dataFrame.loc[i, '.A']))\n",
    "                tempA = qAuthorPreProcesse(dataFrame.loc[i, '.A'])\n",
    "            if not dataFrame.loc[i, '.W'] == '':\n",
    "                # templist.append(qAbstractPreProcesse(dataFrame.loc[i, '.W']))\n",
    "                tempW = qAbstractPreProcesse(dataFrame.loc[i, '.W'])\n",
    "            if not dataFrame.loc[i, '.B'] == '':\n",
    "                tempB = qPublicationPreProcesse(dataFrame.loc[i, '.B'])\n",
    "\n",
    "\n",
    "            seriesData['.I'] = i\n",
    "            # seriesData['data'] = ' '.join(templist)\n",
    "            seriesData['.T'] = tempT\n",
    "            seriesData['.A'] = tempA\n",
    "            seriesData['.W'] = tempW\n",
    "            seriesData['.B'] = tempB\n",
    "            pdataFrame = pdataFrame.append(seriesData, ignore_index=True)\n",
    "        except:\n",
    "            print(i)\n",
    "            raise \n",
    "    \n",
    "    pdataFrame.set_index('.I', inplace=True)\n",
    "    pdataFrame.fillna('', inplace=True)\n",
    "    return pdataFrame\n"
   ]
  },
  {
   "cell_type": "code",
   "execution_count": 45,
   "metadata": {},
   "outputs": [
    {
     "data": {
      "text/html": [
       "<div>\n",
       "<style scoped>\n",
       "    .dataframe tbody tr th:only-of-type {\n",
       "        vertical-align: middle;\n",
       "    }\n",
       "\n",
       "    .dataframe tbody tr th {\n",
       "        vertical-align: top;\n",
       "    }\n",
       "\n",
       "    .dataframe thead th {\n",
       "        text-align: right;\n",
       "    }\n",
       "</style>\n",
       "<table border=\"1\" class=\"dataframe\">\n",
       "  <thead>\n",
       "    <tr style=\"text-align: right;\">\n",
       "      <th></th>\n",
       "      <th>.T</th>\n",
       "      <th>.A</th>\n",
       "      <th>.W</th>\n",
       "      <th>.B</th>\n",
       "    </tr>\n",
       "    <tr>\n",
       "      <th>.I</th>\n",
       "      <th></th>\n",
       "      <th></th>\n",
       "      <th></th>\n",
       "      <th></th>\n",
       "    </tr>\n",
       "  </thead>\n",
       "  <tbody>\n",
       "    <tr>\n",
       "      <th>1</th>\n",
       "      <td></td>\n",
       "      <td></td>\n",
       "      <td>What problems and concerns are there in making...</td>\n",
       "      <td></td>\n",
       "    </tr>\n",
       "    <tr>\n",
       "      <th>2</th>\n",
       "      <td></td>\n",
       "      <td></td>\n",
       "      <td>How can actually pertinent data, as opposed to...</td>\n",
       "      <td></td>\n",
       "    </tr>\n",
       "    <tr>\n",
       "      <th>3</th>\n",
       "      <td></td>\n",
       "      <td></td>\n",
       "      <td>What is information science?  Give definitions...</td>\n",
       "      <td></td>\n",
       "    </tr>\n",
       "    <tr>\n",
       "      <th>4</th>\n",
       "      <td></td>\n",
       "      <td></td>\n",
       "      <td>Image recognition and any other methods of aut...</td>\n",
       "      <td></td>\n",
       "    </tr>\n",
       "    <tr>\n",
       "      <th>5</th>\n",
       "      <td></td>\n",
       "      <td></td>\n",
       "      <td>What special training will ordinary researcher...</td>\n",
       "      <td></td>\n",
       "    </tr>\n",
       "  </tbody>\n",
       "</table>\n",
       "</div>"
      ],
      "text/plain": [
       "   .T .A                                                 .W .B\n",
       ".I                                                            \n",
       "1         What problems and concerns are there in making...   \n",
       "2         How can actually pertinent data, as opposed to...   \n",
       "3         What is information science?  Give definitions...   \n",
       "4         Image recognition and any other methods of aut...   \n",
       "5         What special training will ordinary researcher...   "
      ]
     },
     "execution_count": 45,
     "metadata": {},
     "output_type": "execute_result"
    }
   ],
   "source": [
    "import pandas as pd\n",
    "querydf = pd.read_csv('../../cisiData/cisiQueryCsv.csv')\n",
    "querydf.set_index('.I', inplace=True)\n",
    "querydf.fillna('', inplace=True)\n",
    "querydf.head()"
   ]
  },
  {
   "cell_type": "code",
   "execution_count": 50,
   "metadata": {},
   "outputs": [
    {
     "data": {
      "text/html": [
       "<div>\n",
       "<style scoped>\n",
       "    .dataframe tbody tr th:only-of-type {\n",
       "        vertical-align: middle;\n",
       "    }\n",
       "\n",
       "    .dataframe tbody tr th {\n",
       "        vertical-align: top;\n",
       "    }\n",
       "\n",
       "    .dataframe thead th {\n",
       "        text-align: right;\n",
       "    }\n",
       "</style>\n",
       "<table border=\"1\" class=\"dataframe\">\n",
       "  <thead>\n",
       "    <tr style=\"text-align: right;\">\n",
       "      <th></th>\n",
       "      <th>.T</th>\n",
       "      <th>.A</th>\n",
       "      <th>.W</th>\n",
       "      <th>.B</th>\n",
       "    </tr>\n",
       "    <tr>\n",
       "      <th>.I</th>\n",
       "      <th></th>\n",
       "      <th></th>\n",
       "      <th></th>\n",
       "      <th></th>\n",
       "    </tr>\n",
       "  </thead>\n",
       "  <tbody>\n",
       "    <tr>\n",
       "      <th>1.0</th>\n",
       "      <td></td>\n",
       "      <td></td>\n",
       "      <td>problem concern make descript titl difficulti ...</td>\n",
       "      <td></td>\n",
       "    </tr>\n",
       "    <tr>\n",
       "      <th>2.0</th>\n",
       "      <td></td>\n",
       "      <td></td>\n",
       "      <td>actual pertin data oppos refer entir articl re...</td>\n",
       "      <td></td>\n",
       "    </tr>\n",
       "    <tr>\n",
       "      <th>3.0</th>\n",
       "      <td></td>\n",
       "      <td></td>\n",
       "      <td>inform scienc give definit possibl</td>\n",
       "      <td></td>\n",
       "    </tr>\n",
       "    <tr>\n",
       "      <th>4.0</th>\n",
       "      <td></td>\n",
       "      <td></td>\n",
       "      <td>imag recognit method automat transform print t...</td>\n",
       "      <td></td>\n",
       "    </tr>\n",
       "    <tr>\n",
       "      <th>5.0</th>\n",
       "      <td></td>\n",
       "      <td></td>\n",
       "      <td>special train ordinari research businessmen ne...</td>\n",
       "      <td></td>\n",
       "    </tr>\n",
       "  </tbody>\n",
       "</table>\n",
       "</div>"
      ],
      "text/plain": [
       "    .T .A                                                 .W .B\n",
       ".I                                                             \n",
       "1.0        problem concern make descript titl difficulti ...   \n",
       "2.0        actual pertin data oppos refer entir articl re...   \n",
       "3.0                       inform scienc give definit possibl   \n",
       "4.0        imag recognit method automat transform print t...   \n",
       "5.0        special train ordinari research businessmen ne...   "
      ]
     },
     "execution_count": 50,
     "metadata": {},
     "output_type": "execute_result"
    }
   ],
   "source": [
    "preprocessedQuery = preprocesseQuery(querydf)\n",
    "preprocessedQuery.head()"
   ]
  },
  {
   "cell_type": "code",
   "execution_count": 51,
   "metadata": {},
   "outputs": [],
   "source": [
    "preprocessedQuery.to_csv('../../cisiData/cisiQueryPreprocessed.csv')"
   ]
  },
  {
   "cell_type": "markdown",
   "metadata": {},
   "source": [
    "## indexing model"
   ]
  },
  {
   "cell_type": "code",
   "execution_count": 37,
   "metadata": {},
   "outputs": [],
   "source": [
    "import pandas as pd\n",
    "from sklearn.feature_extraction.text import TfidfVectorizer\n",
    "from sklearn.metrics.pairwise import  cosine_similarity, linear_kernel\n",
    "\n",
    "data = pd.read_csv('../../cisiData/cisiDataPreprocessed.csv')\n",
    "data.fillna('', inplace=True)\n",
    "\n",
    "# with open('../../../cisi/common_words', 'r') as f:\n",
    "#     global commonWords\n",
    "#     commonWords = f.read().split('\\n')   \n",
    "\n",
    "tfidf = TfidfVectorizer(stop_words='english', ngram_range=(1,2))\n",
    "tfidfTable = tfidf.fit_transform(data['data'])\n",
    "\n",
    "def search(query,n:int):\n",
    "    querytfidf = tfidf.transform([query])\n",
    "    cos = cosine_similarity(querytfidf,tfidfTable).flatten()\n",
    "    # print(cos)\n",
    "    resultList = cos.argsort(axis=0)[-n:][::-1]\n",
    "    # print(resultList)\n",
    "    ls = []\n",
    "    ids = []\n",
    "    for i in resultList:\n",
    "        ids.append(data.loc[i,'.I'])\n",
    "\n",
    "    return ids\n"
   ]
  },
  {
   "cell_type": "code",
   "execution_count": 181,
   "metadata": {},
   "outputs": [],
   "source": [
    "import pandas as pd\n",
    "from sklearn.feature_extraction.text import TfidfVectorizer\n",
    "from sklearn.preprocessing import FunctionTransformer\n",
    "from sklearn.pipeline import FeatureUnion, Pipeline\n",
    "\n",
    "data = pd.read_csv('../../cisiData/cisiDataPreprocessed.csv')\n",
    "data.fillna('', inplace=True)\n",
    "\n",
    "transformer = FeatureUnion([\n",
    "                ('title_tfidf', \n",
    "                  Pipeline([('extract_field',\n",
    "                              FunctionTransformer(lambda x: x['.T'], \n",
    "                                                  validate=False)),\n",
    "                            ('tfidf', \n",
    "                              TfidfVectorizer())])),\n",
    "                ('author_tfidf', \n",
    "                  Pipeline([('extract_field', \n",
    "                              FunctionTransformer(lambda x: x['.A'], \n",
    "                                                  validate=False)),\n",
    "                            ('tfidf', \n",
    "                              TfidfVectorizer())])),\n",
    "                ('abstract_tfidf',\n",
    "                 Pipeline([('extract_field',\n",
    "                            FunctionTransformer(lambda x: x['.W'],\n",
    "                                                  validate=False)),\n",
    "                            ('tfidf',\n",
    "                              TfidfVectorizer())]))])\n",
    "tfidfTable = transformer.fit_transform(data)"
   ]
  },
  {
   "cell_type": "code",
   "execution_count": 182,
   "metadata": {},
   "outputs": [
    {
     "data": {
      "text/plain": [
       "array([[0.        , 0.        , 0.        , ..., 0.        , 0.        ,\n",
       "        0.        ],\n",
       "       [0.5978547 , 0.        , 0.        , ..., 0.        , 0.        ,\n",
       "        0.        ],\n",
       "       [0.51193249, 0.        , 0.        , ..., 0.        , 0.        ,\n",
       "        0.        ],\n",
       "       ...,\n",
       "       [0.        , 0.        , 0.        , ..., 0.        , 0.        ,\n",
       "        0.        ],\n",
       "       [0.        , 0.        , 0.        , ..., 0.        , 0.        ,\n",
       "        0.        ],\n",
       "       [0.        , 0.        , 0.        , ..., 0.        , 0.        ,\n",
       "        0.        ]])"
      ]
     },
     "execution_count": 182,
     "metadata": {},
     "output_type": "execute_result"
    }
   ],
   "source": [
    "tfidfTable.toarray()[1000:20000]"
   ]
  },
  {
   "cell_type": "code",
   "execution_count": 173,
   "metadata": {},
   "outputs": [
    {
     "data": {
      "text/plain": [
       "[429.0, 722.0, 589.0, 38.0, 603.0, 65.0, 1265.0, 813.0, 1299.0, 565.0]"
      ]
     },
     "execution_count": 173,
     "metadata": {},
     "output_type": "execute_result"
    }
   ],
   "source": [
    "def search(query,n:int):\n",
    "    querytfidf = transformer.transform(query)\n",
    "    cos = cosine_similarity(querytfidf,tfidfTable).flatten()\n",
    "    # print(cos)\n",
    "    resultList = cos.argsort(axis=0)[-n:][::-1]\n",
    "    # print(resultList)\n",
    "    ls = []\n",
    "    ids = []\n",
    "    for i in resultList:\n",
    "        ids.append(data.loc[i,'.I'])\n",
    "\n",
    "    return ids\n",
    "\n",
    "\n",
    "search(pd.DataFrame(preprocessedQuery.loc[preprocessedQuery.index == 1,:]),10)"
   ]
  },
  {
   "cell_type": "code",
   "execution_count": 98,
   "metadata": {},
   "outputs": [
    {
     "data": {
      "text/html": [
       "<div>\n",
       "<style scoped>\n",
       "    .dataframe tbody tr th:only-of-type {\n",
       "        vertical-align: middle;\n",
       "    }\n",
       "\n",
       "    .dataframe tbody tr th {\n",
       "        vertical-align: top;\n",
       "    }\n",
       "\n",
       "    .dataframe thead th {\n",
       "        text-align: right;\n",
       "    }\n",
       "</style>\n",
       "<table border=\"1\" class=\"dataframe\">\n",
       "  <thead>\n",
       "    <tr style=\"text-align: right;\">\n",
       "      <th></th>\n",
       "      <th>.T</th>\n",
       "      <th>.A</th>\n",
       "      <th>.W</th>\n",
       "      <th>.B</th>\n",
       "    </tr>\n",
       "    <tr>\n",
       "      <th>.I</th>\n",
       "      <th></th>\n",
       "      <th></th>\n",
       "      <th></th>\n",
       "      <th></th>\n",
       "    </tr>\n",
       "  </thead>\n",
       "  <tbody>\n",
       "    <tr>\n",
       "      <th>1.0</th>\n",
       "      <td></td>\n",
       "      <td></td>\n",
       "      <td>problem concern make descript titl difficulti ...</td>\n",
       "      <td></td>\n",
       "    </tr>\n",
       "  </tbody>\n",
       "</table>\n",
       "</div>"
      ],
      "text/plain": [
       "    .T .A                                                 .W .B\n",
       ".I                                                             \n",
       "1.0        problem concern make descript titl difficulti ...   "
      ]
     },
     "execution_count": 98,
     "metadata": {},
     "output_type": "execute_result"
    }
   ],
   "source": [
    "tempdf = pd.DataFrame(preprocessedQuery.loc[preprocessedQuery.index == 1,:])\n",
    "tempdf"
   ]
  },
  {
   "cell_type": "code",
   "execution_count": 183,
   "metadata": {},
   "outputs": [],
   "source": [
    "queriesPath = '../../cisiData/cisiQueryPreprocessed.csv'\n",
    "queriesData = pd.read_csv(queriesPath)\n",
    "\n",
    "\n",
    "def queryingData(qDataFrame:pd.DataFrame, n):\n",
    "    result = pd.DataFrame()\n",
    "    resultDict:dict = {}\n",
    "    resultDictCopy = resultDict.copy()\n",
    "    for i in qDataFrame.index:\n",
    "        try:\n",
    "\n",
    "            tempList:list = search(pd.DataFrame(preprocessedQuery.loc[preprocessedQuery.index == i+1,:]), n)\n",
    "            for id in range(1,n+1):\n",
    "                resultDictCopy[str(id)] = tempList[id - 1]\n",
    "            result = result.append(resultDictCopy, ignore_index=True)\n",
    "            resultDictCopy = resultDict.copy()\n",
    "        except:\n",
    "            print(i)\n",
    "            raise\n",
    "    return result\n"
   ]
  },
  {
   "cell_type": "code",
   "execution_count": 184,
   "metadata": {},
   "outputs": [
    {
     "data": {
      "text/html": [
       "<div>\n",
       "<style scoped>\n",
       "    .dataframe tbody tr th:only-of-type {\n",
       "        vertical-align: middle;\n",
       "    }\n",
       "\n",
       "    .dataframe tbody tr th {\n",
       "        vertical-align: top;\n",
       "    }\n",
       "\n",
       "    .dataframe thead th {\n",
       "        text-align: right;\n",
       "    }\n",
       "</style>\n",
       "<table border=\"1\" class=\"dataframe\">\n",
       "  <thead>\n",
       "    <tr style=\"text-align: right;\">\n",
       "      <th></th>\n",
       "      <th>1</th>\n",
       "      <th>2</th>\n",
       "      <th>3</th>\n",
       "      <th>4</th>\n",
       "      <th>5</th>\n",
       "      <th>6</th>\n",
       "      <th>7</th>\n",
       "      <th>8</th>\n",
       "      <th>9</th>\n",
       "      <th>10</th>\n",
       "    </tr>\n",
       "  </thead>\n",
       "  <tbody>\n",
       "    <tr>\n",
       "      <th>0</th>\n",
       "      <td>722.0</td>\n",
       "      <td>429.0</td>\n",
       "      <td>589.0</td>\n",
       "      <td>603.0</td>\n",
       "      <td>1299.0</td>\n",
       "      <td>1281.0</td>\n",
       "      <td>38.0</td>\n",
       "      <td>813.0</td>\n",
       "      <td>620.0</td>\n",
       "      <td>836.0</td>\n",
       "    </tr>\n",
       "    <tr>\n",
       "      <th>1</th>\n",
       "      <td>1138.0</td>\n",
       "      <td>1155.0</td>\n",
       "      <td>565.0</td>\n",
       "      <td>532.0</td>\n",
       "      <td>1096.0</td>\n",
       "      <td>790.0</td>\n",
       "      <td>1136.0</td>\n",
       "      <td>58.0</td>\n",
       "      <td>562.0</td>\n",
       "      <td>309.0</td>\n",
       "    </tr>\n",
       "    <tr>\n",
       "      <th>2</th>\n",
       "      <td>469.0</td>\n",
       "      <td>1179.0</td>\n",
       "      <td>1181.0</td>\n",
       "      <td>1133.0</td>\n",
       "      <td>445.0</td>\n",
       "      <td>85.0</td>\n",
       "      <td>599.0</td>\n",
       "      <td>540.0</td>\n",
       "      <td>1077.0</td>\n",
       "      <td>803.0</td>\n",
       "    </tr>\n",
       "    <tr>\n",
       "      <th>3</th>\n",
       "      <td>179.0</td>\n",
       "      <td>790.0</td>\n",
       "      <td>175.0</td>\n",
       "      <td>77.0</td>\n",
       "      <td>1224.0</td>\n",
       "      <td>565.0</td>\n",
       "      <td>1120.0</td>\n",
       "      <td>72.0</td>\n",
       "      <td>315.0</td>\n",
       "      <td>498.0</td>\n",
       "    </tr>\n",
       "    <tr>\n",
       "      <th>4</th>\n",
       "      <td>1038.0</td>\n",
       "      <td>1105.0</td>\n",
       "      <td>1166.0</td>\n",
       "      <td>122.0</td>\n",
       "      <td>710.0</td>\n",
       "      <td>1361.0</td>\n",
       "      <td>862.0</td>\n",
       "      <td>459.0</td>\n",
       "      <td>1136.0</td>\n",
       "      <td>1106.0</td>\n",
       "    </tr>\n",
       "  </tbody>\n",
       "</table>\n",
       "</div>"
      ],
      "text/plain": [
       "        1       2       3       4       5       6       7      8       9  \\\n",
       "0   722.0   429.0   589.0   603.0  1299.0  1281.0    38.0  813.0   620.0   \n",
       "1  1138.0  1155.0   565.0   532.0  1096.0   790.0  1136.0   58.0   562.0   \n",
       "2   469.0  1179.0  1181.0  1133.0   445.0    85.0   599.0  540.0  1077.0   \n",
       "3   179.0   790.0   175.0    77.0  1224.0   565.0  1120.0   72.0   315.0   \n",
       "4  1038.0  1105.0  1166.0   122.0   710.0  1361.0   862.0  459.0  1136.0   \n",
       "\n",
       "       10  \n",
       "0   836.0  \n",
       "1   309.0  \n",
       "2   803.0  \n",
       "3   498.0  \n",
       "4  1106.0  "
      ]
     },
     "execution_count": 184,
     "metadata": {},
     "output_type": "execute_result"
    }
   ],
   "source": [
    "queriesResult = queryingData(queriesData, 10)\n",
    "queriesResult.head()"
   ]
  },
  {
   "cell_type": "markdown",
   "metadata": {},
   "source": [
    "## Evaluation"
   ]
  },
  {
   "cell_type": "markdown",
   "metadata": {},
   "source": [
    "### precision"
   ]
  },
  {
   "cell_type": "code",
   "execution_count": 179,
   "metadata": {},
   "outputs": [],
   "source": [
    "import pandas as pd\n",
    "from sklearn.metrics import precision_score, recall_score\n",
    "\n",
    "def reSizeLists(l1:list, l2:list):\n",
    "    if len(l1) < len(l2):\n",
    "        l2 = l2[0:len(l1)]\n",
    "    while len(l1) > len(l2):\n",
    "        l1 = l1[0:len(l2)]\n",
    "\n",
    "    return l1, l2, len(l1)\n",
    "\n",
    "\n",
    "def precWithoutOrder(l1:list,l2:list):\n",
    "    try:\n",
    "        return len(set(l1).intersection(set(l2))) / len(l2)\n",
    "    except:\n",
    "        return 0\n",
    "\n",
    "def calcPrecisionAtK(resData:pd.DataFrame, qresData: pd.DataFrame):\n",
    "    precisionsAtK:list = []\n",
    "    precisionAtK:float\n",
    "    for i in resData.index:\n",
    "        precisionOnQuery = []\n",
    "        resArray = resData.loc[i].to_numpy()\n",
    "        qresArray = qresData.loc[qresData['.I'] == i+1, 'data'].to_numpy()\n",
    "        resArray, qresArray, lenth = reSizeLists(resArray, qresArray)\n",
    "        if len(qresArray) == 0: \n",
    "            continue\n",
    "        \n",
    "        # for lenI in range(lenth-1,lenth):\n",
    "        #     tempRes:list = resArray[0:lenI+1].tolist()\n",
    "        #     tempQRes:list = qresArray[0:lenI+1].tolist()\n",
    "        #     precisionOnQuery.append(precision_score(qresArray, resArray, average='weighted', zero_division=0))\n",
    "            \n",
    "            # if i == 0:\n",
    "            #     print(tempRes)\n",
    "            #     print(tempQRes)\n",
    "            #     print(precisionOnQuery)\n",
    "        precisionOnQuery.append(precision_score(qresArray, resArray, average='micro'))\n",
    "   \n",
    "        try:\n",
    "            precisionsAtK.append(sum(precisionOnQuery) / len(precisionOnQuery))\n",
    "        except ZeroDivisionError: \n",
    "            precisionsAtK.append(0)\n",
    "    precisionAtK = sum(precisionsAtK) / len(precisionsAtK)\n",
    "    # print(precisionAtK)\n",
    "    return precisionAtK"
   ]
  },
  {
   "cell_type": "code",
   "execution_count": null,
   "metadata": {},
   "outputs": [],
   "source": []
  },
  {
   "cell_type": "code",
   "execution_count": 111,
   "metadata": {},
   "outputs": [],
   "source": [
    "import pandas as pd\n",
    "qrelsFrame = pd.read_csv('../../cisiData/cisiQRels.csv')"
   ]
  },
  {
   "cell_type": "code",
   "execution_count": 185,
   "metadata": {},
   "outputs": [
    {
     "data": {
      "text/plain": [
       "0.015789473684210527"
      ]
     },
     "execution_count": 185,
     "metadata": {},
     "output_type": "execute_result"
    }
   ],
   "source": [
    "calcPrecisionAtK(queriesResult, qrelsFrame)"
   ]
  },
  {
   "cell_type": "code",
   "execution_count": null,
   "metadata": {},
   "outputs": [],
   "source": [
    "qrelsFrame.head()"
   ]
  },
  {
   "cell_type": "code",
   "execution_count": null,
   "metadata": {},
   "outputs": [],
   "source": [
    "\n",
    "\n",
    "def getMaxNumberOfGoldenStandard(queriesData):\n",
    "    n:int = 0\n",
    "    for i in queriesData.index:\n",
    "        tempN = len(qrelsFrame.loc[qrelsFrame['.I'] == i+1, 'data'].to_numpy())\n",
    "        if n < tempN:\n",
    "            n = tempN\n",
    "    return n\n",
    "\n",
    "def calcCisiDataPrecision(queriesData, qresData):\n",
    "    n:int = getMaxNumberOfGoldenStandard(queriesData)\n",
    "    resArray = queryingData(queriesData, n)\n",
    "    precision = calcPrecisionAtK(resArray, qresData)\n",
    "    return precision\n",
    "resArray = calcCisiDataPrecision(queriesData, qrelsFrame)\n",
    "resArray\n",
    "\n",
    "\n"
   ]
  }
 ],
 "metadata": {
  "interpreter": {
   "hash": "6ad1a5a807b944b1335f606d031e49130ad1da3a9de40b9fa5d942006ec880ff"
  },
  "kernelspec": {
   "display_name": "Python 3.7.13 ('IRProject')",
   "language": "python",
   "name": "python3"
  },
  "language_info": {
   "codemirror_mode": {
    "name": "ipython",
    "version": 3
   },
   "file_extension": ".py",
   "mimetype": "text/x-python",
   "name": "python",
   "nbconvert_exporter": "python",
   "pygments_lexer": "ipython3",
   "version": "3.7.13"
  },
  "orig_nbformat": 4
 },
 "nbformat": 4,
 "nbformat_minor": 2
}

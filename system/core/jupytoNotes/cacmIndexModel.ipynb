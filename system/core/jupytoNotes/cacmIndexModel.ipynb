{
 "cells": [
  {
   "cell_type": "code",
   "execution_count": 1,
   "metadata": {},
   "outputs": [
    {
     "data": {
      "text/html": [
       "<div>\n",
       "<style scoped>\n",
       "    .dataframe tbody tr th:only-of-type {\n",
       "        vertical-align: middle;\n",
       "    }\n",
       "\n",
       "    .dataframe tbody tr th {\n",
       "        vertical-align: top;\n",
       "    }\n",
       "\n",
       "    .dataframe thead th {\n",
       "        text-align: right;\n",
       "    }\n",
       "</style>\n",
       "<table border=\"1\" class=\"dataframe\">\n",
       "  <thead>\n",
       "    <tr style=\"text-align: right;\">\n",
       "      <th></th>\n",
       "      <th>.I</th>\n",
       "      <th>data</th>\n",
       "      <th>.B</th>\n",
       "      <th>.C</th>\n",
       "      <th>.N</th>\n",
       "      <th>.X</th>\n",
       "    </tr>\n",
       "  </thead>\n",
       "  <tbody>\n",
       "    <tr>\n",
       "      <th>0</th>\n",
       "      <td>1</td>\n",
       "      <td>preliminari report intern algebra languag perl...</td>\n",
       "      <td>1958-12-01 00:00:00</td>\n",
       "      <td>NaN</td>\n",
       "      <td>1978-03-22 20:28:00</td>\n",
       "      <td>100,5,1-123,5,1-164,5,1-1,5,1-1,5,1-1,5,1-205,...</td>\n",
       "    </tr>\n",
       "    <tr>\n",
       "      <th>1</th>\n",
       "      <td>2</td>\n",
       "      <td>extract root repeat subtract digit comput sugai</td>\n",
       "      <td>1958-12-01 00:00:00</td>\n",
       "      <td>NaN</td>\n",
       "      <td>1978-03-22 20:29:00</td>\n",
       "      <td>100,5,1-123,5,1-164,5,1-1,5,1-1,5,1-1,5,1-205,...</td>\n",
       "    </tr>\n",
       "    <tr>\n",
       "      <th>2</th>\n",
       "      <td>3</td>\n",
       "      <td>techniqu depart matrix program scheme friedman</td>\n",
       "      <td>1958-12-01 00:00:00</td>\n",
       "      <td>NaN</td>\n",
       "      <td>1978-03-22 20:30:00</td>\n",
       "      <td>100,5,1-123,5,1-164,5,1-1,5,1-1,5,1-1,5,1-205,...</td>\n",
       "    </tr>\n",
       "    <tr>\n",
       "      <th>3</th>\n",
       "      <td>4</td>\n",
       "      <td>glossari comput engin program terminolog</td>\n",
       "      <td>1958-11-01 00:00:00</td>\n",
       "      <td>NaN</td>\n",
       "      <td>1978-03-22 20:32:00</td>\n",
       "      <td>100,5,1-123,5,1-164,5,1-1,5,1-1,5,1-1,5,1-205,...</td>\n",
       "    </tr>\n",
       "    <tr>\n",
       "      <th>4</th>\n",
       "      <td>5</td>\n",
       "      <td>two squar root approxim wadey</td>\n",
       "      <td>1958-11-01 00:00:00</td>\n",
       "      <td>NaN</td>\n",
       "      <td>1978-03-22 20:33:00</td>\n",
       "      <td>100,5,1-123,5,1-164,5,1-1,5,1-1,5,1-1,5,1-205,...</td>\n",
       "    </tr>\n",
       "  </tbody>\n",
       "</table>\n",
       "</div>"
      ],
      "text/plain": [
       "   .I                                               data                   .B  \\\n",
       "0   1  preliminari report intern algebra languag perl...  1958-12-01 00:00:00   \n",
       "1   2    extract root repeat subtract digit comput sugai  1958-12-01 00:00:00   \n",
       "2   3     techniqu depart matrix program scheme friedman  1958-12-01 00:00:00   \n",
       "3   4           glossari comput engin program terminolog  1958-11-01 00:00:00   \n",
       "4   5                      two squar root approxim wadey  1958-11-01 00:00:00   \n",
       "\n",
       "    .C                   .N                                                 .X  \n",
       "0  NaN  1978-03-22 20:28:00  100,5,1-123,5,1-164,5,1-1,5,1-1,5,1-1,5,1-205,...  \n",
       "1  NaN  1978-03-22 20:29:00  100,5,1-123,5,1-164,5,1-1,5,1-1,5,1-1,5,1-205,...  \n",
       "2  NaN  1978-03-22 20:30:00  100,5,1-123,5,1-164,5,1-1,5,1-1,5,1-1,5,1-205,...  \n",
       "3  NaN  1978-03-22 20:32:00  100,5,1-123,5,1-164,5,1-1,5,1-1,5,1-1,5,1-205,...  \n",
       "4  NaN  1978-03-22 20:33:00  100,5,1-123,5,1-164,5,1-1,5,1-1,5,1-1,5,1-205,...  "
      ]
     },
     "execution_count": 1,
     "metadata": {},
     "output_type": "execute_result"
    }
   ],
   "source": [
    "import pandas as pd\n",
    "data = pd.read_csv('../../cacmData/cacmDataPreprocessed.csv')\n",
    "data.head()"
   ]
  },
  {
   "cell_type": "code",
   "execution_count": 2,
   "metadata": {},
   "outputs": [],
   "source": [
    "from sklearn.feature_extraction.text import TfidfVectorizer\n",
    "tfidf = TfidfVectorizer(stop_words='english', ngram_range=(1,2))"
   ]
  },
  {
   "cell_type": "code",
   "execution_count": 3,
   "metadata": {},
   "outputs": [],
   "source": [
    "tfidfTable = tfidf.fit_transform(data['data'])"
   ]
  },
  {
   "cell_type": "code",
   "execution_count": 4,
   "metadata": {},
   "outputs": [],
   "source": [
    "from sklearn.metrics.pairwise import linear_kernel, cosine_similarity\n",
    "\n",
    "test ='articl exist deal tss time share system oper system ibm comput richard alexand comp serv langmuir lab tss'\n",
    "# test = 'interest article write eithe prieve pooch prieve pooch author pooch prieve'\n",
    "# test = 'intermed language use construct multi target compile tcoll donna bergmark comp serv uris hall intermed lang'\n",
    "# test = '''\n",
    "# algorithm parallel comput especi comparison parallel sequenti algorithm mark w krentel\n",
    "# '''\n",
    "def search(query,n:int):\n",
    "    querytfidf = tfidf.transform([query])\n",
    "    cos = linear_kernel(tfidfTable, querytfidf) \n",
    "    resultList = cos.argsort(axis=0)[-n:][::-1]\n",
    "    ls = []\n",
    "    ids = []\n",
    "    for i in resultList:\n",
    "        ids.append(data.loc[i,'.I'].to_list()[0])\n",
    "        # print(data.loc[i,'.I'].to_list()[0])\n",
    "    return ids\n",
    "    "
   ]
  },
  {
   "cell_type": "code",
   "execution_count": null,
   "metadata": {},
   "outputs": [],
   "source": [
    "search(test)"
   ]
  },
  {
   "cell_type": "markdown",
   "metadata": {},
   "source": [
    "### correction"
   ]
  },
  {
   "cell_type": "code",
   "execution_count": null,
   "metadata": {},
   "outputs": [],
   "source": [
    "import nltk\n",
    "from nltk.metrics.distance import edit_distance\n",
    "from nltk.metrics.distance import jaccard_distance\n",
    "from nltk.util import ngrams\n",
    "from nltk.corpus import words"
   ]
  },
  {
   "cell_type": "code",
   "execution_count": null,
   "metadata": {},
   "outputs": [],
   "source": [
    "correct_words = words.words()\n",
    "incorrectWords = '''naem'''.split()\n",
    "for word in incorrectWords:\n",
    "    try:\n",
    "        temp = [(jaccard_distance(set(ngrams(word, 2)),\n",
    "                                  set(ngrams(w, 2))),w)\n",
    "                                  for w in correct_words if w[0] == word[0]]\n",
    "        print(sorted(temp, key = lambda val:val[0])[0][1])\n",
    "    except:\n",
    "        pass"
   ]
  },
  {
   "cell_type": "code",
   "execution_count": null,
   "metadata": {},
   "outputs": [],
   "source": [
    "correct_words = words.words()\n",
    "incorrectWords = '''helllo my name iss saher'''.split()\n",
    "for word in incorrectWords:\n",
    "    try:\n",
    "        temp = [(edit_distance(word,w),w)\n",
    "                                  for w in correct_words if w[0] == word[0]]\n",
    "        print(sorted(temp, key = lambda val:val[0])[0][1])\n",
    "    except:\n",
    "        pass"
   ]
  },
  {
   "cell_type": "markdown",
   "metadata": {},
   "source": [
    "### querying"
   ]
  },
  {
   "cell_type": "code",
   "execution_count": 5,
   "metadata": {},
   "outputs": [
    {
     "data": {
      "text/html": [
       "<div>\n",
       "<style scoped>\n",
       "    .dataframe tbody tr th:only-of-type {\n",
       "        vertical-align: middle;\n",
       "    }\n",
       "\n",
       "    .dataframe tbody tr th {\n",
       "        vertical-align: top;\n",
       "    }\n",
       "\n",
       "    .dataframe thead th {\n",
       "        text-align: right;\n",
       "    }\n",
       "</style>\n",
       "<table border=\"1\" class=\"dataframe\">\n",
       "  <thead>\n",
       "    <tr style=\"text-align: right;\">\n",
       "      <th></th>\n",
       "      <th>.I</th>\n",
       "      <th>data</th>\n",
       "    </tr>\n",
       "  </thead>\n",
       "  <tbody>\n",
       "    <tr>\n",
       "      <th>0</th>\n",
       "      <td>1</td>\n",
       "      <td>articl exist deal tss time share system oper s...</td>\n",
       "    </tr>\n",
       "    <tr>\n",
       "      <th>1</th>\n",
       "      <td>2</td>\n",
       "      <td>interest articl write either priev udo pooch p...</td>\n",
       "    </tr>\n",
       "    <tr>\n",
       "      <th>2</th>\n",
       "      <td>3</td>\n",
       "      <td>intermedi languag use construct multi target c...</td>\n",
       "    </tr>\n",
       "    <tr>\n",
       "      <th>3</th>\n",
       "      <td>4</td>\n",
       "      <td>interest mechan commun disjoint process possib...</td>\n",
       "    </tr>\n",
       "    <tr>\n",
       "      <th>4</th>\n",
       "      <td>5</td>\n",
       "      <td>like paper design implement edit interfac wind...</td>\n",
       "    </tr>\n",
       "  </tbody>\n",
       "</table>\n",
       "</div>"
      ],
      "text/plain": [
       "   .I                                               data\n",
       "0   1  articl exist deal tss time share system oper s...\n",
       "1   2  interest articl write either priev udo pooch p...\n",
       "2   3  intermedi languag use construct multi target c...\n",
       "3   4  interest mechan commun disjoint process possib...\n",
       "4   5  like paper design implement edit interfac wind..."
      ]
     },
     "execution_count": 5,
     "metadata": {},
     "output_type": "execute_result"
    }
   ],
   "source": [
    "queriesPath = '../../cacmData/cacmQueryPreprocessed.csv'\n",
    "queriesData = pd.read_csv(queriesPath)\n",
    "queriesData.head()"
   ]
  },
  {
   "cell_type": "code",
   "execution_count": 6,
   "metadata": {},
   "outputs": [],
   "source": [
    "\n",
    "def queryingData(qDataFrame:pd.DataFrame, n):\n",
    "    result = pd.DataFrame()\n",
    "    resultDict:dict = {}\n",
    "    resultDictCopy = resultDict.copy()\n",
    "    for i in qDataFrame.index:\n",
    "        try:\n",
    "            tempList:list = search(qDataFrame.loc[i,'data'], n)\n",
    "            for id in range(1,n+1):\n",
    "                resultDictCopy[str(id)] = tempList[id - 1]\n",
    "            result = result.append(resultDictCopy, ignore_index=True)\n",
    "            resultDictCopy = resultDict.copy()\n",
    "        except:\n",
    "            print(i)\n",
    "            raise\n",
    "    return result\n",
    "\n",
    "\n",
    "\n"
   ]
  },
  {
   "cell_type": "code",
   "execution_count": null,
   "metadata": {},
   "outputs": [],
   "source": [
    "res = queryingData(queriesData)"
   ]
  },
  {
   "cell_type": "code",
   "execution_count": null,
   "metadata": {},
   "outputs": [],
   "source": [
    "res.head()"
   ]
  },
  {
   "cell_type": "code",
   "execution_count": null,
   "metadata": {},
   "outputs": [],
   "source": [
    "res.to_csv('../../cacmData/cacmQueryResult.csv')"
   ]
  },
  {
   "cell_type": "code",
   "execution_count": 8,
   "metadata": {},
   "outputs": [
    {
     "data": {
      "text/html": [
       "<div>\n",
       "<style scoped>\n",
       "    .dataframe tbody tr th:only-of-type {\n",
       "        vertical-align: middle;\n",
       "    }\n",
       "\n",
       "    .dataframe tbody tr th {\n",
       "        vertical-align: top;\n",
       "    }\n",
       "\n",
       "    .dataframe thead th {\n",
       "        text-align: right;\n",
       "    }\n",
       "</style>\n",
       "<table border=\"1\" class=\"dataframe\">\n",
       "  <thead>\n",
       "    <tr style=\"text-align: right;\">\n",
       "      <th></th>\n",
       "      <th>ids</th>\n",
       "      <th>data</th>\n",
       "    </tr>\n",
       "  </thead>\n",
       "  <tbody>\n",
       "    <tr>\n",
       "      <th>0</th>\n",
       "      <td>1</td>\n",
       "      <td>1410</td>\n",
       "    </tr>\n",
       "    <tr>\n",
       "      <th>1</th>\n",
       "      <td>1</td>\n",
       "      <td>1572</td>\n",
       "    </tr>\n",
       "    <tr>\n",
       "      <th>2</th>\n",
       "      <td>1</td>\n",
       "      <td>1605</td>\n",
       "    </tr>\n",
       "    <tr>\n",
       "      <th>3</th>\n",
       "      <td>1</td>\n",
       "      <td>2020</td>\n",
       "    </tr>\n",
       "    <tr>\n",
       "      <th>4</th>\n",
       "      <td>1</td>\n",
       "      <td>2358</td>\n",
       "    </tr>\n",
       "  </tbody>\n",
       "</table>\n",
       "</div>"
      ],
      "text/plain": [
       "   ids  data\n",
       "0    1  1410\n",
       "1    1  1572\n",
       "2    1  1605\n",
       "3    1  2020\n",
       "4    1  2358"
      ]
     },
     "execution_count": 8,
     "metadata": {},
     "output_type": "execute_result"
    }
   ],
   "source": [
    "qresPath = '../../cacmData/qrels.csv'\n",
    "qresData = pd.read_csv(qresPath)\n",
    "qresData.head()"
   ]
  },
  {
   "cell_type": "markdown",
   "metadata": {},
   "source": [
    "### Evaluate"
   ]
  },
  {
   "cell_type": "markdown",
   "metadata": {},
   "source": [
    "precision"
   ]
  },
  {
   "cell_type": "code",
   "execution_count": 65,
   "metadata": {},
   "outputs": [],
   "source": [
    "import pandas as pd\n",
    "from sklearn.metrics import precision_score\n",
    "\n",
    "def reSizeLists(l1:list, l2:list):\n",
    "    if len(l1) < len(l2):\n",
    "        l2 = l2[0:len(l1)]\n",
    "    while len(l1) > len(l2):\n",
    "        l1 = l1[0:len(l2)]\n",
    "\n",
    "    return l1, l2, len(l1)\n",
    "\n",
    "\n",
    "def calcPrecisionAtK(resData:pd.DataFrame, qresData: pd.DataFrame):\n",
    "    precisionsAtK:list = []\n",
    "    precisionAtK:float\n",
    "    for i in resData.index:\n",
    "        precisionOnQuery = []\n",
    "        resArray = resData.loc[i].to_numpy()\n",
    "        qresArray = qresData.loc[qresData['ids'] == i+1, 'data'].to_numpy()\n",
    "        resArray, qresArray, lenth = reSizeLists(resArray, qresArray)\n",
    "        for lenI in range(0,lenth):\n",
    "            tempRes:list = resArray[0:lenI+1].tolist()\n",
    "            tempQRes:list = qresArray[0:lenI+1].tolist()\n",
    "            precisionOnQuery.append(precision_score(tempQRes, tempRes, average='micro', zero_division=1))\n",
    "            if i == 1:\n",
    "                print(tempRes)\n",
    "                print(tempQRes)\n",
    "                print(precisionOnQuery)\n",
    "\n",
    "        precisionsAtK.append(sum(precisionOnQuery) / (lenth + 1))\n",
    "    precisionAtK = sum(precisionsAtK) / len(precisionsAtK)\n",
    "    return precisionAtK\n",
    "\n",
    "\n",
    "    \n",
    "\n"
   ]
  },
  {
   "cell_type": "code",
   "execution_count": 66,
   "metadata": {},
   "outputs": [
    {
     "name": "stdout",
     "output_type": "stream",
     "text": [
      "[3078.0]\n",
      "[2434]\n",
      "[0.0]\n",
      "[3078.0, 236.0]\n",
      "[2434, 2863]\n",
      "[0.0, 0.0]\n",
      "[3078.0, 236.0, 1183.0]\n",
      "[2434, 2863, 3078]\n",
      "[0.0, 0.0, 0.0]\n"
     ]
    },
    {
     "data": {
      "text/plain": [
       "0.042414190584943015"
      ]
     },
     "execution_count": 66,
     "metadata": {},
     "output_type": "execute_result"
    }
   ],
   "source": [
    "\n",
    "\n",
    "def getMaxNumberOfGoldenStandard(queriesData):\n",
    "    n:int = 0\n",
    "    for i in queriesData.index:\n",
    "        tempN = len(qresData.loc[qresData['ids'] == i+1, 'data'].to_numpy())\n",
    "        if n < tempN:\n",
    "            n = tempN\n",
    "    return n\n",
    "\n",
    "def calcCacmDataPrecision(queriesData, qresData):\n",
    "    n:int = getMaxNumberOfGoldenStandard(queriesData)\n",
    "    resArray = queryingData(queriesData, n)\n",
    "    precision = calcPrecisionAtK(resArray, qresData)\n",
    "    return precision\n",
    "resArray = calcCacmDataPrecision(queriesData, qresData)\n",
    "resArray\n",
    "\n",
    "\n"
   ]
  },
  {
   "cell_type": "code",
   "execution_count": null,
   "metadata": {},
   "outputs": [],
   "source": []
  }
 ],
 "metadata": {
  "interpreter": {
   "hash": "6ad1a5a807b944b1335f606d031e49130ad1da3a9de40b9fa5d942006ec880ff"
  },
  "kernelspec": {
   "display_name": "Python 3.7.13 ('IRProject')",
   "language": "python",
   "name": "python3"
  },
  "language_info": {
   "codemirror_mode": {
    "name": "ipython",
    "version": 3
   },
   "file_extension": ".py",
   "mimetype": "text/x-python",
   "name": "python",
   "nbconvert_exporter": "python",
   "pygments_lexer": "ipython3",
   "version": "3.7.13"
  },
  "orig_nbformat": 4
 },
 "nbformat": 4,
 "nbformat_minor": 2
}

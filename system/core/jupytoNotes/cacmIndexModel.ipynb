{
 "cells": [
  {
   "cell_type": "code",
   "execution_count": 1,
   "metadata": {},
   "outputs": [
    {
     "data": {
      "text/html": [
       "<div>\n",
       "<style scoped>\n",
       "    .dataframe tbody tr th:only-of-type {\n",
       "        vertical-align: middle;\n",
       "    }\n",
       "\n",
       "    .dataframe tbody tr th {\n",
       "        vertical-align: top;\n",
       "    }\n",
       "\n",
       "    .dataframe thead th {\n",
       "        text-align: right;\n",
       "    }\n",
       "</style>\n",
       "<table border=\"1\" class=\"dataframe\">\n",
       "  <thead>\n",
       "    <tr style=\"text-align: right;\">\n",
       "      <th></th>\n",
       "      <th>.I</th>\n",
       "      <th>data</th>\n",
       "      <th>.B</th>\n",
       "      <th>.C</th>\n",
       "      <th>.N</th>\n",
       "      <th>.X</th>\n",
       "    </tr>\n",
       "  </thead>\n",
       "  <tbody>\n",
       "    <tr>\n",
       "      <th>0</th>\n",
       "      <td>1</td>\n",
       "      <td>preliminari report intern algebra languag perl...</td>\n",
       "      <td>1958-12-01 00:00:00</td>\n",
       "      <td>NaN</td>\n",
       "      <td>1978-03-22 20:28:00</td>\n",
       "      <td>100,5,1-123,5,1-164,5,1-1,5,1-1,5,1-1,5,1-205,...</td>\n",
       "    </tr>\n",
       "    <tr>\n",
       "      <th>1</th>\n",
       "      <td>2</td>\n",
       "      <td>extract root repeat subtract digit comput sugai</td>\n",
       "      <td>1958-12-01 00:00:00</td>\n",
       "      <td>NaN</td>\n",
       "      <td>1978-03-22 20:29:00</td>\n",
       "      <td>100,5,1-123,5,1-164,5,1-1,5,1-1,5,1-1,5,1-205,...</td>\n",
       "    </tr>\n",
       "    <tr>\n",
       "      <th>2</th>\n",
       "      <td>3</td>\n",
       "      <td>techniqu depart matrix program scheme friedman</td>\n",
       "      <td>1958-12-01 00:00:00</td>\n",
       "      <td>NaN</td>\n",
       "      <td>1978-03-22 20:30:00</td>\n",
       "      <td>100,5,1-123,5,1-164,5,1-1,5,1-1,5,1-1,5,1-205,...</td>\n",
       "    </tr>\n",
       "    <tr>\n",
       "      <th>3</th>\n",
       "      <td>4</td>\n",
       "      <td>glossari comput engin program terminolog</td>\n",
       "      <td>1958-11-01 00:00:00</td>\n",
       "      <td>NaN</td>\n",
       "      <td>1978-03-22 20:32:00</td>\n",
       "      <td>100,5,1-123,5,1-164,5,1-1,5,1-1,5,1-1,5,1-205,...</td>\n",
       "    </tr>\n",
       "    <tr>\n",
       "      <th>4</th>\n",
       "      <td>5</td>\n",
       "      <td>two squar root approxim wadey</td>\n",
       "      <td>1958-11-01 00:00:00</td>\n",
       "      <td>NaN</td>\n",
       "      <td>1978-03-22 20:33:00</td>\n",
       "      <td>100,5,1-123,5,1-164,5,1-1,5,1-1,5,1-1,5,1-205,...</td>\n",
       "    </tr>\n",
       "  </tbody>\n",
       "</table>\n",
       "</div>"
      ],
      "text/plain": [
       "   .I                                               data                   .B  \\\n",
       "0   1  preliminari report intern algebra languag perl...  1958-12-01 00:00:00   \n",
       "1   2    extract root repeat subtract digit comput sugai  1958-12-01 00:00:00   \n",
       "2   3     techniqu depart matrix program scheme friedman  1958-12-01 00:00:00   \n",
       "3   4           glossari comput engin program terminolog  1958-11-01 00:00:00   \n",
       "4   5                      two squar root approxim wadey  1958-11-01 00:00:00   \n",
       "\n",
       "    .C                   .N                                                 .X  \n",
       "0  NaN  1978-03-22 20:28:00  100,5,1-123,5,1-164,5,1-1,5,1-1,5,1-1,5,1-205,...  \n",
       "1  NaN  1978-03-22 20:29:00  100,5,1-123,5,1-164,5,1-1,5,1-1,5,1-1,5,1-205,...  \n",
       "2  NaN  1978-03-22 20:30:00  100,5,1-123,5,1-164,5,1-1,5,1-1,5,1-1,5,1-205,...  \n",
       "3  NaN  1978-03-22 20:32:00  100,5,1-123,5,1-164,5,1-1,5,1-1,5,1-1,5,1-205,...  \n",
       "4  NaN  1978-03-22 20:33:00  100,5,1-123,5,1-164,5,1-1,5,1-1,5,1-1,5,1-205,...  "
      ]
     },
     "execution_count": 1,
     "metadata": {},
     "output_type": "execute_result"
    }
   ],
   "source": [
    "import pandas as pd\n",
    "data = pd.read_csv('../../cacmData/cacmDataPreprocessed.csv')\n",
    "data.head()"
   ]
  },
  {
   "cell_type": "code",
   "execution_count": null,
   "metadata": {},
   "outputs": [],
   "source": [
    "data.loc[1409]"
   ]
  },
  {
   "cell_type": "code",
   "execution_count": 33,
   "metadata": {},
   "outputs": [],
   "source": [
    "from sklearn.feature_extraction.text import TfidfVectorizer\n",
    "tfidf = TfidfVectorizer(stop_words='english')"
   ]
  },
  {
   "cell_type": "code",
   "execution_count": 34,
   "metadata": {},
   "outputs": [],
   "source": [
    "tfidfTable = tfidf.fit_transform(data['data'])"
   ]
  },
  {
   "cell_type": "code",
   "execution_count": 60,
   "metadata": {},
   "outputs": [],
   "source": [
    "from sklearn.metrics.pairwise import linear_kernel, cosine_similarity\n",
    "\n",
    "test ='tss time share system oper system ibm comput tss'\n",
    "# test = 'tss tss'\n",
    "# test = 'intermed language use construct multi target compile tcoll donna bergmark comp serv uris hall intermed lang'\n",
    "# test = '''algorithm parallel comput especi comparison parallel sequenti algorithm'''\n",
    "def search(query,n:int):\n",
    "    querytfidf = tfidf.transform([query])\n",
    "    cos = cosine_similarity(tfidfTable, querytfidf) \n",
    "    resultList = cos.argsort(axis=0)[-n:][::-1]\n",
    "    ls = []\n",
    "    ids = []\n",
    "    for i in resultList:\n",
    "        ids.append(data.loc[i,'.I'].to_list()[0])\n",
    "        print(data.loc[i,'.I'].to_list()[0])\n",
    "        print(cos[i])\n",
    "    return ids\n",
    "    "
   ]
  },
  {
   "cell_type": "code",
   "execution_count": 61,
   "metadata": {},
   "outputs": [
    {
     "name": "stdout",
     "output_type": "stream",
     "text": [
      "1410\n",
      "[[0.21411442]]\n",
      "1938\n",
      "[[0.20480623]]\n",
      "1071\n",
      "[[0.19034308]]\n",
      "1572\n",
      "[[0.15525895]]\n",
      "971\n",
      "[[0.1498489]]\n",
      "2371\n",
      "[[0.14177274]]\n",
      "2218\n",
      "[[0.13585757]]\n",
      "1657\n",
      "[[0.13118048]]\n",
      "2151\n",
      "[[0.12953516]]\n",
      "1908\n",
      "[[0.11734912]]\n",
      "2535\n",
      "[[0.1167736]]\n",
      "1642\n",
      "[[0.11616662]]\n",
      "69\n",
      "[[0.11284584]]\n",
      "1844\n",
      "[[0.11038753]]\n",
      "1753\n",
      "[[0.1062084]]\n",
      "1605\n",
      "[[0.10375824]]\n",
      "2951\n",
      "[[0.10325682]]\n",
      "1746\n",
      "[[0.10282959]]\n",
      "2036\n",
      "[[0.10242409]]\n",
      "103\n",
      "[[0.10193488]]\n"
     ]
    }
   ],
   "source": [
    "search(test, 20)\n",
    "s = '''\n",
    "1938,criteria time share system perform time share system defin articl multiaccess system permit termin\n",
    " user util essenti full resourc system share time termin user termin user abil util full resourc system\n",
    "  make quantit evalu time share system particularli difficult six criteria describ success use perform\n",
    "   first level quantit time share system perform evalu stimler time share perform criteria time share system \n",
    "   oper time share perform analysi\n",
    "\n",
    "'''\n",
    "s2 = '''tss time share system oper system ibm comput tss'''\n",
    "\n"
   ]
  },
  {
   "cell_type": "markdown",
   "metadata": {},
   "source": [
    "### correction"
   ]
  },
  {
   "cell_type": "code",
   "execution_count": 1,
   "metadata": {},
   "outputs": [],
   "source": [
    "import nltk\n",
    "from nltk.metrics.distance import edit_distance\n",
    "from nltk.metrics.distance import jaccard_distance\n",
    "from nltk.util import ngrams\n",
    "from nltk.corpus import words"
   ]
  },
  {
   "cell_type": "code",
   "execution_count": 5,
   "metadata": {},
   "outputs": [
    {
     "name": "stdout",
     "output_type": "stream",
     "text": [
      "preliminarily\n",
      "report\n",
      "intern\n",
      "algebra\n",
      "language\n",
      "perlid\n",
      "samel\n"
     ]
    }
   ],
   "source": [
    "from nltk.metrics.distance import jaccard_distance\n",
    "from nltk.util import ngrams\n",
    "from nltk.corpus import words\n",
    "correct_words = words.words()\n",
    "incorrectWords = '''preliminari report intern algebra languag perlis samelsonk'''.split()\n",
    "for word in incorrectWords:\n",
    "    try:\n",
    "        temp = [(jaccard_distance(set(ngrams(word, 2)),\n",
    "                                  set(ngrams(w, 2))),w)\n",
    "                                  for w in correct_words if w[0] == word[0]]\n",
    "        print(sorted(temp, key = lambda val:val[0])[0][1])\n",
    "    except:\n",
    "        pass"
   ]
  },
  {
   "cell_type": "code",
   "execution_count": 6,
   "metadata": {},
   "outputs": [
    {
     "name": "stdout",
     "output_type": "stream",
     "text": [
      "preliminary\n",
      "report\n",
      "intern\n",
      "algebra\n",
      "language\n",
      "perlid\n",
      "samesome\n"
     ]
    }
   ],
   "source": [
    "correct_words = words.words()\n",
    "incorrectWords = '''preliminari report intern algebra languag perlis samelsonk'''.split()\n",
    "for word in incorrectWords:\n",
    "    try:\n",
    "        temp = [(edit_distance(word,w),w)\n",
    "                                  for w in correct_words if w[0] == word[0]]\n",
    "        print(sorted(temp, key = lambda val:val[0])[0][1])\n",
    "    except:\n",
    "        pass"
   ]
  },
  {
   "cell_type": "markdown",
   "metadata": {},
   "source": [
    "### querying"
   ]
  },
  {
   "cell_type": "code",
   "execution_count": 5,
   "metadata": {},
   "outputs": [
    {
     "data": {
      "text/html": [
       "<div>\n",
       "<style scoped>\n",
       "    .dataframe tbody tr th:only-of-type {\n",
       "        vertical-align: middle;\n",
       "    }\n",
       "\n",
       "    .dataframe tbody tr th {\n",
       "        vertical-align: top;\n",
       "    }\n",
       "\n",
       "    .dataframe thead th {\n",
       "        text-align: right;\n",
       "    }\n",
       "</style>\n",
       "<table border=\"1\" class=\"dataframe\">\n",
       "  <thead>\n",
       "    <tr style=\"text-align: right;\">\n",
       "      <th></th>\n",
       "      <th>.I</th>\n",
       "      <th>data</th>\n",
       "    </tr>\n",
       "  </thead>\n",
       "  <tbody>\n",
       "    <tr>\n",
       "      <th>0</th>\n",
       "      <td>1</td>\n",
       "      <td>articl exist deal tss time share system oper s...</td>\n",
       "    </tr>\n",
       "    <tr>\n",
       "      <th>1</th>\n",
       "      <td>2</td>\n",
       "      <td>interest articl write either priev udo pooch p...</td>\n",
       "    </tr>\n",
       "    <tr>\n",
       "      <th>2</th>\n",
       "      <td>3</td>\n",
       "      <td>intermedi languag use construct multi target c...</td>\n",
       "    </tr>\n",
       "    <tr>\n",
       "      <th>3</th>\n",
       "      <td>4</td>\n",
       "      <td>interest mechan commun disjoint process possib...</td>\n",
       "    </tr>\n",
       "    <tr>\n",
       "      <th>4</th>\n",
       "      <td>5</td>\n",
       "      <td>like paper design implement edit interfac wind...</td>\n",
       "    </tr>\n",
       "  </tbody>\n",
       "</table>\n",
       "</div>"
      ],
      "text/plain": [
       "   .I                                               data\n",
       "0   1  articl exist deal tss time share system oper s...\n",
       "1   2  interest articl write either priev udo pooch p...\n",
       "2   3  intermedi languag use construct multi target c...\n",
       "3   4  interest mechan commun disjoint process possib...\n",
       "4   5  like paper design implement edit interfac wind..."
      ]
     },
     "execution_count": 5,
     "metadata": {},
     "output_type": "execute_result"
    }
   ],
   "source": [
    "queriesPath = '../../cacmData/cacmQueryPreprocessed.csv'\n",
    "queriesData = pd.read_csv(queriesPath)\n",
    "queriesData.head()"
   ]
  },
  {
   "cell_type": "code",
   "execution_count": 6,
   "metadata": {},
   "outputs": [],
   "source": [
    "\n",
    "def queryingData(qDataFrame:pd.DataFrame, n):\n",
    "    result = pd.DataFrame()\n",
    "    resultDict:dict = {}\n",
    "    resultDictCopy = resultDict.copy()\n",
    "    for i in qDataFrame.index:\n",
    "        try:\n",
    "            tempList:list = search(qDataFrame.loc[i,'data'], n)\n",
    "            for id in range(1,n+1):\n",
    "                resultDictCopy[str(id)] = tempList[id - 1]\n",
    "            result = result.append(resultDictCopy, ignore_index=True)\n",
    "            resultDictCopy = resultDict.copy()\n",
    "        except:\n",
    "            print(i)\n",
    "            raise\n",
    "    return result\n",
    "\n",
    "\n",
    "\n"
   ]
  },
  {
   "cell_type": "code",
   "execution_count": 7,
   "metadata": {},
   "outputs": [
    {
     "data": {
      "text/html": [
       "<div>\n",
       "<style scoped>\n",
       "    .dataframe tbody tr th:only-of-type {\n",
       "        vertical-align: middle;\n",
       "    }\n",
       "\n",
       "    .dataframe tbody tr th {\n",
       "        vertical-align: top;\n",
       "    }\n",
       "\n",
       "    .dataframe thead th {\n",
       "        text-align: right;\n",
       "    }\n",
       "</style>\n",
       "<table border=\"1\" class=\"dataframe\">\n",
       "  <thead>\n",
       "    <tr style=\"text-align: right;\">\n",
       "      <th></th>\n",
       "      <th>1</th>\n",
       "      <th>2</th>\n",
       "      <th>3</th>\n",
       "      <th>4</th>\n",
       "      <th>5</th>\n",
       "      <th>6</th>\n",
       "      <th>7</th>\n",
       "      <th>8</th>\n",
       "      <th>9</th>\n",
       "      <th>10</th>\n",
       "    </tr>\n",
       "  </thead>\n",
       "  <tbody>\n",
       "    <tr>\n",
       "      <th>0</th>\n",
       "      <td>1938.0</td>\n",
       "      <td>1168.0</td>\n",
       "      <td>1752.0</td>\n",
       "      <td>1410.0</td>\n",
       "      <td>2219.0</td>\n",
       "      <td>1071.0</td>\n",
       "      <td>1572.0</td>\n",
       "      <td>2371.0</td>\n",
       "      <td>2629.0</td>\n",
       "      <td>971.0</td>\n",
       "    </tr>\n",
       "    <tr>\n",
       "      <th>1</th>\n",
       "      <td>3078.0</td>\n",
       "      <td>236.0</td>\n",
       "      <td>1781.0</td>\n",
       "      <td>1183.0</td>\n",
       "      <td>1149.0</td>\n",
       "      <td>1046.0</td>\n",
       "      <td>3160.0</td>\n",
       "      <td>597.0</td>\n",
       "      <td>1651.0</td>\n",
       "      <td>282.0</td>\n",
       "    </tr>\n",
       "    <tr>\n",
       "      <th>2</th>\n",
       "      <td>1134.0</td>\n",
       "      <td>2652.0</td>\n",
       "      <td>1223.0</td>\n",
       "      <td>1496.0</td>\n",
       "      <td>1988.0</td>\n",
       "      <td>1162.0</td>\n",
       "      <td>265.0</td>\n",
       "      <td>799.0</td>\n",
       "      <td>1767.0</td>\n",
       "      <td>2252.0</td>\n",
       "    </tr>\n",
       "    <tr>\n",
       "      <th>3</th>\n",
       "      <td>2939.0</td>\n",
       "      <td>2376.0</td>\n",
       "      <td>3128.0</td>\n",
       "      <td>2377.0</td>\n",
       "      <td>1922.0</td>\n",
       "      <td>2342.0</td>\n",
       "      <td>3141.0</td>\n",
       "      <td>3101.0</td>\n",
       "      <td>1439.0</td>\n",
       "      <td>2080.0</td>\n",
       "    </tr>\n",
       "    <tr>\n",
       "      <th>4</th>\n",
       "      <td>2321.0</td>\n",
       "      <td>2716.0</td>\n",
       "      <td>2035.0</td>\n",
       "      <td>1923.0</td>\n",
       "      <td>1829.0</td>\n",
       "      <td>1272.0</td>\n",
       "      <td>2003.0</td>\n",
       "      <td>2299.0</td>\n",
       "      <td>2629.0</td>\n",
       "      <td>3011.0</td>\n",
       "    </tr>\n",
       "  </tbody>\n",
       "</table>\n",
       "</div>"
      ],
      "text/plain": [
       "        1       2       3       4       5       6       7       8       9  \\\n",
       "0  1938.0  1168.0  1752.0  1410.0  2219.0  1071.0  1572.0  2371.0  2629.0   \n",
       "1  3078.0   236.0  1781.0  1183.0  1149.0  1046.0  3160.0   597.0  1651.0   \n",
       "2  1134.0  2652.0  1223.0  1496.0  1988.0  1162.0   265.0   799.0  1767.0   \n",
       "3  2939.0  2376.0  3128.0  2377.0  1922.0  2342.0  3141.0  3101.0  1439.0   \n",
       "4  2321.0  2716.0  2035.0  1923.0  1829.0  1272.0  2003.0  2299.0  2629.0   \n",
       "\n",
       "       10  \n",
       "0   971.0  \n",
       "1   282.0  \n",
       "2  2252.0  \n",
       "3  2080.0  \n",
       "4  3011.0  "
      ]
     },
     "execution_count": 7,
     "metadata": {},
     "output_type": "execute_result"
    }
   ],
   "source": [
    "res = queryingData(queriesData, 10)\n",
    "res.head()"
   ]
  },
  {
   "cell_type": "code",
   "execution_count": 13,
   "metadata": {},
   "outputs": [
    {
     "data": {
      "text/plain": [
       "(64, 10)"
      ]
     },
     "execution_count": 13,
     "metadata": {},
     "output_type": "execute_result"
    }
   ],
   "source": [
    "res.shape"
   ]
  },
  {
   "cell_type": "code",
   "execution_count": null,
   "metadata": {},
   "outputs": [],
   "source": [
    "res.to_csv('../../cacmData/cacmQueryResult.csv')"
   ]
  },
  {
   "cell_type": "code",
   "execution_count": null,
   "metadata": {},
   "outputs": [],
   "source": [
    "qresPath = '../../cacmData/qrels.csv'\n",
    "qresData = pd.read_csv(qresPath)\n",
    "qresData.head()"
   ]
  },
  {
   "cell_type": "markdown",
   "metadata": {},
   "source": [
    "### Evaluate"
   ]
  },
  {
   "cell_type": "markdown",
   "metadata": {},
   "source": [
    "precision"
   ]
  },
  {
   "cell_type": "code",
   "execution_count": null,
   "metadata": {},
   "outputs": [],
   "source": [
    "import pandas as pd\n",
    "from sklearn.metrics import precision_score\n",
    "from sklearn.metrics import recall_score\n",
    "from sklearn.metrics import precision_recall_curve\n",
    "\n",
    "def reSizeLists(l1:list, l2:list):\n",
    "    if len(l1) < len(l2):\n",
    "        l2 = l2[0:len(l1)]\n",
    "    while len(l1) > len(l2):\n",
    "        l1 = l1[0:len(l2)]\n",
    "\n",
    "    return l1, l2, len(l1)\n",
    "\n",
    "def precWithoutOrder(l1:list,l2:list):\n",
    "    return len(set(l1).intersection(set(l2))) / len(l1)\n",
    "\n",
    "def calcPrecisionAtK(resData:pd.DataFrame, qresData: pd.DataFrame):\n",
    "    precisionsAtK:list = []\n",
    "    precisionAtK:float\n",
    "    for i in resData.index:\n",
    "        precisionOnQuery = []\n",
    "        resArray = resData.loc[i].to_numpy()\n",
    "        qresArray = qresData.loc[qresData['ids'] == i+1, 'data'].to_numpy()\n",
    "        resArray, qresArray, lenth = reSizeLists(resArray, qresArray)\n",
    "        \n",
    "        for lenI in range(lenth-1,lenth):\n",
    "            tempRes:list = resArray[0:lenI+1].tolist()\n",
    "            tempQRes:list = qresArray[0:lenI+1].tolist()\n",
    "            precisionOnQuery.append(precWithoutOrder(tempQRes, tempRes))\n",
    "            if i == 0:\n",
    "                print(tempRes)\n",
    "                print(tempQRes)\n",
    "                print(precisionOnQuery)\n",
    "\n",
    "        precisionsAtK.append(sum(precisionOnQuery) / (lenth + 1))\n",
    "    precisionAtK = sum(precisionsAtK) / len(precisionsAtK)\n",
    "    # print(precisionAtK)\n",
    "    return precisionAtK\n",
    "\n",
    "\n",
    "    \n",
    "\n"
   ]
  },
  {
   "cell_type": "code",
   "execution_count": null,
   "metadata": {},
   "outputs": [],
   "source": [
    "calcPrecisionAtK(res, qresData)"
   ]
  },
  {
   "cell_type": "markdown",
   "metadata": {},
   "source": [
    "0.0424232466029341\n",
    "0.0424232466029341\n"
   ]
  },
  {
   "cell_type": "code",
   "execution_count": null,
   "metadata": {},
   "outputs": [],
   "source": [
    "\n",
    "\n",
    "def getMaxNumberOfGoldenStandard(queriesData):\n",
    "    n:int = 0\n",
    "    for i in queriesData.index:\n",
    "        tempN = len(qresData.loc[qresData['ids'] == i+1, 'data'].to_numpy())\n",
    "        if n < tempN:\n",
    "            n = tempN\n",
    "    return n\n",
    "\n",
    "def calcCacmDataPrecision(queriesData, qresData):\n",
    "    n:int = getMaxNumberOfGoldenStandard(queriesData)\n",
    "    resArray = queryingData(queriesData, n)\n",
    "    precision = calcPrecisionAtK(resArray, qresData)\n",
    "    return precision\n",
    "resArray = calcCacmDataPrecision(queriesData, qresData)\n",
    "resArray\n",
    "\n",
    "\n"
   ]
  },
  {
   "cell_type": "code",
   "execution_count": null,
   "metadata": {},
   "outputs": [],
   "source": []
  }
 ],
 "metadata": {
  "interpreter": {
   "hash": "6ad1a5a807b944b1335f606d031e49130ad1da3a9de40b9fa5d942006ec880ff"
  },
  "kernelspec": {
   "display_name": "Python 3.7.13 ('IRProject')",
   "language": "python",
   "name": "python3"
  },
  "language_info": {
   "codemirror_mode": {
    "name": "ipython",
    "version": 3
   },
   "file_extension": ".py",
   "mimetype": "text/x-python",
   "name": "python",
   "nbconvert_exporter": "python",
   "pygments_lexer": "ipython3",
   "version": "3.7.13"
  },
  "orig_nbformat": 4
 },
 "nbformat": 4,
 "nbformat_minor": 2
}

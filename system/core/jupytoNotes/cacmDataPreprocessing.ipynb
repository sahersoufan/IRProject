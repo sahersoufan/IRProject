{
 "cells": [
  {
   "cell_type": "markdown",
   "metadata": {},
   "source": [
    "# Data Preprocessing"
   ]
  },
  {
   "cell_type": "code",
   "execution_count": 1,
   "metadata": {},
   "outputs": [],
   "source": [
    "#TODO authors regex regular expression\n",
    "#TODO  dates\n"
   ]
  },
  {
   "cell_type": "markdown",
   "metadata": {},
   "source": [
    "### lowerCase"
   ]
  },
  {
   "cell_type": "code",
   "execution_count": 2,
   "metadata": {},
   "outputs": [],
   "source": [
    "def toLower(text):\n",
    "    return text.lower()"
   ]
  },
  {
   "cell_type": "markdown",
   "metadata": {},
   "source": [
    "### Numbers to words"
   ]
  },
  {
   "cell_type": "code",
   "execution_count": 3,
   "metadata": {},
   "outputs": [],
   "source": [
    "import inflect\n",
    "p = inflect.engine()\n",
    "\n",
    "import re\n",
    "reg = r'([0-9]+)'\n",
    "\n",
    "def isFLoat(strNum):\n",
    "    try:\n",
    "        float(strNum)\n",
    "        return True\n",
    "    except:\n",
    "        return False\n",
    "\n",
    "\n",
    "def converteNumbers(text):\n",
    "    tempText = text.split()\n",
    "    newText = []\n",
    "    for word in tempText:\n",
    "        tempList = re.split(reg,word)\n",
    "        for miniWord in tempList:\n",
    "            if miniWord.isdigit() or isFLoat(miniWord):\n",
    "                temp = p.number_to_words(miniWord)\n",
    "                newText.append(removePunctuation(temp))\n",
    "            else:\n",
    "                newText.append(miniWord)        \n",
    "    tempText = ' '.join(newText)\n",
    "    return tempText"
   ]
  },
  {
   "cell_type": "markdown",
   "metadata": {},
   "source": [
    "### remove punctuations"
   ]
  },
  {
   "cell_type": "code",
   "execution_count": 4,
   "metadata": {},
   "outputs": [],
   "source": [
    "import string\n",
    "translator = str.maketrans(string.punctuation,' '*len(string.punctuation))\n",
    "def removePunctuation(text):\n",
    "    global translator\n",
    "    return text.translate(translator)"
   ]
  },
  {
   "cell_type": "markdown",
   "metadata": {},
   "source": [
    "### remove WhiteSpaces"
   ]
  },
  {
   "cell_type": "code",
   "execution_count": 5,
   "metadata": {},
   "outputs": [],
   "source": [
    "def removeWhiteSpace(text):\n",
    "    return \" \".join(text.split())"
   ]
  },
  {
   "cell_type": "markdown",
   "metadata": {},
   "source": [
    "### remove Stop Words"
   ]
  },
  {
   "cell_type": "code",
   "execution_count": 6,
   "metadata": {},
   "outputs": [],
   "source": [
    "from nltk.corpus import stopwords\n",
    "from nltk.tokenize import word_tokenize\n",
    "\n",
    "def removeStopWords(text):\n",
    "    sw = set(stopwords.words(\"english\"))\n",
    "    wt = word_tokenize(text)\n",
    "    filteredText = [word for word in wt if word not in sw]\n",
    "    return ' '.join(filteredText)"
   ]
  },
  {
   "cell_type": "markdown",
   "metadata": {},
   "source": [
    "### Stemming"
   ]
  },
  {
   "cell_type": "code",
   "execution_count": 7,
   "metadata": {},
   "outputs": [],
   "source": [
    "from nltk.stem.porter import PorterStemmer\n",
    "from nltk.tokenize import word_tokenize\n",
    "\n",
    "stemmer = PorterStemmer()\n",
    "\n",
    "def stemWords(text):\n",
    "    global stemmer\n",
    "    wt = word_tokenize(text)\n",
    "    stems = [stemmer.stem(word) for word in wt]\n",
    "    return ' '.join(stems)"
   ]
  },
  {
   "cell_type": "markdown",
   "metadata": {},
   "source": [
    "### lemmatization"
   ]
  },
  {
   "cell_type": "code",
   "execution_count": 8,
   "metadata": {},
   "outputs": [],
   "source": [
    "from nltk.stem import WordNetLemmatizer\n",
    "from nltk.tokenize import word_tokenize\n",
    "\n",
    "lemmatizer = WordNetLemmatizer()\n",
    "\n",
    "def lemmatizeWords(text):\n",
    "    wt = word_tokenize(text)\n",
    "    lemmas = [lemmatizer.lemmatize(word, pos='v') for word in wt]\n",
    "    return ' '.join(lemmas)"
   ]
  },
  {
   "cell_type": "markdown",
   "metadata": {},
   "source": [
    "### data preprocessing"
   ]
  },
  {
   "cell_type": "code",
   "execution_count": 9,
   "metadata": {},
   "outputs": [],
   "source": [
    "import pandas as pd\n",
    "import re\n",
    "\n",
    "caRegex = r'CA[0-9a-z]* ?[A-Z]+ '\n",
    "def TitlePreProcesse(t):\n",
    "    tempText = toLower(t)\n",
    "    tempText = removePunctuation(tempText)\n",
    "    tempText = converteNumbers(tempText)\n",
    "    tempText = removeWhiteSpace(tempText)\n",
    "    tempText = removeStopWords(tempText)\n",
    "    tempText = stemWords(tempText)\n",
    "    tempText = lemmatizeWords(tempText)\n",
    "    return tempText\n",
    "\n",
    "def abstractPreProcesse(a):\n",
    "    tempText = toLower(a)\n",
    "    tempText = removePunctuation(tempText)\n",
    "    tempText = converteNumbers(tempText)\n",
    "    tempText = removeWhiteSpace(tempText)\n",
    "    tempText = removeStopWords(tempText)\n",
    "    tempText = stemWords(tempText)\n",
    "    tempText = lemmatizeWords(tempText)\n",
    "    return tempText\n",
    "\n",
    "def publicationPreProcesse(p):\n",
    "    # tempText = toLower(p)\n",
    "    # tempText = converteNumbers(tempText)\n",
    "    # tempText = removePunctuation(tempText)\n",
    "    # tempText = removeWhiteSpace(tempText)\n",
    "    # tempText = removeStopWords(tempText)\n",
    "    # tempText = stemWords(tempText)\n",
    "    # tempText = lemmatizeWords(tempText)\n",
    "\n",
    "    # TODO remove cacm word and coverte the rest of the data to dateType \n",
    "    tempText = p.replace('CACM ','')\n",
    "    return pd.to_datetime(tempText)\n",
    "\n",
    "def authorPreProcesse(a):\n",
    "    tempText = toLower(a)\n",
    "    # tempText = converteNumbers(tempText)\n",
    "    \n",
    "    # TODO take the first wordbefore ,\n",
    "    lis = tempText.split(' ')\n",
    "    names = ' '\n",
    "    l = []\n",
    "    for word in lis:\n",
    "      if ',' in word:\n",
    "          l.append(removePunctuation(word.replace(',','')))\n",
    "    names = ' '.join(l)\n",
    "\n",
    "    # tempText = removePunctuation(tempText)\n",
    "    \n",
    "    # tempText = removeWhiteSpace(lis[0])\n",
    "    \n",
    "    # tempText = removeStopWords(tempText)\n",
    "    # tempText = stemWords(tempText)\n",
    "    # tempText = lemmatizeWords(tempText)\n",
    "    return names\n",
    "\n",
    "def kPreProcesse(k):\n",
    "    tempText = toLower(k)\n",
    "    tempText = removePunctuation(tempText)\n",
    "    tempText = converteNumbers(tempText)\n",
    "    tempText = removeWhiteSpace(tempText)\n",
    "    tempText = removeStopWords(tempText)\n",
    "    tempText = stemWords(tempText)\n",
    "    tempText = lemmatizeWords(tempText)\n",
    "    return tempText\n",
    "\n",
    "def cPreProcesse(c):\n",
    "    # tempText = toLower(c)\n",
    "    # tempText = converteNumbers(tempText)\n",
    "    # tempText = removePunctuation(tempText)\n",
    "    tempText = removeWhiteSpace(c)\n",
    "    # tempText = removeStopWords(tempText)\n",
    "    # tempText = stemWords(tempText)\n",
    "    # tempText = lemmatizeWords(tempText)\n",
    "    return tempText\n",
    "\n",
    "def infoPreProcesse(i):\n",
    "    # tempText = toLower(i)\n",
    "    # tempText = converteNumbers(tempText)\n",
    "    # tempText = removePunctuation(tempText)\n",
    "    #TODO remove the (CA581202 JB) ... and converte the rest to date type\n",
    "    tempText = re.sub(caRegex, '', i)\n",
    "    tempText = pd.to_datetime(tempText)\n",
    "    #tempText = removeWhiteSpace(tempText)\n",
    "    # tempText = removeStopWords(tempText)\n",
    "    # tempText = stemWords(tempText)\n",
    "    # tempText = lemmatizeWords(tempText)\n",
    "    return tempText"
   ]
  },
  {
   "cell_type": "code",
   "execution_count": 10,
   "metadata": {},
   "outputs": [],
   "source": [
    "import pandas as pd\n",
    "def preprocessedData(dataFrame:pd.DataFrame):\n",
    "    pdataFrame = pd.DataFrame(columns=['.I','data','.B','.C','.N','.X'])\n",
    "    seriesDict:dict = {'.I':None, 'data':None, '.B':None, '.C':None,'.N':None, '.X':None} \n",
    "    seriesData = seriesDict.copy()\n",
    "    for i in dataFrame.index:\n",
    "        try:\n",
    "            templist = []\n",
    "            tempC = tempB = tempI = None\n",
    "            if not dataFrame.loc[i, '.T'] == '':\n",
    "                templist.append(TitlePreProcesse(dataFrame.loc[i, '.T']))\n",
    "            if not dataFrame.loc[i, '.W'] == '':\n",
    "                templist.append(abstractPreProcesse(dataFrame.loc[i, '.W']))\n",
    "            if not dataFrame.loc[i, '.B'] == '':\n",
    "                tempB = publicationPreProcesse(dataFrame.loc[i, '.B'])\n",
    "            if not dataFrame.loc[i, '.A'] == '':\n",
    "                templist.append(authorPreProcesse(dataFrame.loc[i, '.A']))\n",
    "            if not dataFrame.loc[i, '.K'] == '':\n",
    "                templist.append(kPreProcesse(dataFrame.loc[i, '.K']))\n",
    "            if not dataFrame.loc[i, '.C'] == '':\n",
    "                tempC = cPreProcesse(dataFrame.loc[i, '.C'])\n",
    "            if not dataFrame.loc[i, '.N'] == '':\n",
    "                tempI = infoPreProcesse(dataFrame.loc[i, '.N'])\n",
    "\n",
    "            seriesData['.I'] = i\n",
    "            seriesData['data'] = ' '.join(templist)\n",
    "            seriesData['.B'] = tempB\n",
    "            seriesData['.C'] = tempC\n",
    "            seriesData['.N'] = tempI\n",
    "            seriesData['.X'] = dataFrame.loc[i,'.X']\n",
    "            pdataFrame = pdataFrame.append(seriesData, ignore_index=True)\n",
    "        except:\n",
    "            print(i)\n",
    "            raise \n",
    "    \n",
    "    pdataFrame.set_index('.I', inplace=True)\n",
    "    pdataFrame.fillna('', inplace=True)\n",
    "    return pdataFrame\n"
   ]
  },
  {
   "cell_type": "code",
   "execution_count": 11,
   "metadata": {},
   "outputs": [
    {
     "data": {
      "text/html": [
       "<div>\n",
       "<style scoped>\n",
       "    .dataframe tbody tr th:only-of-type {\n",
       "        vertical-align: middle;\n",
       "    }\n",
       "\n",
       "    .dataframe tbody tr th {\n",
       "        vertical-align: top;\n",
       "    }\n",
       "\n",
       "    .dataframe thead th {\n",
       "        text-align: right;\n",
       "    }\n",
       "</style>\n",
       "<table border=\"1\" class=\"dataframe\">\n",
       "  <thead>\n",
       "    <tr style=\"text-align: right;\">\n",
       "      <th></th>\n",
       "      <th>.T</th>\n",
       "      <th>.W</th>\n",
       "      <th>.B</th>\n",
       "      <th>.A</th>\n",
       "      <th>.K</th>\n",
       "      <th>.C</th>\n",
       "      <th>.N</th>\n",
       "      <th>.X</th>\n",
       "    </tr>\n",
       "    <tr>\n",
       "      <th>.I</th>\n",
       "      <th></th>\n",
       "      <th></th>\n",
       "      <th></th>\n",
       "      <th></th>\n",
       "      <th></th>\n",
       "      <th></th>\n",
       "      <th></th>\n",
       "      <th></th>\n",
       "    </tr>\n",
       "  </thead>\n",
       "  <tbody>\n",
       "    <tr>\n",
       "      <th>1</th>\n",
       "      <td>Preliminary Report-International Algebraic Lan...</td>\n",
       "      <td></td>\n",
       "      <td>CACM December, 1958</td>\n",
       "      <td>Perlis, A. J. Samelson, K.</td>\n",
       "      <td></td>\n",
       "      <td></td>\n",
       "      <td>CA581203 JB March 22  1978  8:28 PM</td>\n",
       "      <td>100,5,1-123,5,1-164,5,1-1,5,1-1,5,1-1,5,1-205,...</td>\n",
       "    </tr>\n",
       "    <tr>\n",
       "      <th>2</th>\n",
       "      <td>Extraction of Roots by Repeated Subtractions f...</td>\n",
       "      <td></td>\n",
       "      <td>CACM December, 1958</td>\n",
       "      <td>Sugai, I.</td>\n",
       "      <td></td>\n",
       "      <td></td>\n",
       "      <td>CA581202 JB March 22  1978  8:29 PM</td>\n",
       "      <td>100,5,1-123,5,1-164,5,1-1,5,1-1,5,1-1,5,1-205,...</td>\n",
       "    </tr>\n",
       "    <tr>\n",
       "      <th>3</th>\n",
       "      <td>Techniques Department on Matrix Program Schemes</td>\n",
       "      <td></td>\n",
       "      <td>CACM December, 1958</td>\n",
       "      <td>Friedman, M. D.</td>\n",
       "      <td></td>\n",
       "      <td></td>\n",
       "      <td>CA581201 JB March 22  1978  8:30 PM</td>\n",
       "      <td>100,5,1-123,5,1-164,5,1-1,5,1-1,5,1-1,5,1-205,...</td>\n",
       "    </tr>\n",
       "    <tr>\n",
       "      <th>4</th>\n",
       "      <td>Glossary of Computer Engineering and Programmi...</td>\n",
       "      <td></td>\n",
       "      <td>CACM November, 1958</td>\n",
       "      <td></td>\n",
       "      <td></td>\n",
       "      <td></td>\n",
       "      <td>CA581103 JB March 22  1978  8:32 PM</td>\n",
       "      <td>100,5,1-123,5,1-164,5,1-1,5,1-1,5,1-1,5,1-205,...</td>\n",
       "    </tr>\n",
       "    <tr>\n",
       "      <th>5</th>\n",
       "      <td>Two Square-Root Approximations</td>\n",
       "      <td></td>\n",
       "      <td>CACM November, 1958</td>\n",
       "      <td>Wadey, W. G.</td>\n",
       "      <td></td>\n",
       "      <td></td>\n",
       "      <td>CA581102 JB March 22  1978  8:33 PM</td>\n",
       "      <td>100,5,1-123,5,1-164,5,1-1,5,1-1,5,1-1,5,1-205,...</td>\n",
       "    </tr>\n",
       "  </tbody>\n",
       "</table>\n",
       "</div>"
      ],
      "text/plain": [
       "                                                   .T .W                   .B  \\\n",
       ".I                                                                              \n",
       "1   Preliminary Report-International Algebraic Lan...     CACM December, 1958   \n",
       "2   Extraction of Roots by Repeated Subtractions f...     CACM December, 1958   \n",
       "3     Techniques Department on Matrix Program Schemes     CACM December, 1958   \n",
       "4   Glossary of Computer Engineering and Programmi...     CACM November, 1958   \n",
       "5                      Two Square-Root Approximations     CACM November, 1958   \n",
       "\n",
       "                            .A .K .C                                   .N  \\\n",
       ".I                                                                          \n",
       "1   Perlis, A. J. Samelson, K.        CA581203 JB March 22  1978  8:28 PM   \n",
       "2                    Sugai, I.        CA581202 JB March 22  1978  8:29 PM   \n",
       "3              Friedman, M. D.        CA581201 JB March 22  1978  8:30 PM   \n",
       "4                                     CA581103 JB March 22  1978  8:32 PM   \n",
       "5                 Wadey, W. G.        CA581102 JB March 22  1978  8:33 PM   \n",
       "\n",
       "                                                   .X  \n",
       ".I                                                     \n",
       "1   100,5,1-123,5,1-164,5,1-1,5,1-1,5,1-1,5,1-205,...  \n",
       "2   100,5,1-123,5,1-164,5,1-1,5,1-1,5,1-1,5,1-205,...  \n",
       "3   100,5,1-123,5,1-164,5,1-1,5,1-1,5,1-1,5,1-205,...  \n",
       "4   100,5,1-123,5,1-164,5,1-1,5,1-1,5,1-1,5,1-205,...  \n",
       "5   100,5,1-123,5,1-164,5,1-1,5,1-1,5,1-1,5,1-205,...  "
      ]
     },
     "execution_count": 11,
     "metadata": {},
     "output_type": "execute_result"
    }
   ],
   "source": [
    "import pandas as pd\n",
    "data = pd.read_csv('../../cacmData/cacmDataCleanedV1.csv')\n",
    "data.set_index('.I', inplace=True)\n",
    "data.fillna('', inplace=True)\n",
    "data.head()"
   ]
  },
  {
   "cell_type": "code",
   "execution_count": 12,
   "metadata": {},
   "outputs": [
    {
     "name": "stderr",
     "output_type": "stream",
     "text": [
      "c:\\Users\\ASUS\\anaconda3\\envs\\IRProject\\lib\\site-packages\\dateutil\\parser\\_parser.py:1212: UnknownTimezoneWarning: tzname PMB identified but not understood.  Pass `tzinfos` argument in order to correctly return a timezone-aware datetime.  In a future version, this will raise an exception.\n",
      "  category=UnknownTimezoneWarning)\n"
     ]
    },
    {
     "data": {
      "text/html": [
       "<div>\n",
       "<style scoped>\n",
       "    .dataframe tbody tr th:only-of-type {\n",
       "        vertical-align: middle;\n",
       "    }\n",
       "\n",
       "    .dataframe tbody tr th {\n",
       "        vertical-align: top;\n",
       "    }\n",
       "\n",
       "    .dataframe thead th {\n",
       "        text-align: right;\n",
       "    }\n",
       "</style>\n",
       "<table border=\"1\" class=\"dataframe\">\n",
       "  <thead>\n",
       "    <tr style=\"text-align: right;\">\n",
       "      <th></th>\n",
       "      <th>data</th>\n",
       "      <th>.B</th>\n",
       "      <th>.C</th>\n",
       "      <th>.N</th>\n",
       "      <th>.X</th>\n",
       "    </tr>\n",
       "    <tr>\n",
       "      <th>.I</th>\n",
       "      <th></th>\n",
       "      <th></th>\n",
       "      <th></th>\n",
       "      <th></th>\n",
       "      <th></th>\n",
       "    </tr>\n",
       "  </thead>\n",
       "  <tbody>\n",
       "    <tr>\n",
       "      <th>1</th>\n",
       "      <td>preliminari report intern algebra languag perl...</td>\n",
       "      <td>1958-12-01</td>\n",
       "      <td></td>\n",
       "      <td>1978-03-22 20:28:00</td>\n",
       "      <td>100,5,1-123,5,1-164,5,1-1,5,1-1,5,1-1,5,1-205,...</td>\n",
       "    </tr>\n",
       "    <tr>\n",
       "      <th>2</th>\n",
       "      <td>extract root repeat subtract digit comput sugai</td>\n",
       "      <td>1958-12-01</td>\n",
       "      <td></td>\n",
       "      <td>1978-03-22 20:29:00</td>\n",
       "      <td>100,5,1-123,5,1-164,5,1-1,5,1-1,5,1-1,5,1-205,...</td>\n",
       "    </tr>\n",
       "    <tr>\n",
       "      <th>3</th>\n",
       "      <td>techniqu depart matrix program scheme friedman</td>\n",
       "      <td>1958-12-01</td>\n",
       "      <td></td>\n",
       "      <td>1978-03-22 20:30:00</td>\n",
       "      <td>100,5,1-123,5,1-164,5,1-1,5,1-1,5,1-1,5,1-205,...</td>\n",
       "    </tr>\n",
       "    <tr>\n",
       "      <th>4</th>\n",
       "      <td>glossari comput engin program terminolog</td>\n",
       "      <td>1958-11-01</td>\n",
       "      <td></td>\n",
       "      <td>1978-03-22 20:32:00</td>\n",
       "      <td>100,5,1-123,5,1-164,5,1-1,5,1-1,5,1-1,5,1-205,...</td>\n",
       "    </tr>\n",
       "    <tr>\n",
       "      <th>5</th>\n",
       "      <td>two squar root approxim wadey</td>\n",
       "      <td>1958-11-01</td>\n",
       "      <td></td>\n",
       "      <td>1978-03-22 20:33:00</td>\n",
       "      <td>100,5,1-123,5,1-164,5,1-1,5,1-1,5,1-1,5,1-205,...</td>\n",
       "    </tr>\n",
       "  </tbody>\n",
       "</table>\n",
       "</div>"
      ],
      "text/plain": [
       "                                                 data         .B .C  \\\n",
       ".I                                                                    \n",
       "1   preliminari report intern algebra languag perl... 1958-12-01      \n",
       "2     extract root repeat subtract digit comput sugai 1958-12-01      \n",
       "3      techniqu depart matrix program scheme friedman 1958-12-01      \n",
       "4            glossari comput engin program terminolog 1958-11-01      \n",
       "5                       two squar root approxim wadey 1958-11-01      \n",
       "\n",
       "                    .N                                                 .X  \n",
       ".I                                                                         \n",
       "1  1978-03-22 20:28:00  100,5,1-123,5,1-164,5,1-1,5,1-1,5,1-1,5,1-205,...  \n",
       "2  1978-03-22 20:29:00  100,5,1-123,5,1-164,5,1-1,5,1-1,5,1-1,5,1-205,...  \n",
       "3  1978-03-22 20:30:00  100,5,1-123,5,1-164,5,1-1,5,1-1,5,1-1,5,1-205,...  \n",
       "4  1978-03-22 20:32:00  100,5,1-123,5,1-164,5,1-1,5,1-1,5,1-1,5,1-205,...  \n",
       "5  1978-03-22 20:33:00  100,5,1-123,5,1-164,5,1-1,5,1-1,5,1-1,5,1-205,...  "
      ]
     },
     "execution_count": 12,
     "metadata": {},
     "output_type": "execute_result"
    }
   ],
   "source": [
    "d = preprocessedData(data)\n",
    "d.head()"
   ]
  },
  {
   "cell_type": "code",
   "execution_count": 13,
   "metadata": {},
   "outputs": [
    {
     "data": {
      "text/plain": [
       "['reiter acm polici toward standard period chang offic chairman editor usual follow elect occasion result chang polici case depart radic chang nevertheless proper time reiter an underlin acm polici respect standard comput area gorn',\n",
       " 'reactiv typewrit program eighti four charact keyboard includ alphabet upper lower case good readabl machin restrict singl case lower case prefer reactiv typewrit portabl reactiv typewrit oper commerci use dial type telephon voic telegraph telex line leas nondial telegraph line interchang mooers',\n",
       " 'structur standard process organ comput area line acm polici statement comm acm five nov one thousand nine hundr sixti two five hundr forti seven five hundr forti nine follow organiz descript provid order describ standard activ pertin comput inform process gorn bemer green',\n",
       " 'microprogram emul program languag problem concern convert languag action intellectu energi mechan energi medium use purpos languag therefor preoccupi subject languag area languag investig concentr first formal syntax semant greem',\n",
       " 'algem algebra manipul algem packag subprogram write slip fortran iv map seven thousand nineti four ii manipul algebra express algem basic algebra oper addit subtract multipl divis exponenti capabl handl number singl letter variabl variabl expon find highest common factor two polynomi also includ function substitut differenti determin coeffici specifi variabl solv linear equat basic routin plu special purpos arithmet routin major innov algem manipul assign type express use standard order procedur gotlieb novak',\n",
       " 'formac program solut linear boundari initi valu problem comput program describ develop obtain approxim solut linear initi boundari valu problem involv differenti equat problem input program includ one equat symbol form satisfi differenti equat equat describ auxiliari condit boundari condit etc two numer descript region equat satisfi three set function symbol form use linear combin approxim solut function give input program gener approxim solut specifi problemm term specifi function optimum least squar sens cuthill',\n",
       " 'symbol manipul poisson seri poisson seri three variabl manag symbol set formal subroutin write partial ibm seven thousand nineti four machin languag call fortran languag use fortran program effort make suppli oper requir celesti mechan routin entir self contain subroutin requir standard fortran input output unit five six design avoid wast overflow core storag space danby deprit rom',\n",
       " 'manip comput system algebra analyt differenti mathemat express oper upon write fortran like notat store comput string bcd charact blank remov may complic desir parenthes nest without restrict etc long entir express subsequ form exceed five thousand charact problemm perform algebra oper obtain analyt deriv translat identifi manipul charact sequenc program result write fortran iv cdc three thousand six hundr discuss detail bender',\n",
       " 'grad assist program symbol algebra manipul differenti gener recur algebra differenti assist grad assist develop set lisp function symbol manipul abd differenti algebra express design use problemm larg amount routin manipul do program without human intervent thu grad must recogn necessari simplif without extern guidanc complic express notabl one involv nest radic trigonometr function yield complet present version prove quit use inde fletcher',\n",
       " 'line program non numer algebra goal program make step toward te design autom mathemat assist requir program must easi access result must obtain reason short time accordingli program write time share comput q thirti two comput system develop corpor santa monica california choose also lisp one five compil program debug do remot teletyp consol stanford univers korsvold']"
      ]
     },
     "execution_count": 13,
     "metadata": {},
     "output_type": "execute_result"
    }
   ],
   "source": [
    "l = d.loc[-5:, 'data'].tolist()\n",
    "l[-10:]"
   ]
  },
  {
   "cell_type": "code",
   "execution_count": 16,
   "metadata": {},
   "outputs": [],
   "source": [
    "d.to_csv('../../cacmData/cacmDataPreprocessed.csv')"
   ]
  },
  {
   "cell_type": "code",
   "execution_count": null,
   "metadata": {},
   "outputs": [],
   "source": []
  }
 ],
 "metadata": {
  "interpreter": {
   "hash": "6ad1a5a807b944b1335f606d031e49130ad1da3a9de40b9fa5d942006ec880ff"
  },
  "kernelspec": {
   "display_name": "Python 3.7.13 ('IRProject')",
   "language": "python",
   "name": "python3"
  },
  "language_info": {
   "codemirror_mode": {
    "name": "ipython",
    "version": 3
   },
   "file_extension": ".py",
   "mimetype": "text/x-python",
   "name": "python",
   "nbconvert_exporter": "python",
   "pygments_lexer": "ipython3",
   "version": "3.7.13"
  },
  "orig_nbformat": 4
 },
 "nbformat": 4,
 "nbformat_minor": 2
}

{
 "cells": [
  {
   "cell_type": "markdown",
   "metadata": {},
   "source": [
    "## distribute data"
   ]
  },
  {
   "cell_type": "code",
   "execution_count": null,
   "metadata": {},
   "outputs": [],
   "source": [
    "CACMDATA = '../../../cacm/cacm.all'\n",
    "CACMQUERY = '../../../cacm/query.text'\n",
    "import re\n",
    "IDMarker = re.compile('(\\.I.)')\n",
    "allMarkers = re.compile('(\\.[ITWBACKNX] )')\n",
    "queryMarkers = re.compile('(\\.[IWAN] )')"
   ]
  },
  {
   "cell_type": "code",
   "execution_count": null,
   "metadata": {},
   "outputs": [],
   "source": [
    "def getData(PATH, marker):\n",
    "    \"\"\"get the data from the file and split it by ID\"\"\"\n",
    "    with open(PATH, 'r') as f:\n",
    "        t = f.read().replace('\\n', ' ')\n",
    "        lines = re.split(marker, t)\n",
    "        lines.pop(0)\n",
    "    return lines"
   ]
  },
  {
   "cell_type": "markdown",
   "metadata": {},
   "source": [
    "### cacm.all"
   ]
  },
  {
   "cell_type": "code",
   "execution_count": null,
   "metadata": {},
   "outputs": [],
   "source": [
    "cacmData = getData(CACMDATA, allMarkers)\n",
    "# cacmQueries = getData(CACMQUERY, IDMarker)"
   ]
  },
  {
   "cell_type": "code",
   "execution_count": null,
   "metadata": {},
   "outputs": [],
   "source": [
    "import pandas as pd\n",
    "dataFrame = pd.DataFrame(columns=['.I','.T','.W','.B','.A','.K','.C','.N','.X'])\n",
    "seriesDict:dict = {\n",
    "    '.I': None,\n",
    "    '.T': None,\n",
    "    '.W': None,\n",
    "    '.B': None,\n",
    "    '.K': None,\n",
    "    '.C': None,\n",
    "    '.A': None,\n",
    "    '.N': None,\n",
    "    '.X': None\n",
    "}\n",
    "seriesData = seriesDict.copy()\n",
    "notTheFirst = False\n",
    "for i in range(0, len(cacmData), 2):\n",
    "    if (notTheFirst and cacmData[i].strip() == '.I'):\n",
    "        dataFrame = dataFrame.append(seriesData, ignore_index=True)\n",
    "        seriesData = seriesDict.copy()\n",
    "    \n",
    "    seriesData[cacmData[i].strip()] = cacmData[i+1].strip()\n",
    "    notTheFirst = True\n",
    "dataFrame = dataFrame.append(seriesData, ignore_index=True)\n",
    "dataFrame.head()"
   ]
  },
  {
   "cell_type": "code",
   "execution_count": null,
   "metadata": {},
   "outputs": [],
   "source": [
    "dataFrame.set_index('.I', inplace=True)\n",
    "dataFrame.loc[:,'.X'] = dataFrame.loc[:, '.X'][0].replace(' ','-')\n",
    "dataFrame.loc[:,'.X'] = dataFrame.loc[:, '.X'][0].replace('\\t', ',')\n",
    "dataFrame.head()"
   ]
  },
  {
   "cell_type": "code",
   "execution_count": null,
   "metadata": {},
   "outputs": [],
   "source": [
    "dataFrame.to_csv('../../cacmData/cacmCsv.csv')"
   ]
  },
  {
   "cell_type": "markdown",
   "metadata": {},
   "source": [
    "### query.text"
   ]
  },
  {
   "cell_type": "code",
   "execution_count": null,
   "metadata": {},
   "outputs": [],
   "source": [
    "cacmQuery = getData(CACMQUERY, queryMarkers)"
   ]
  },
  {
   "cell_type": "code",
   "execution_count": null,
   "metadata": {},
   "outputs": [],
   "source": [
    "import pandas as pd\n",
    "qDataFrame = pd.DataFrame(columns=['.I','.W','.A','.N'])\n",
    "seriesDict:dict = {\n",
    "    '.I': None,\n",
    "    '.W': None,\n",
    "    '.A': None,\n",
    "    '.N': None\n",
    "}\n",
    "seriesData = seriesDict.copy()\n",
    "notTheFirst = False\n",
    "for i in range(0, len(cacmQuery), 2):\n",
    "    if (notTheFirst and cacmQuery[i].strip() == '.I'):\n",
    "        qDataFrame = qDataFrame.append(seriesData, ignore_index=True)\n",
    "        seriesData = seriesDict.copy()\n",
    "    \n",
    "    seriesData[cacmQuery[i].strip()] = cacmQuery[i+1].strip()\n",
    "    notTheFirst = True\n",
    "qDataFrame = qDataFrame.append(seriesData, ignore_index=True)\n",
    "qDataFrame.head()"
   ]
  },
  {
   "cell_type": "code",
   "execution_count": null,
   "metadata": {},
   "outputs": [],
   "source": [
    "qDataFrame.set_index('.I', inplace=True)\n",
    "qDataFrame.to_csv('../../cacmData/cacmQueryCsv.csv')"
   ]
  }
 ],
 "metadata": {
  "interpreter": {
   "hash": "6ad1a5a807b944b1335f606d031e49130ad1da3a9de40b9fa5d942006ec880ff"
  },
  "kernelspec": {
   "display_name": "Python 3.7.13 ('IRProject')",
   "language": "python",
   "name": "python3"
  },
  "language_info": {
   "codemirror_mode": {
    "name": "ipython",
    "version": 3
   },
   "file_extension": ".py",
   "mimetype": "text/x-python",
   "name": "python",
   "nbconvert_exporter": "python",
   "pygments_lexer": "ipython3",
   "version": "3.7.13"
  },
  "orig_nbformat": 4
 },
 "nbformat": 4,
 "nbformat_minor": 2
}

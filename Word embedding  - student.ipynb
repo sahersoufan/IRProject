{
 "cells": [
  {
   "cell_type": "markdown",
   "metadata": {
    "id": "aH4TmEDt23Ga"
   },
   "source": [
    "# Word embedding \n"
   ]
  },
  {
   "cell_type": "code",
   "execution_count": 24,
   "metadata": {
    "id": "mySWz--h23G2",
    "outputId": "4ace7dba-8684-4f56-fd78-25b3ced9833c"
   },
   "outputs": [
    {
     "name": "stdout",
     "output_type": "stream",
     "text": [
      "Molly ate a donut\n",
      "Molly ate a fish\n",
      "Jen consumed a carp\n",
      "Lenny fears the lions\n"
     ]
    }
   ],
   "source": [
    "sentences = [\n",
    "    'Molly ate a donut',\n",
    "    'Molly ate a fish',\n",
    "    'Jen consumed a carp',\n",
    "    'Lenny fears the lions'\n",
    "]\n",
    "\n",
    "print('\\n'.join(sentences))"
   ]
  },
  {
   "cell_type": "markdown",
   "metadata": {
    "id": "sn0h_ffk23G5"
   },
   "source": [
    "**Which pair do you think is the most similar?** Two of them are Molly eating something, while two of them are women eating fish. Lenny is... definitely an outlier. While you weigh the options, let's get analyzing!"
   ]
  },
  {
   "cell_type": "markdown",
   "metadata": {
    "id": "DiboCa6923G8"
   },
   "source": [
    "## Word counting"
   ]
  },
  {
   "cell_type": "code",
   "execution_count": 13,
   "metadata": {
    "id": "6avVVSqh23G_",
    "outputId": "b51ec801-3d48-415f-9a56-c9d75f4d55aa"
   },
   "outputs": [
    {
     "data": {
      "text/html": [
       "<div>\n",
       "<style scoped>\n",
       "    .dataframe tbody tr th:only-of-type {\n",
       "        vertical-align: middle;\n",
       "    }\n",
       "\n",
       "    .dataframe tbody tr th {\n",
       "        vertical-align: top;\n",
       "    }\n",
       "\n",
       "    .dataframe thead th {\n",
       "        text-align: right;\n",
       "    }\n",
       "</style>\n",
       "<table border=\"1\" class=\"dataframe\">\n",
       "  <thead>\n",
       "    <tr style=\"text-align: right;\">\n",
       "      <th></th>\n",
       "      <th>ate</th>\n",
       "      <th>carp</th>\n",
       "      <th>consumed</th>\n",
       "      <th>donut</th>\n",
       "      <th>fears</th>\n",
       "      <th>fish</th>\n",
       "      <th>jen</th>\n",
       "      <th>lenny</th>\n",
       "      <th>lions</th>\n",
       "      <th>molly</th>\n",
       "      <th>the</th>\n",
       "    </tr>\n",
       "  </thead>\n",
       "  <tbody>\n",
       "    <tr>\n",
       "      <th>Molly ate a donut</th>\n",
       "      <td>1</td>\n",
       "      <td>0</td>\n",
       "      <td>0</td>\n",
       "      <td>1</td>\n",
       "      <td>0</td>\n",
       "      <td>0</td>\n",
       "      <td>0</td>\n",
       "      <td>0</td>\n",
       "      <td>0</td>\n",
       "      <td>1</td>\n",
       "      <td>0</td>\n",
       "    </tr>\n",
       "    <tr>\n",
       "      <th>Molly ate a fish</th>\n",
       "      <td>1</td>\n",
       "      <td>0</td>\n",
       "      <td>0</td>\n",
       "      <td>0</td>\n",
       "      <td>0</td>\n",
       "      <td>1</td>\n",
       "      <td>0</td>\n",
       "      <td>0</td>\n",
       "      <td>0</td>\n",
       "      <td>1</td>\n",
       "      <td>0</td>\n",
       "    </tr>\n",
       "    <tr>\n",
       "      <th>Jen consumed a carp</th>\n",
       "      <td>0</td>\n",
       "      <td>1</td>\n",
       "      <td>1</td>\n",
       "      <td>0</td>\n",
       "      <td>0</td>\n",
       "      <td>0</td>\n",
       "      <td>1</td>\n",
       "      <td>0</td>\n",
       "      <td>0</td>\n",
       "      <td>0</td>\n",
       "      <td>0</td>\n",
       "    </tr>\n",
       "    <tr>\n",
       "      <th>Lenny fears the lions</th>\n",
       "      <td>0</td>\n",
       "      <td>0</td>\n",
       "      <td>0</td>\n",
       "      <td>0</td>\n",
       "      <td>1</td>\n",
       "      <td>0</td>\n",
       "      <td>0</td>\n",
       "      <td>1</td>\n",
       "      <td>1</td>\n",
       "      <td>0</td>\n",
       "      <td>1</td>\n",
       "    </tr>\n",
       "  </tbody>\n",
       "</table>\n",
       "</div>"
      ],
      "text/plain": [
       "                       ate  carp  consumed  donut  fears  fish  jen  lenny  \\\n",
       "Molly ate a donut        1     0         0      1      0     0    0      0   \n",
       "Molly ate a fish         1     0         0      0      0     1    0      0   \n",
       "Jen consumed a carp      0     1         1      0      0     0    1      0   \n",
       "Lenny fears the lions    0     0         0      0      1     0    0      1   \n",
       "\n",
       "                       lions  molly  the  \n",
       "Molly ate a donut          0      1    0  \n",
       "Molly ate a fish           0      1    0  \n",
       "Jen consumed a carp        0      0    0  \n",
       "Lenny fears the lions      1      0    1  "
      ]
     },
     "execution_count": 13,
     "metadata": {},
     "output_type": "execute_result"
    }
   ],
   "source": [
    "count_vectorizer = ??"
   ]
  },
  {
   "cell_type": "code",
   "execution_count": 15,
   "metadata": {},
   "outputs": [
    {
     "data": {
      "text/html": [
       "<style  type=\"text/css\" >\n",
       "#T_221155e4_d6eb_11ec_9558_7cb27d073900row0_col0,#T_221155e4_d6eb_11ec_9558_7cb27d073900row1_col1,#T_221155e4_d6eb_11ec_9558_7cb27d073900row2_col2,#T_221155e4_d6eb_11ec_9558_7cb27d073900row3_col3{\n",
       "            background-color:  #023858;\n",
       "            color:  #f1f1f1;\n",
       "        }#T_221155e4_d6eb_11ec_9558_7cb27d073900row0_col1,#T_221155e4_d6eb_11ec_9558_7cb27d073900row1_col0{\n",
       "            background-color:  #5a9ec9;\n",
       "            color:  #000000;\n",
       "        }#T_221155e4_d6eb_11ec_9558_7cb27d073900row0_col2,#T_221155e4_d6eb_11ec_9558_7cb27d073900row0_col3,#T_221155e4_d6eb_11ec_9558_7cb27d073900row1_col2,#T_221155e4_d6eb_11ec_9558_7cb27d073900row1_col3,#T_221155e4_d6eb_11ec_9558_7cb27d073900row2_col0,#T_221155e4_d6eb_11ec_9558_7cb27d073900row2_col1,#T_221155e4_d6eb_11ec_9558_7cb27d073900row2_col3,#T_221155e4_d6eb_11ec_9558_7cb27d073900row3_col0,#T_221155e4_d6eb_11ec_9558_7cb27d073900row3_col1,#T_221155e4_d6eb_11ec_9558_7cb27d073900row3_col2{\n",
       "            background-color:  #fff7fb;\n",
       "            color:  #000000;\n",
       "        }</style><table id=\"T_221155e4_d6eb_11ec_9558_7cb27d073900\" ><thead>    <tr>        <th class=\"blank level0\" ></th>        <th class=\"col_heading level0 col0\" >Molly ate a donut</th>        <th class=\"col_heading level0 col1\" >Molly ate a fish</th>        <th class=\"col_heading level0 col2\" >Jen consumed a carp</th>        <th class=\"col_heading level0 col3\" >Lenny fears the lions</th>    </tr></thead><tbody>\n",
       "                <tr>\n",
       "                        <th id=\"T_221155e4_d6eb_11ec_9558_7cb27d073900level0_row0\" class=\"row_heading level0 row0\" >Molly ate a donut</th>\n",
       "                        <td id=\"T_221155e4_d6eb_11ec_9558_7cb27d073900row0_col0\" class=\"data row0 col0\" >1.000000</td>\n",
       "                        <td id=\"T_221155e4_d6eb_11ec_9558_7cb27d073900row0_col1\" class=\"data row0 col1\" >0.554205</td>\n",
       "                        <td id=\"T_221155e4_d6eb_11ec_9558_7cb27d073900row0_col2\" class=\"data row0 col2\" >0.000000</td>\n",
       "                        <td id=\"T_221155e4_d6eb_11ec_9558_7cb27d073900row0_col3\" class=\"data row0 col3\" >0.000000</td>\n",
       "            </tr>\n",
       "            <tr>\n",
       "                        <th id=\"T_221155e4_d6eb_11ec_9558_7cb27d073900level0_row1\" class=\"row_heading level0 row1\" >Molly ate a fish</th>\n",
       "                        <td id=\"T_221155e4_d6eb_11ec_9558_7cb27d073900row1_col0\" class=\"data row1 col0\" >0.554205</td>\n",
       "                        <td id=\"T_221155e4_d6eb_11ec_9558_7cb27d073900row1_col1\" class=\"data row1 col1\" >1.000000</td>\n",
       "                        <td id=\"T_221155e4_d6eb_11ec_9558_7cb27d073900row1_col2\" class=\"data row1 col2\" >0.000000</td>\n",
       "                        <td id=\"T_221155e4_d6eb_11ec_9558_7cb27d073900row1_col3\" class=\"data row1 col3\" >0.000000</td>\n",
       "            </tr>\n",
       "            <tr>\n",
       "                        <th id=\"T_221155e4_d6eb_11ec_9558_7cb27d073900level0_row2\" class=\"row_heading level0 row2\" >Jen consumed a carp</th>\n",
       "                        <td id=\"T_221155e4_d6eb_11ec_9558_7cb27d073900row2_col0\" class=\"data row2 col0\" >0.000000</td>\n",
       "                        <td id=\"T_221155e4_d6eb_11ec_9558_7cb27d073900row2_col1\" class=\"data row2 col1\" >0.000000</td>\n",
       "                        <td id=\"T_221155e4_d6eb_11ec_9558_7cb27d073900row2_col2\" class=\"data row2 col2\" >1.000000</td>\n",
       "                        <td id=\"T_221155e4_d6eb_11ec_9558_7cb27d073900row2_col3\" class=\"data row2 col3\" >0.000000</td>\n",
       "            </tr>\n",
       "            <tr>\n",
       "                        <th id=\"T_221155e4_d6eb_11ec_9558_7cb27d073900level0_row3\" class=\"row_heading level0 row3\" >Lenny fears the lions</th>\n",
       "                        <td id=\"T_221155e4_d6eb_11ec_9558_7cb27d073900row3_col0\" class=\"data row3 col0\" >0.000000</td>\n",
       "                        <td id=\"T_221155e4_d6eb_11ec_9558_7cb27d073900row3_col1\" class=\"data row3 col1\" >0.000000</td>\n",
       "                        <td id=\"T_221155e4_d6eb_11ec_9558_7cb27d073900row3_col2\" class=\"data row3 col2\" >0.000000</td>\n",
       "                        <td id=\"T_221155e4_d6eb_11ec_9558_7cb27d073900row3_col3\" class=\"data row3 col3\" >1.000000</td>\n",
       "            </tr>\n",
       "    </tbody></table>"
      ],
      "text/plain": [
       "<pandas.io.formats.style.Styler at 0x1bc9e6d2f98>"
      ]
     },
     "execution_count": 15,
     "metadata": {},
     "output_type": "execute_result"
    }
   ],
   "source": [
    "from sklearn.metrics.pairwise import cosine_similarity\n",
    "\n",
    "# Compute the similarities using the word counts\n",
    "similarities = cosine_similarity(matrix)\n",
    "\n",
    "# Make a fancy colored dataframe about it\n",
    "pd.DataFrame(similarities,\n",
    "             index=sentences,\n",
    "             columns=sentences) \\\n",
    "            .style \\\n",
    "            .background_gradient(axis=None)"
   ]
  },
  {
   "cell_type": "markdown",
   "metadata": {},
   "source": [
    "## TF_IDF"
   ]
  },
  {
   "cell_type": "code",
   "execution_count": 27,
   "metadata": {},
   "outputs": [
    {
     "data": {
      "text/html": [
       "<div>\n",
       "<style scoped>\n",
       "    .dataframe tbody tr th:only-of-type {\n",
       "        vertical-align: middle;\n",
       "    }\n",
       "\n",
       "    .dataframe tbody tr th {\n",
       "        vertical-align: top;\n",
       "    }\n",
       "\n",
       "    .dataframe thead th {\n",
       "        text-align: right;\n",
       "    }\n",
       "</style>\n",
       "<table border=\"1\" class=\"dataframe\">\n",
       "  <thead>\n",
       "    <tr style=\"text-align: right;\">\n",
       "      <th></th>\n",
       "      <th>ate</th>\n",
       "      <th>carp</th>\n",
       "      <th>consumed</th>\n",
       "      <th>donut</th>\n",
       "      <th>fears</th>\n",
       "      <th>fish</th>\n",
       "      <th>jen</th>\n",
       "      <th>lenny</th>\n",
       "      <th>lions</th>\n",
       "      <th>molly</th>\n",
       "      <th>the</th>\n",
       "    </tr>\n",
       "  </thead>\n",
       "  <tbody>\n",
       "    <tr>\n",
       "      <th>Molly ate a donut</th>\n",
       "      <td>0.526405</td>\n",
       "      <td>0.00000</td>\n",
       "      <td>0.00000</td>\n",
       "      <td>0.667679</td>\n",
       "      <td>0.0</td>\n",
       "      <td>0.000000</td>\n",
       "      <td>0.00000</td>\n",
       "      <td>0.0</td>\n",
       "      <td>0.0</td>\n",
       "      <td>0.526405</td>\n",
       "      <td>0.0</td>\n",
       "    </tr>\n",
       "    <tr>\n",
       "      <th>Molly ate a fish</th>\n",
       "      <td>0.526405</td>\n",
       "      <td>0.00000</td>\n",
       "      <td>0.00000</td>\n",
       "      <td>0.000000</td>\n",
       "      <td>0.0</td>\n",
       "      <td>0.667679</td>\n",
       "      <td>0.00000</td>\n",
       "      <td>0.0</td>\n",
       "      <td>0.0</td>\n",
       "      <td>0.526405</td>\n",
       "      <td>0.0</td>\n",
       "    </tr>\n",
       "    <tr>\n",
       "      <th>Jen consumed a carp</th>\n",
       "      <td>0.000000</td>\n",
       "      <td>0.57735</td>\n",
       "      <td>0.57735</td>\n",
       "      <td>0.000000</td>\n",
       "      <td>0.0</td>\n",
       "      <td>0.000000</td>\n",
       "      <td>0.57735</td>\n",
       "      <td>0.0</td>\n",
       "      <td>0.0</td>\n",
       "      <td>0.000000</td>\n",
       "      <td>0.0</td>\n",
       "    </tr>\n",
       "    <tr>\n",
       "      <th>Lenny fears the lions</th>\n",
       "      <td>0.000000</td>\n",
       "      <td>0.00000</td>\n",
       "      <td>0.00000</td>\n",
       "      <td>0.000000</td>\n",
       "      <td>0.5</td>\n",
       "      <td>0.000000</td>\n",
       "      <td>0.00000</td>\n",
       "      <td>0.5</td>\n",
       "      <td>0.5</td>\n",
       "      <td>0.000000</td>\n",
       "      <td>0.5</td>\n",
       "    </tr>\n",
       "  </tbody>\n",
       "</table>\n",
       "</div>"
      ],
      "text/plain": [
       "                            ate     carp  consumed     donut  fears      fish  \\\n",
       "Molly ate a donut      0.526405  0.00000   0.00000  0.667679    0.0  0.000000   \n",
       "Molly ate a fish       0.526405  0.00000   0.00000  0.000000    0.0  0.667679   \n",
       "Jen consumed a carp    0.000000  0.57735   0.57735  0.000000    0.0  0.000000   \n",
       "Lenny fears the lions  0.000000  0.00000   0.00000  0.000000    0.5  0.000000   \n",
       "\n",
       "                           jen  lenny  lions     molly  the  \n",
       "Molly ate a donut      0.00000    0.0    0.0  0.526405  0.0  \n",
       "Molly ate a fish       0.00000    0.0    0.0  0.526405  0.0  \n",
       "Jen consumed a carp    0.57735    0.0    0.0  0.000000  0.0  \n",
       "Lenny fears the lions  0.00000    0.5    0.5  0.000000  0.5  "
      ]
     },
     "execution_count": 27,
     "metadata": {},
     "output_type": "execute_result"
    }
   ],
   "source": [
    "tf_idf_vectorizer =  ??"
   ]
  },
  {
   "cell_type": "markdown",
   "metadata": {
    "id": "MrLzLd6l23HC"
   },
   "source": [
    "We'll be measuring similarity via [cosine similarity](https://www.machinelearningplus.com/nlp/cosine-similarity/), a standard measure of similarity in natural language processing. It's similar to how we might look at a graph with points at `(0,0)` and `(2,3)` and measure the distance between them - just a bit more complicated."
   ]
  },
  {
   "cell_type": "code",
   "execution_count": 28,
   "metadata": {
    "id": "WwSbB5eM23HE",
    "outputId": "5efe2aa7-bb98-4a6a-9127-67d508e79fa7"
   },
   "outputs": [
    {
     "data": {
      "text/html": [
       "<style  type=\"text/css\" >\n",
       "#T_e3ce749a_d6eb_11ec_8ebf_7cb27d073900row0_col0,#T_e3ce749a_d6eb_11ec_8ebf_7cb27d073900row1_col1,#T_e3ce749a_d6eb_11ec_8ebf_7cb27d073900row2_col2,#T_e3ce749a_d6eb_11ec_8ebf_7cb27d073900row3_col3{\n",
       "            background-color:  #023858;\n",
       "            color:  #f1f1f1;\n",
       "        }#T_e3ce749a_d6eb_11ec_8ebf_7cb27d073900row0_col1,#T_e3ce749a_d6eb_11ec_8ebf_7cb27d073900row1_col0{\n",
       "            background-color:  #5a9ec9;\n",
       "            color:  #000000;\n",
       "        }#T_e3ce749a_d6eb_11ec_8ebf_7cb27d073900row0_col2,#T_e3ce749a_d6eb_11ec_8ebf_7cb27d073900row0_col3,#T_e3ce749a_d6eb_11ec_8ebf_7cb27d073900row1_col2,#T_e3ce749a_d6eb_11ec_8ebf_7cb27d073900row1_col3,#T_e3ce749a_d6eb_11ec_8ebf_7cb27d073900row2_col0,#T_e3ce749a_d6eb_11ec_8ebf_7cb27d073900row2_col1,#T_e3ce749a_d6eb_11ec_8ebf_7cb27d073900row2_col3,#T_e3ce749a_d6eb_11ec_8ebf_7cb27d073900row3_col0,#T_e3ce749a_d6eb_11ec_8ebf_7cb27d073900row3_col1,#T_e3ce749a_d6eb_11ec_8ebf_7cb27d073900row3_col2{\n",
       "            background-color:  #fff7fb;\n",
       "            color:  #000000;\n",
       "        }</style><table id=\"T_e3ce749a_d6eb_11ec_8ebf_7cb27d073900\" ><thead>    <tr>        <th class=\"blank level0\" ></th>        <th class=\"col_heading level0 col0\" >Molly ate a donut</th>        <th class=\"col_heading level0 col1\" >Molly ate a fish</th>        <th class=\"col_heading level0 col2\" >Jen consumed a carp</th>        <th class=\"col_heading level0 col3\" >Lenny fears the lions</th>    </tr></thead><tbody>\n",
       "                <tr>\n",
       "                        <th id=\"T_e3ce749a_d6eb_11ec_8ebf_7cb27d073900level0_row0\" class=\"row_heading level0 row0\" >Molly ate a donut</th>\n",
       "                        <td id=\"T_e3ce749a_d6eb_11ec_8ebf_7cb27d073900row0_col0\" class=\"data row0 col0\" >1.000000</td>\n",
       "                        <td id=\"T_e3ce749a_d6eb_11ec_8ebf_7cb27d073900row0_col1\" class=\"data row0 col1\" >0.554205</td>\n",
       "                        <td id=\"T_e3ce749a_d6eb_11ec_8ebf_7cb27d073900row0_col2\" class=\"data row0 col2\" >0.000000</td>\n",
       "                        <td id=\"T_e3ce749a_d6eb_11ec_8ebf_7cb27d073900row0_col3\" class=\"data row0 col3\" >0.000000</td>\n",
       "            </tr>\n",
       "            <tr>\n",
       "                        <th id=\"T_e3ce749a_d6eb_11ec_8ebf_7cb27d073900level0_row1\" class=\"row_heading level0 row1\" >Molly ate a fish</th>\n",
       "                        <td id=\"T_e3ce749a_d6eb_11ec_8ebf_7cb27d073900row1_col0\" class=\"data row1 col0\" >0.554205</td>\n",
       "                        <td id=\"T_e3ce749a_d6eb_11ec_8ebf_7cb27d073900row1_col1\" class=\"data row1 col1\" >1.000000</td>\n",
       "                        <td id=\"T_e3ce749a_d6eb_11ec_8ebf_7cb27d073900row1_col2\" class=\"data row1 col2\" >0.000000</td>\n",
       "                        <td id=\"T_e3ce749a_d6eb_11ec_8ebf_7cb27d073900row1_col3\" class=\"data row1 col3\" >0.000000</td>\n",
       "            </tr>\n",
       "            <tr>\n",
       "                        <th id=\"T_e3ce749a_d6eb_11ec_8ebf_7cb27d073900level0_row2\" class=\"row_heading level0 row2\" >Jen consumed a carp</th>\n",
       "                        <td id=\"T_e3ce749a_d6eb_11ec_8ebf_7cb27d073900row2_col0\" class=\"data row2 col0\" >0.000000</td>\n",
       "                        <td id=\"T_e3ce749a_d6eb_11ec_8ebf_7cb27d073900row2_col1\" class=\"data row2 col1\" >0.000000</td>\n",
       "                        <td id=\"T_e3ce749a_d6eb_11ec_8ebf_7cb27d073900row2_col2\" class=\"data row2 col2\" >1.000000</td>\n",
       "                        <td id=\"T_e3ce749a_d6eb_11ec_8ebf_7cb27d073900row2_col3\" class=\"data row2 col3\" >0.000000</td>\n",
       "            </tr>\n",
       "            <tr>\n",
       "                        <th id=\"T_e3ce749a_d6eb_11ec_8ebf_7cb27d073900level0_row3\" class=\"row_heading level0 row3\" >Lenny fears the lions</th>\n",
       "                        <td id=\"T_e3ce749a_d6eb_11ec_8ebf_7cb27d073900row3_col0\" class=\"data row3 col0\" >0.000000</td>\n",
       "                        <td id=\"T_e3ce749a_d6eb_11ec_8ebf_7cb27d073900row3_col1\" class=\"data row3 col1\" >0.000000</td>\n",
       "                        <td id=\"T_e3ce749a_d6eb_11ec_8ebf_7cb27d073900row3_col2\" class=\"data row3 col2\" >0.000000</td>\n",
       "                        <td id=\"T_e3ce749a_d6eb_11ec_8ebf_7cb27d073900row3_col3\" class=\"data row3 col3\" >1.000000</td>\n",
       "            </tr>\n",
       "    </tbody></table>"
      ],
      "text/plain": [
       "<pandas.io.formats.style.Styler at 0x1bca02d3f98>"
      ]
     },
     "execution_count": 28,
     "metadata": {},
     "output_type": "execute_result"
    }
   ],
   "source": [
    "from sklearn.metrics.pairwise import cosine_similarity\n",
    "\n",
    "# Compute the similarities using the word counts\n",
    "similarities = cosine_similarity(matrix2)\n",
    "\n",
    "# Make a fancy colored dataframe about it\n",
    "pd.DataFrame(similarities,\n",
    "             index=sentences,\n",
    "             columns=sentences) \\\n",
    "            .style \\\n",
    "            .background_gradient(axis=None)"
   ]
  },
  {
   "cell_type": "markdown",
   "metadata": {
    "id": "0yrZ8qdf23HG"
   },
   "source": [
    "Document similarity is on a scale of zero to one, with zero being completely dissimilar and one being an exact match. Each sentence has a `1` when compared to itself - they're totally equal!\n",
    "\n",
    "* \"Molly ate a donut\" and \"Molly ate a fish\" are both pretty similar - over half - since there's only one word that's different between the two.\n",
    "* \"Jen consumed a carp\" only has the nigh-useless \"a\" in common with them, so it has a similarity score of 0 to both of the others.\n",
    "* Lenny's sentence also has no shared words with anything else. Nor any topics in common, although it doesn't matter right now.\n",
    "\n",
    "In our brains, though, _consumed_ means just about the same thing as _ate_. And a carp is a kind of fish, right? **If only there were some way of teaching a computer the meaning behind words!**"
   ]
  },
  {
   "cell_type": "markdown",
   "metadata": {
    "id": "fYa1Ci3823HK"
   },
   "source": [
    "## Word embeddings\n",
    "\n",
    "Word embeddings are a step up from just counting words. Word embeddings give words _meaning_ to computers, teaching it that puppies are kind of like kittens, kittens are like cats, and shoes are very very different from all of those animals.\n",
    "\n",
    "We're going to be using the [spaCy word embeddings](https://spacy.io/usage/vectors-similarity/). Each word comes with a **300-dimension vector** that expresses things like how catlike the word is, whether you can wear it, if it's something people do during a basketball game (not those exactly, but the same idea). Think of it like 300 different scores for each word, all in different categories.\n"
   ]
  },
  {
   "cell_type": "code",
   "execution_count": 6,
   "metadata": {
    "id": "goCT6M-t23HM"
   },
   "outputs": [],
   "source": [
    "import spacy\n",
    "\n",
    "nlp = spacy.load(\"en_core_web_sm\")"
   ]
  },
  {
   "cell_type": "markdown",
   "metadata": {
    "id": "zsLFR3d223HN"
   },
   "source": [
    "For example, let's check out the 300 dimensions of facts and feelings that spaCy knows about the word `cat`."
   ]
  },
  {
   "cell_type": "code",
   "execution_count": 7,
   "metadata": {
    "id": "UOlTQNwx23HO",
    "outputId": "d89e19ad-9565-4dd1-ae0b-4753df5314dd"
   },
   "outputs": [
    {
     "data": {
      "text/plain": [
       "array([ 1.0514209 ,  0.34937912, -0.6064172 , -0.03143853, -0.25396183,\n",
       "        0.25881147, -0.9598677 , -0.3540864 , -1.3083378 ,  0.8775649 ,\n",
       "       -1.0778348 ,  0.36540714,  1.1036501 ,  0.22029386,  0.2998408 ,\n",
       "        0.58526474,  0.08069035, -0.27865058,  0.5414338 ,  0.3210649 ,\n",
       "        0.10975   , -0.63044214,  0.33942896, -1.057714  ,  0.80867803,\n",
       "        0.70948964, -1.399974  , -1.0233183 ,  0.0383337 , -0.91863513,\n",
       "        1.761926  , -1.2162635 ,  0.12481023,  0.25336656,  0.35139418,\n",
       "       -1.8781887 , -0.32565773, -0.0695347 , -1.23301   ,  1.0268142 ,\n",
       "       -0.74936724, -0.3522537 ,  0.6714414 ,  0.95270234, -0.8937878 ,\n",
       "       -0.11669561, -0.20789865, -0.41127247,  1.1127558 , -0.02335785,\n",
       "       -0.613902  ,  0.19115907, -0.48181045, -0.31004375, -0.01746552,\n",
       "        0.513177  , -0.5450033 ,  0.25294054,  0.44701692,  0.18349233,\n",
       "       -0.2334654 ,  0.29693076, -0.00564367, -1.1410292 ,  0.20844807,\n",
       "       -0.08538185, -0.19233677,  0.77854466,  0.4607009 , -0.5023302 ,\n",
       "        0.5127648 , -0.83016324, -1.1524533 ,  0.19231802,  0.66356254,\n",
       "       -0.7837304 , -0.07281198,  1.5226424 ,  0.322135  , -0.36281493,\n",
       "        1.5206568 , -0.30466127,  0.05295923,  1.7449316 , -0.39685014,\n",
       "        0.59047425,  0.28465962,  0.46107444, -0.5039648 ,  0.24812411,\n",
       "       -1.1255158 ,  0.02264803, -0.44342327, -0.12114905,  0.32643902,\n",
       "       -0.1912733 ], dtype=float32)"
      ]
     },
     "execution_count": 7,
     "metadata": {},
     "output_type": "execute_result"
    }
   ],
   "source": [
    "nlp('cat').vector"
   ]
  },
  {
   "cell_type": "code",
   "execution_count": 8,
   "metadata": {
    "id": "P5gZt40v23HQ",
    "outputId": "d870f9e8-d2e2-4671-aa8f-52610b27342a"
   },
   "outputs": [
    {
     "data": {
      "text/plain": [
       "array([-0.21850875, -0.182483  ,  0.39083776, -0.1519959 ,  0.38807243,\n",
       "        0.0996739 , -0.56210274,  0.05712489,  0.46235996,  0.27945736,\n",
       "       -0.03844428, -0.32904378, -0.3669289 , -0.37070793,  0.49637154,\n",
       "        0.21949227,  0.59886414, -0.41467664,  0.01052142, -0.16370185,\n",
       "       -0.28307548, -0.04534994, -0.35103294,  0.21465214, -0.24565716,\n",
       "       -0.23907171, -0.31155214, -0.4792877 , -0.20790543, -0.4090588 ,\n",
       "        0.12671374,  0.14905728,  0.22306387, -0.09149681,  0.0970765 ,\n",
       "       -0.8155504 , -0.11731967, -0.06842994,  0.04897319, -0.23037854,\n",
       "       -0.1394358 ,  0.01630883,  0.74178326, -0.2942308 ,  0.3700109 ,\n",
       "       -0.6087653 ,  0.54290015,  0.01858242,  0.32218716, -0.18664262,\n",
       "        0.4828271 , -0.34867483,  0.16468588, -0.41301322, -0.21643408,\n",
       "        0.36265677,  0.4309161 ,  0.24136345,  0.19377467,  0.01774977,\n",
       "       -0.20550406,  0.42326966, -0.1071355 , -0.17926626, -0.16798452,\n",
       "       -0.08023013, -0.05092272, -0.379553  , -0.26245686, -0.57802075,\n",
       "       -0.02209335, -0.13789202,  0.8101424 ,  0.39958763, -0.31637377,\n",
       "       -0.46995285,  0.00650995, -0.16828044,  0.28062946, -0.09645097,\n",
       "        0.07914037, -0.3350758 ,  0.44099316,  0.24548599,  0.22078145,\n",
       "       -0.07420667, -0.09308487,  0.74134856, -0.5004988 ,  1.0862436 ,\n",
       "        0.05127794,  0.34264335, -0.04175376,  0.4501188 , -0.39584738,\n",
       "        0.05990767], dtype=float32)"
      ]
     },
     "execution_count": 8,
     "metadata": {},
     "output_type": "execute_result"
    }
   ],
   "source": [
    "nlp('Some people have never eaten a taco').vector"
   ]
  },
  {
   "cell_type": "markdown",
   "metadata": {
    "id": "sCYtMX9b23HR"
   },
   "source": [
    "In order to find the similarity of each of our sentences, we'll need to conver them each into vectors."
   ]
  },
  {
   "cell_type": "code",
   "execution_count": 9,
   "metadata": {
    "id": "IkRc5v-b23HS",
    "outputId": "91304bb5-b3c2-499d-d37b-b64ed9169c8d"
   },
   "outputs": [
    {
     "name": "stdout",
     "output_type": "stream",
     "text": [
      "We have 4 different vectors\n",
      "And the first one has 96 measurements\n",
      "And the second one has 96 measurements\n",
      "And the third one has 96 measurements\n",
      "And the fourth one has 96 measurements\n"
     ]
    }
   ],
   "source": [
    "# We aren't printing this because it's 3 * 300 = 900 numbers\n",
    "vectors = [nlp(sentence).vector for sentence in sentences]\n",
    "\n",
    "# Print out some notes about it\n",
    "print(\"We have\", len(vectors), \"different vectors\")\n",
    "print(\"And the first one has\", len(vectors[0]), \"measurements\")\n",
    "print(\"And the second one has\", len(vectors[1]), \"measurements\")\n",
    "print(\"And the third one has\", len(vectors[2]), \"measurements\")\n",
    "print(\"And the fourth one has\", len(vectors[3]), \"measurements\")"
   ]
  },
  {
   "cell_type": "markdown",
   "metadata": {
    "id": "_obMDntn23HT"
   },
   "source": [
    "It might be useful to compare these 300 measurements-per-sentence to what we were doing before. If we look back to when we were doing similarity by counting words, we only had **eleven measurements for each sentence: one count for every unique word.**"
   ]
  },
  {
   "cell_type": "code",
   "execution_count": 10,
   "metadata": {
    "id": "BUms1m3S23HT",
    "outputId": "387f222e-c22e-4e3a-a5a0-d5179ffb0746"
   },
   "outputs": [
    {
     "data": {
      "text/html": [
       "<div>\n",
       "<style scoped>\n",
       "    .dataframe tbody tr th:only-of-type {\n",
       "        vertical-align: middle;\n",
       "    }\n",
       "\n",
       "    .dataframe tbody tr th {\n",
       "        vertical-align: top;\n",
       "    }\n",
       "\n",
       "    .dataframe thead th {\n",
       "        text-align: right;\n",
       "    }\n",
       "</style>\n",
       "<table border=\"1\" class=\"dataframe\">\n",
       "  <thead>\n",
       "    <tr style=\"text-align: right;\">\n",
       "      <th></th>\n",
       "      <th>ate</th>\n",
       "      <th>carp</th>\n",
       "      <th>consumed</th>\n",
       "      <th>donut</th>\n",
       "      <th>fears</th>\n",
       "      <th>fish</th>\n",
       "      <th>jen</th>\n",
       "      <th>lenny</th>\n",
       "      <th>lions</th>\n",
       "      <th>molly</th>\n",
       "      <th>the</th>\n",
       "    </tr>\n",
       "  </thead>\n",
       "  <tbody>\n",
       "    <tr>\n",
       "      <th>Molly ate a donut</th>\n",
       "      <td>1</td>\n",
       "      <td>0</td>\n",
       "      <td>0</td>\n",
       "      <td>1</td>\n",
       "      <td>0</td>\n",
       "      <td>0</td>\n",
       "      <td>0</td>\n",
       "      <td>0</td>\n",
       "      <td>0</td>\n",
       "      <td>1</td>\n",
       "      <td>0</td>\n",
       "    </tr>\n",
       "    <tr>\n",
       "      <th>Molly ate a fish</th>\n",
       "      <td>1</td>\n",
       "      <td>0</td>\n",
       "      <td>0</td>\n",
       "      <td>0</td>\n",
       "      <td>0</td>\n",
       "      <td>1</td>\n",
       "      <td>0</td>\n",
       "      <td>0</td>\n",
       "      <td>0</td>\n",
       "      <td>1</td>\n",
       "      <td>0</td>\n",
       "    </tr>\n",
       "    <tr>\n",
       "      <th>Jen consumed a carp</th>\n",
       "      <td>0</td>\n",
       "      <td>1</td>\n",
       "      <td>1</td>\n",
       "      <td>0</td>\n",
       "      <td>0</td>\n",
       "      <td>0</td>\n",
       "      <td>1</td>\n",
       "      <td>0</td>\n",
       "      <td>0</td>\n",
       "      <td>0</td>\n",
       "      <td>0</td>\n",
       "    </tr>\n",
       "    <tr>\n",
       "      <th>Lenny fears the lions</th>\n",
       "      <td>0</td>\n",
       "      <td>0</td>\n",
       "      <td>0</td>\n",
       "      <td>0</td>\n",
       "      <td>1</td>\n",
       "      <td>0</td>\n",
       "      <td>0</td>\n",
       "      <td>1</td>\n",
       "      <td>1</td>\n",
       "      <td>0</td>\n",
       "      <td>1</td>\n",
       "    </tr>\n",
       "  </tbody>\n",
       "</table>\n",
       "</div>"
      ],
      "text/plain": [
       "                       ate  carp  consumed  donut  fears  fish  jen  lenny  \\\n",
       "Molly ate a donut        1     0         0      1      0     0    0      0   \n",
       "Molly ate a fish         1     0         0      0      0     1    0      0   \n",
       "Jen consumed a carp      0     1         1      0      0     0    1      0   \n",
       "Lenny fears the lions    0     0         0      0      1     0    0      1   \n",
       "\n",
       "                       lions  molly  the  \n",
       "Molly ate a donut          0      1    0  \n",
       "Molly ate a fish           0      1    0  \n",
       "Jen consumed a carp        0      0    0  \n",
       "Lenny fears the lions      1      0    1  "
      ]
     },
     "execution_count": 10,
     "metadata": {},
     "output_type": "execute_result"
    }
   ],
   "source": [
    "counts"
   ]
  },
  {
   "cell_type": "code",
   "execution_count": 11,
   "metadata": {
    "id": "mn0Z08Lx23HV",
    "outputId": "ccdc9e85-904d-4382-98fd-85859fdb3114"
   },
   "outputs": [
    {
     "data": {
      "text/html": [
       "<style  type=\"text/css\" >\n",
       "#T_ee976378_d6ea_11ec_a39f_7cb27d073900row0_col0,#T_ee976378_d6ea_11ec_a39f_7cb27d073900row1_col1,#T_ee976378_d6ea_11ec_a39f_7cb27d073900row2_col2,#T_ee976378_d6ea_11ec_a39f_7cb27d073900row3_col3{\n",
       "            background-color:  #023858;\n",
       "            color:  #f1f1f1;\n",
       "        }#T_ee976378_d6ea_11ec_a39f_7cb27d073900row0_col1,#T_ee976378_d6ea_11ec_a39f_7cb27d073900row1_col0{\n",
       "            background-color:  #046097;\n",
       "            color:  #f1f1f1;\n",
       "        }#T_ee976378_d6ea_11ec_a39f_7cb27d073900row0_col2,#T_ee976378_d6ea_11ec_a39f_7cb27d073900row2_col0{\n",
       "            background-color:  #8cb3d5;\n",
       "            color:  #000000;\n",
       "        }#T_ee976378_d6ea_11ec_a39f_7cb27d073900row0_col3,#T_ee976378_d6ea_11ec_a39f_7cb27d073900row3_col0{\n",
       "            background-color:  #dddbec;\n",
       "            color:  #000000;\n",
       "        }#T_ee976378_d6ea_11ec_a39f_7cb27d073900row1_col2,#T_ee976378_d6ea_11ec_a39f_7cb27d073900row2_col1{\n",
       "            background-color:  #88b1d4;\n",
       "            color:  #000000;\n",
       "        }#T_ee976378_d6ea_11ec_a39f_7cb27d073900row1_col3,#T_ee976378_d6ea_11ec_a39f_7cb27d073900row3_col1{\n",
       "            background-color:  #a4bcda;\n",
       "            color:  #000000;\n",
       "        }#T_ee976378_d6ea_11ec_a39f_7cb27d073900row2_col3,#T_ee976378_d6ea_11ec_a39f_7cb27d073900row3_col2{\n",
       "            background-color:  #fff7fb;\n",
       "            color:  #000000;\n",
       "        }</style><table id=\"T_ee976378_d6ea_11ec_a39f_7cb27d073900\" ><thead>    <tr>        <th class=\"blank level0\" ></th>        <th class=\"col_heading level0 col0\" >Molly ate a donut</th>        <th class=\"col_heading level0 col1\" >Molly ate a fish</th>        <th class=\"col_heading level0 col2\" >Jen consumed a carp</th>        <th class=\"col_heading level0 col3\" >Lenny fears the lions</th>    </tr></thead><tbody>\n",
       "                <tr>\n",
       "                        <th id=\"T_ee976378_d6ea_11ec_a39f_7cb27d073900level0_row0\" class=\"row_heading level0 row0\" >Molly ate a donut</th>\n",
       "                        <td id=\"T_ee976378_d6ea_11ec_a39f_7cb27d073900row0_col0\" class=\"data row0 col0\" >1.000000</td>\n",
       "                        <td id=\"T_ee976378_d6ea_11ec_a39f_7cb27d073900row0_col1\" class=\"data row0 col1\" >0.906917</td>\n",
       "                        <td id=\"T_ee976378_d6ea_11ec_a39f_7cb27d073900row0_col2\" class=\"data row0 col2\" >0.680188</td>\n",
       "                        <td id=\"T_ee976378_d6ea_11ec_a39f_7cb27d073900row0_col3\" class=\"data row0 col3\" >0.541068</td>\n",
       "            </tr>\n",
       "            <tr>\n",
       "                        <th id=\"T_ee976378_d6ea_11ec_a39f_7cb27d073900level0_row1\" class=\"row_heading level0 row1\" >Molly ate a fish</th>\n",
       "                        <td id=\"T_ee976378_d6ea_11ec_a39f_7cb27d073900row1_col0\" class=\"data row1 col0\" >0.906917</td>\n",
       "                        <td id=\"T_ee976378_d6ea_11ec_a39f_7cb27d073900row1_col1\" class=\"data row1 col1\" >1.000000</td>\n",
       "                        <td id=\"T_ee976378_d6ea_11ec_a39f_7cb27d073900row1_col2\" class=\"data row1 col2\" >0.686074</td>\n",
       "                        <td id=\"T_ee976378_d6ea_11ec_a39f_7cb27d073900row1_col3\" class=\"data row1 col3\" >0.647270</td>\n",
       "            </tr>\n",
       "            <tr>\n",
       "                        <th id=\"T_ee976378_d6ea_11ec_a39f_7cb27d073900level0_row2\" class=\"row_heading level0 row2\" >Jen consumed a carp</th>\n",
       "                        <td id=\"T_ee976378_d6ea_11ec_a39f_7cb27d073900row2_col0\" class=\"data row2 col0\" >0.680188</td>\n",
       "                        <td id=\"T_ee976378_d6ea_11ec_a39f_7cb27d073900row2_col1\" class=\"data row2 col1\" >0.686074</td>\n",
       "                        <td id=\"T_ee976378_d6ea_11ec_a39f_7cb27d073900row2_col2\" class=\"data row2 col2\" >1.000000</td>\n",
       "                        <td id=\"T_ee976378_d6ea_11ec_a39f_7cb27d073900row2_col3\" class=\"data row2 col3\" >0.429788</td>\n",
       "            </tr>\n",
       "            <tr>\n",
       "                        <th id=\"T_ee976378_d6ea_11ec_a39f_7cb27d073900level0_row3\" class=\"row_heading level0 row3\" >Lenny fears the lions</th>\n",
       "                        <td id=\"T_ee976378_d6ea_11ec_a39f_7cb27d073900row3_col0\" class=\"data row3 col0\" >0.541068</td>\n",
       "                        <td id=\"T_ee976378_d6ea_11ec_a39f_7cb27d073900row3_col1\" class=\"data row3 col1\" >0.647270</td>\n",
       "                        <td id=\"T_ee976378_d6ea_11ec_a39f_7cb27d073900row3_col2\" class=\"data row3 col2\" >0.429788</td>\n",
       "                        <td id=\"T_ee976378_d6ea_11ec_a39f_7cb27d073900row3_col3\" class=\"data row3 col3\" >1.000000</td>\n",
       "            </tr>\n",
       "    </tbody></table>"
      ],
      "text/plain": [
       "<pandas.io.formats.style.Styler at 0x1bc9e685978>"
      ]
     },
     "execution_count": 11,
     "metadata": {},
     "output_type": "execute_result"
    }
   ],
   "source": [
    "# Compute similarities\n",
    "similarities = cosine_similarity(vectors)\n",
    "\n",
    "# Turn into a dataframe\n",
    "pd.DataFrame(similarities,\n",
    "            index=sentences,\n",
    "            columns=sentences) \\\n",
    "            .style \\\n",
    "            .background_gradient(axis=None)"
   ]
  }
 ],
 "metadata": {
  "colab": {
   "name": "Document similarity using word embeddings.ipynb",
   "provenance": []
  },
  "kernelspec": {
   "display_name": "Python 3",
   "language": "python",
   "name": "python3"
  },
  "language_info": {
   "codemirror_mode": {
    "name": "ipython",
    "version": 3
   },
   "file_extension": ".py",
   "mimetype": "text/x-python",
   "name": "python",
   "nbconvert_exporter": "python",
   "pygments_lexer": "ipython3",
   "version": "3.6.5"
  },
  "toc": {
   "base_numbering": 1,
   "nav_menu": {},
   "number_sections": true,
   "sideBar": true,
   "skip_h1_title": false,
   "title_cell": "Table of Contents",
   "title_sidebar": "Contents",
   "toc_cell": false,
   "toc_position": {},
   "toc_section_display": true,
   "toc_window_display": false
  }
 },
 "nbformat": 4,
 "nbformat_minor": 1
}
